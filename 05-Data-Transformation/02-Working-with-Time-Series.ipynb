{
 "cells": [
  {
   "cell_type": "markdown",
   "metadata": {},
   "source": [
    "# Working with Time Series"
   ]
  },
  {
   "cell_type": "markdown",
   "metadata": {},
   "source": [
    "Pandas was developed in the context of financial modeling, so as you might expect, it contains a fairly extensive set of tools for working with dates, times, and time-indexed data.\n",
    "Date and time data comes in a few flavors, which we will discuss here:\n",
    "\n",
    "- *Time stamps* reference particular moments in time (e.g., July 4th, 2015 at 7:00am).\n",
    "- *Time intervals* and *periods* reference a length of time between a particular beginning and end point; for example, the year 2015. Periods usually reference a special case of time intervals in which each interval is of uniform length and does not overlap (e.g., 24 hour-long periods comprising days).\n",
    "- *Time deltas* or *durations* reference an exact length of time (e.g., a duration of 22.56 seconds).\n",
    "\n",
    "In this section, we will introduce how to work with each of these types of date/time data in Pandas.\n",
    "This short section is by no means a complete guide to the time series tools available in Python or Pandas, but instead is intended as a broad overview of how you as a user should approach working with time series."
   ]
  },
  {
   "cell_type": "markdown",
   "metadata": {},
   "source": [
    "## Dates and Times in Python\n",
    "\n",
    "The Python world has a number of available representations of dates, times, deltas, and timespans.\n",
    "The time series tools provided by Pandas tend to be the most useful for data science applications and we will focus on those here."
   ]
  },
  {
   "cell_type": "code",
   "execution_count": 1,
   "metadata": {
    "collapsed": false,
    "jupyter": {
     "outputs_hidden": false
    }
   },
   "outputs": [],
   "source": [
    "import pandas as pd\n",
    "import numpy as np\n",
    "\n",
    "%matplotlib inline\n",
    "import matplotlib.pyplot as plt\n",
    "import seaborn as sns "
   ]
  },
  {
   "cell_type": "markdown",
   "metadata": {},
   "source": [
    "## Pandas Time Series: Indexing by Time\n",
    "\n",
    "Where the Pandas time series tools really become useful is when you begin to *index data by timestamps*.\n",
    "For example, we can construct a ``Series`` object that has time indexed data:"
   ]
  },
  {
   "cell_type": "code",
   "execution_count": 2,
   "metadata": {
    "collapsed": false,
    "jupyter": {
     "outputs_hidden": false
    }
   },
   "outputs": [
    {
     "data": {
      "text/plain": [
       "2014-07-04    0\n",
       "2014-08-04    1\n",
       "2015-07-04    2\n",
       "2015-08-04    3\n",
       "dtype: int64"
      ]
     },
     "execution_count": 2,
     "metadata": {},
     "output_type": "execute_result"
    }
   ],
   "source": [
    "index = pd.DatetimeIndex(['2014-07-04', '2014-08-04',\n",
    "                          '2015-07-04', '2015-08-04'])\n",
    "data = pd.Series([0, 1, 2, 3], index=index)\n",
    "data"
   ]
  },
  {
   "cell_type": "markdown",
   "metadata": {},
   "source": [
    "Now that we have this data in a ``Series``, we can make use of any of the ``Series`` indexing patterns we discussed in previous sections, passing values that can be coerced into dates:"
   ]
  },
  {
   "cell_type": "code",
   "execution_count": 3,
   "metadata": {
    "collapsed": false,
    "jupyter": {
     "outputs_hidden": false
    }
   },
   "outputs": [
    {
     "data": {
      "text/plain": [
       "2014-07-04    0\n",
       "2014-08-04    1\n",
       "2015-07-04    2\n",
       "dtype: int64"
      ]
     },
     "execution_count": 3,
     "metadata": {},
     "output_type": "execute_result"
    }
   ],
   "source": [
    "data['2014-07-04':'2015-07-04']"
   ]
  },
  {
   "cell_type": "markdown",
   "metadata": {},
   "source": [
    "There are additional special date-only indexing operations, such as passing a year to obtain a slice of all data from that year:"
   ]
  },
  {
   "cell_type": "code",
   "execution_count": 4,
   "metadata": {
    "collapsed": false,
    "jupyter": {
     "outputs_hidden": false
    }
   },
   "outputs": [
    {
     "data": {
      "text/plain": [
       "2015-07-04    2\n",
       "2015-08-04    3\n",
       "dtype: int64"
      ]
     },
     "execution_count": 4,
     "metadata": {},
     "output_type": "execute_result"
    }
   ],
   "source": [
    "data['2015']"
   ]
  },
  {
   "cell_type": "markdown",
   "metadata": {},
   "source": [
    "Later, we will see additional examples of the convenience of dates-as-indices.\n",
    "But first, a closer look at the available time series data structures."
   ]
  },
  {
   "cell_type": "markdown",
   "metadata": {},
   "source": [
    "## Pandas Time Series Data Structures\n",
    "\n",
    "This section will introduce the fundamental Pandas data structures for working with time series data:\n",
    "\n",
    "- For *time stamps*, Pandas provides the ``Timestamp`` type. The associated Index structure is ``DatetimeIndex``.\n",
    "- For *time Periods*, Pandas provides the ``Period`` type. This encodes a fixed-frequency interval based on ``numpy.datetime64``. The associated index structure is ``PeriodIndex``.\n",
    "- For *time deltas* or *durations*, Pandas provides the ``Timedelta`` type. ``Timedelta`` is a more efficient replacement for Python's native ``datetime.timedelta`` type, and is based on ``numpy.timedelta64``. The associated index structure is ``TimedeltaIndex``."
   ]
  },
  {
   "cell_type": "markdown",
   "metadata": {},
   "source": [
    "The most fundamental of these date/time objects are the ``Timestamp`` and ``DatetimeIndex`` objects.\n",
    "While these class objects can be invoked directly, it is more common to use the ``pd.to_datetime()`` function, which can parse a wide variety of formats.\n",
    "Passing a single date to ``pd.to_datetime()`` yields a ``Timestamp``; passing a series of dates by default yields a ``DatetimeIndex``:"
   ]
  },
  {
   "cell_type": "code",
   "execution_count": 5,
   "metadata": {
    "collapsed": false,
    "jupyter": {
     "outputs_hidden": false
    }
   },
   "outputs": [
    {
     "data": {
      "text/plain": [
       "DatetimeIndex(['2019-07-04', '2019-07-05', '2019-07-06', '2019-07-07'], dtype='datetime64[ns]', freq=None)"
      ]
     },
     "execution_count": 5,
     "metadata": {},
     "output_type": "execute_result"
    }
   ],
   "source": [
    "dates = pd.to_datetime(['4th of July, 2019', '2019-Jul-5',\n",
    "                        '07-06-2019', '20190707'])\n",
    "dates"
   ]
  },
  {
   "cell_type": "markdown",
   "metadata": {},
   "source": [
    "A ``TimedeltaIndex`` is created, for example, when a date is subtracted from another:"
   ]
  },
  {
   "cell_type": "code",
   "execution_count": 6,
   "metadata": {
    "collapsed": false,
    "jupyter": {
     "outputs_hidden": false
    }
   },
   "outputs": [
    {
     "data": {
      "text/plain": [
       "TimedeltaIndex(['0 days', '1 days', '2 days', '3 days'], dtype='timedelta64[ns]', freq=None)"
      ]
     },
     "execution_count": 6,
     "metadata": {},
     "output_type": "execute_result"
    }
   ],
   "source": [
    "dates - dates[0]"
   ]
  },
  {
   "cell_type": "markdown",
   "metadata": {},
   "source": [
    "## Resampling, Shifting, and Windowing\n",
    "\n",
    "The ability to use dates and times as indices to intuitively organize and access data is an important piece of the Pandas time series tools.\n",
    "The benefits of indexed data in general (automatic alignment during operations, intuitive data slicing and access, etc.) still apply, and Pandas provides several additional time series-specific operations.\n",
    "\n",
    "We will take a look at a few of those here, using some stock price data as an example.\n",
    "Because Pandas was developed largely in a finance context, it includes some very specific tools for financial data.\n",
    "\n",
    "Here we will load GOOG's history:"
   ]
  },
  {
   "cell_type": "code",
   "execution_count": 7,
   "metadata": {},
   "outputs": [
    {
     "name": "stdout",
     "output_type": "stream",
     "text": [
      "There are 3683 rows and 6 columns in this DataFrame.\n"
     ]
    }
   ],
   "source": [
    "url = 'https://raw.githubusercontent.com/soltaniehha/Business-Analytics/master/data/GOOGL.csv'\n",
    "\n",
    "googl = pd.read_csv(url, parse_dates=True, index_col= 'Date')\n",
    "\n",
    "print(\"There are {} rows and {} columns in this DataFrame.\".format(googl.shape[0], googl.shape[1]))"
   ]
  },
  {
   "cell_type": "code",
   "execution_count": 8,
   "metadata": {
    "collapsed": false,
    "jupyter": {
     "outputs_hidden": false
    }
   },
   "outputs": [
    {
     "data": {
      "text/html": [
       "<div>\n",
       "<style scoped>\n",
       "    .dataframe tbody tr th:only-of-type {\n",
       "        vertical-align: middle;\n",
       "    }\n",
       "\n",
       "    .dataframe tbody tr th {\n",
       "        vertical-align: top;\n",
       "    }\n",
       "\n",
       "    .dataframe thead th {\n",
       "        text-align: right;\n",
       "    }\n",
       "</style>\n",
       "<table border=\"1\" class=\"dataframe\">\n",
       "  <thead>\n",
       "    <tr style=\"text-align: right;\">\n",
       "      <th></th>\n",
       "      <th>High</th>\n",
       "      <th>Low</th>\n",
       "      <th>Open</th>\n",
       "      <th>Close</th>\n",
       "      <th>Volume</th>\n",
       "      <th>Adj Close</th>\n",
       "    </tr>\n",
       "    <tr>\n",
       "      <th>Date</th>\n",
       "      <th></th>\n",
       "      <th></th>\n",
       "      <th></th>\n",
       "      <th></th>\n",
       "      <th></th>\n",
       "      <th></th>\n",
       "    </tr>\n",
       "  </thead>\n",
       "  <tbody>\n",
       "    <tr>\n",
       "      <th>2019-04-01</th>\n",
       "      <td>1200.199951</td>\n",
       "      <td>1186.359985</td>\n",
       "      <td>1187.540039</td>\n",
       "      <td>1198.979980</td>\n",
       "      <td>1385300.0</td>\n",
       "      <td>1198.979980</td>\n",
       "    </tr>\n",
       "    <tr>\n",
       "      <th>2019-04-02</th>\n",
       "      <td>1205.810059</td>\n",
       "      <td>1191.239990</td>\n",
       "      <td>1200.050049</td>\n",
       "      <td>1205.540039</td>\n",
       "      <td>914400.0</td>\n",
       "      <td>1205.540039</td>\n",
       "    </tr>\n",
       "    <tr>\n",
       "      <th>2019-04-03</th>\n",
       "      <td>1220.599976</td>\n",
       "      <td>1205.079956</td>\n",
       "      <td>1212.699951</td>\n",
       "      <td>1210.810059</td>\n",
       "      <td>1109600.0</td>\n",
       "      <td>1210.810059</td>\n",
       "    </tr>\n",
       "    <tr>\n",
       "      <th>2019-04-04</th>\n",
       "      <td>1220.550049</td>\n",
       "      <td>1209.040039</td>\n",
       "      <td>1211.290039</td>\n",
       "      <td>1219.449951</td>\n",
       "      <td>1049200.0</td>\n",
       "      <td>1219.449951</td>\n",
       "    </tr>\n",
       "    <tr>\n",
       "      <th>2019-04-05</th>\n",
       "      <td>1220.390015</td>\n",
       "      <td>1210.030029</td>\n",
       "      <td>1219.300049</td>\n",
       "      <td>1211.449951</td>\n",
       "      <td>1001044.0</td>\n",
       "      <td>1211.449951</td>\n",
       "    </tr>\n",
       "  </tbody>\n",
       "</table>\n",
       "</div>"
      ],
      "text/plain": [
       "                   High          Low         Open        Close     Volume  \\\n",
       "Date                                                                        \n",
       "2019-04-01  1200.199951  1186.359985  1187.540039  1198.979980  1385300.0   \n",
       "2019-04-02  1205.810059  1191.239990  1200.050049  1205.540039   914400.0   \n",
       "2019-04-03  1220.599976  1205.079956  1212.699951  1210.810059  1109600.0   \n",
       "2019-04-04  1220.550049  1209.040039  1211.290039  1219.449951  1049200.0   \n",
       "2019-04-05  1220.390015  1210.030029  1219.300049  1211.449951  1001044.0   \n",
       "\n",
       "              Adj Close  \n",
       "Date                     \n",
       "2019-04-01  1198.979980  \n",
       "2019-04-02  1205.540039  \n",
       "2019-04-03  1210.810059  \n",
       "2019-04-04  1219.449951  \n",
       "2019-04-05  1211.449951  "
      ]
     },
     "execution_count": 8,
     "metadata": {},
     "output_type": "execute_result"
    }
   ],
   "source": [
    "googl.tail()"
   ]
  },
  {
   "cell_type": "code",
   "execution_count": 9,
   "metadata": {},
   "outputs": [
    {
     "name": "stdout",
     "output_type": "stream",
     "text": [
      "<class 'pandas.core.frame.DataFrame'>\n",
      "DatetimeIndex: 3683 entries, 2004-08-19 to 2019-04-05\n",
      "Data columns (total 6 columns):\n",
      "High         3683 non-null float64\n",
      "Low          3683 non-null float64\n",
      "Open         3683 non-null float64\n",
      "Close        3683 non-null float64\n",
      "Volume       3683 non-null float64\n",
      "Adj Close    3683 non-null float64\n",
      "dtypes: float64(6)\n",
      "memory usage: 201.4 KB\n"
     ]
    }
   ],
   "source": [
    "googl.info()"
   ]
  },
  {
   "cell_type": "markdown",
   "metadata": {},
   "source": [
    "Selecting a single Datetime:"
   ]
  },
  {
   "cell_type": "code",
   "execution_count": 10,
   "metadata": {},
   "outputs": [
    {
     "data": {
      "text/plain": [
       "High         1.220390e+03\n",
       "Low          1.210030e+03\n",
       "Open         1.219300e+03\n",
       "Close        1.211450e+03\n",
       "Volume       1.001044e+06\n",
       "Adj Close    1.211450e+03\n",
       "Name: 2019-04-05 00:00:00, dtype: float64"
      ]
     },
     "execution_count": 10,
     "metadata": {},
     "output_type": "execute_result"
    }
   ],
   "source": [
    "googl.loc['2019-04-05']"
   ]
  },
  {
   "cell_type": "markdown",
   "metadata": {},
   "source": [
    "Or we could pass a column to extract the exact value we are looking for:"
   ]
  },
  {
   "cell_type": "code",
   "execution_count": 11,
   "metadata": {},
   "outputs": [
    {
     "data": {
      "text/plain": [
       "1211.449951171875"
      ]
     },
     "execution_count": 11,
     "metadata": {},
     "output_type": "execute_result"
    }
   ],
   "source": [
    "googl.loc['2019-04-05', 'Close']"
   ]
  },
  {
   "cell_type": "markdown",
   "metadata": {},
   "source": [
    "We could also pass a higher level Datatime such as month and it will work like a filter:"
   ]
  },
  {
   "cell_type": "code",
   "execution_count": 12,
   "metadata": {},
   "outputs": [
    {
     "data": {
      "text/html": [
       "<div>\n",
       "<style scoped>\n",
       "    .dataframe tbody tr th:only-of-type {\n",
       "        vertical-align: middle;\n",
       "    }\n",
       "\n",
       "    .dataframe tbody tr th {\n",
       "        vertical-align: top;\n",
       "    }\n",
       "\n",
       "    .dataframe thead th {\n",
       "        text-align: right;\n",
       "    }\n",
       "</style>\n",
       "<table border=\"1\" class=\"dataframe\">\n",
       "  <thead>\n",
       "    <tr style=\"text-align: right;\">\n",
       "      <th></th>\n",
       "      <th>High</th>\n",
       "      <th>Low</th>\n",
       "      <th>Open</th>\n",
       "      <th>Close</th>\n",
       "      <th>Volume</th>\n",
       "      <th>Adj Close</th>\n",
       "    </tr>\n",
       "    <tr>\n",
       "      <th>Date</th>\n",
       "      <th></th>\n",
       "      <th></th>\n",
       "      <th></th>\n",
       "      <th></th>\n",
       "      <th></th>\n",
       "      <th></th>\n",
       "    </tr>\n",
       "  </thead>\n",
       "  <tbody>\n",
       "    <tr>\n",
       "      <th>2019-04-01</th>\n",
       "      <td>1200.199951</td>\n",
       "      <td>1186.359985</td>\n",
       "      <td>1187.540039</td>\n",
       "      <td>1198.979980</td>\n",
       "      <td>1385300.0</td>\n",
       "      <td>1198.979980</td>\n",
       "    </tr>\n",
       "    <tr>\n",
       "      <th>2019-04-02</th>\n",
       "      <td>1205.810059</td>\n",
       "      <td>1191.239990</td>\n",
       "      <td>1200.050049</td>\n",
       "      <td>1205.540039</td>\n",
       "      <td>914400.0</td>\n",
       "      <td>1205.540039</td>\n",
       "    </tr>\n",
       "    <tr>\n",
       "      <th>2019-04-03</th>\n",
       "      <td>1220.599976</td>\n",
       "      <td>1205.079956</td>\n",
       "      <td>1212.699951</td>\n",
       "      <td>1210.810059</td>\n",
       "      <td>1109600.0</td>\n",
       "      <td>1210.810059</td>\n",
       "    </tr>\n",
       "    <tr>\n",
       "      <th>2019-04-04</th>\n",
       "      <td>1220.550049</td>\n",
       "      <td>1209.040039</td>\n",
       "      <td>1211.290039</td>\n",
       "      <td>1219.449951</td>\n",
       "      <td>1049200.0</td>\n",
       "      <td>1219.449951</td>\n",
       "    </tr>\n",
       "    <tr>\n",
       "      <th>2019-04-05</th>\n",
       "      <td>1220.390015</td>\n",
       "      <td>1210.030029</td>\n",
       "      <td>1219.300049</td>\n",
       "      <td>1211.449951</td>\n",
       "      <td>1001044.0</td>\n",
       "      <td>1211.449951</td>\n",
       "    </tr>\n",
       "  </tbody>\n",
       "</table>\n",
       "</div>"
      ],
      "text/plain": [
       "                   High          Low         Open        Close     Volume  \\\n",
       "Date                                                                        \n",
       "2019-04-01  1200.199951  1186.359985  1187.540039  1198.979980  1385300.0   \n",
       "2019-04-02  1205.810059  1191.239990  1200.050049  1205.540039   914400.0   \n",
       "2019-04-03  1220.599976  1205.079956  1212.699951  1210.810059  1109600.0   \n",
       "2019-04-04  1220.550049  1209.040039  1211.290039  1219.449951  1049200.0   \n",
       "2019-04-05  1220.390015  1210.030029  1219.300049  1211.449951  1001044.0   \n",
       "\n",
       "              Adj Close  \n",
       "Date                     \n",
       "2019-04-01  1198.979980  \n",
       "2019-04-02  1205.540039  \n",
       "2019-04-03  1210.810059  \n",
       "2019-04-04  1219.449951  \n",
       "2019-04-05  1211.449951  "
      ]
     },
     "execution_count": 12,
     "metadata": {},
     "output_type": "execute_result"
    }
   ],
   "source": [
    "googl.loc['2019-04']"
   ]
  },
  {
   "cell_type": "markdown",
   "metadata": {},
   "source": [
    "Pandas can parse out alternative formats, for instance:"
   ]
  },
  {
   "cell_type": "code",
   "execution_count": 13,
   "metadata": {},
   "outputs": [
    {
     "data": {
      "text/html": [
       "<div>\n",
       "<style scoped>\n",
       "    .dataframe tbody tr th:only-of-type {\n",
       "        vertical-align: middle;\n",
       "    }\n",
       "\n",
       "    .dataframe tbody tr th {\n",
       "        vertical-align: top;\n",
       "    }\n",
       "\n",
       "    .dataframe thead th {\n",
       "        text-align: right;\n",
       "    }\n",
       "</style>\n",
       "<table border=\"1\" class=\"dataframe\">\n",
       "  <thead>\n",
       "    <tr style=\"text-align: right;\">\n",
       "      <th></th>\n",
       "      <th>High</th>\n",
       "      <th>Low</th>\n",
       "      <th>Open</th>\n",
       "      <th>Close</th>\n",
       "      <th>Volume</th>\n",
       "      <th>Adj Close</th>\n",
       "    </tr>\n",
       "    <tr>\n",
       "      <th>Date</th>\n",
       "      <th></th>\n",
       "      <th></th>\n",
       "      <th></th>\n",
       "      <th></th>\n",
       "      <th></th>\n",
       "      <th></th>\n",
       "    </tr>\n",
       "  </thead>\n",
       "  <tbody>\n",
       "    <tr>\n",
       "      <th>2019-04-01</th>\n",
       "      <td>1200.199951</td>\n",
       "      <td>1186.359985</td>\n",
       "      <td>1187.540039</td>\n",
       "      <td>1198.979980</td>\n",
       "      <td>1385300.0</td>\n",
       "      <td>1198.979980</td>\n",
       "    </tr>\n",
       "    <tr>\n",
       "      <th>2019-04-02</th>\n",
       "      <td>1205.810059</td>\n",
       "      <td>1191.239990</td>\n",
       "      <td>1200.050049</td>\n",
       "      <td>1205.540039</td>\n",
       "      <td>914400.0</td>\n",
       "      <td>1205.540039</td>\n",
       "    </tr>\n",
       "    <tr>\n",
       "      <th>2019-04-03</th>\n",
       "      <td>1220.599976</td>\n",
       "      <td>1205.079956</td>\n",
       "      <td>1212.699951</td>\n",
       "      <td>1210.810059</td>\n",
       "      <td>1109600.0</td>\n",
       "      <td>1210.810059</td>\n",
       "    </tr>\n",
       "    <tr>\n",
       "      <th>2019-04-04</th>\n",
       "      <td>1220.550049</td>\n",
       "      <td>1209.040039</td>\n",
       "      <td>1211.290039</td>\n",
       "      <td>1219.449951</td>\n",
       "      <td>1049200.0</td>\n",
       "      <td>1219.449951</td>\n",
       "    </tr>\n",
       "    <tr>\n",
       "      <th>2019-04-05</th>\n",
       "      <td>1220.390015</td>\n",
       "      <td>1210.030029</td>\n",
       "      <td>1219.300049</td>\n",
       "      <td>1211.449951</td>\n",
       "      <td>1001044.0</td>\n",
       "      <td>1211.449951</td>\n",
       "    </tr>\n",
       "  </tbody>\n",
       "</table>\n",
       "</div>"
      ],
      "text/plain": [
       "                   High          Low         Open        Close     Volume  \\\n",
       "Date                                                                        \n",
       "2019-04-01  1200.199951  1186.359985  1187.540039  1198.979980  1385300.0   \n",
       "2019-04-02  1205.810059  1191.239990  1200.050049  1205.540039   914400.0   \n",
       "2019-04-03  1220.599976  1205.079956  1212.699951  1210.810059  1109600.0   \n",
       "2019-04-04  1220.550049  1209.040039  1211.290039  1219.449951  1049200.0   \n",
       "2019-04-05  1220.390015  1210.030029  1219.300049  1211.449951  1001044.0   \n",
       "\n",
       "              Adj Close  \n",
       "Date                     \n",
       "2019-04-01  1198.979980  \n",
       "2019-04-02  1205.540039  \n",
       "2019-04-03  1210.810059  \n",
       "2019-04-04  1219.449951  \n",
       "2019-04-05  1211.449951  "
      ]
     },
     "execution_count": 13,
     "metadata": {},
     "output_type": "execute_result"
    }
   ],
   "source": [
    "googl.loc['April 2019']"
   ]
  },
  {
   "cell_type": "markdown",
   "metadata": {},
   "source": [
    "Slicing using Datatimes:"
   ]
  },
  {
   "cell_type": "code",
   "execution_count": 14,
   "metadata": {},
   "outputs": [
    {
     "data": {
      "text/html": [
       "<div>\n",
       "<style scoped>\n",
       "    .dataframe tbody tr th:only-of-type {\n",
       "        vertical-align: middle;\n",
       "    }\n",
       "\n",
       "    .dataframe tbody tr th {\n",
       "        vertical-align: top;\n",
       "    }\n",
       "\n",
       "    .dataframe thead th {\n",
       "        text-align: right;\n",
       "    }\n",
       "</style>\n",
       "<table border=\"1\" class=\"dataframe\">\n",
       "  <thead>\n",
       "    <tr style=\"text-align: right;\">\n",
       "      <th></th>\n",
       "      <th>High</th>\n",
       "      <th>Low</th>\n",
       "      <th>Open</th>\n",
       "      <th>Close</th>\n",
       "      <th>Volume</th>\n",
       "      <th>Adj Close</th>\n",
       "    </tr>\n",
       "    <tr>\n",
       "      <th>Date</th>\n",
       "      <th></th>\n",
       "      <th></th>\n",
       "      <th></th>\n",
       "      <th></th>\n",
       "      <th></th>\n",
       "      <th></th>\n",
       "    </tr>\n",
       "  </thead>\n",
       "  <tbody>\n",
       "    <tr>\n",
       "      <th>2019-04-03</th>\n",
       "      <td>1220.599976</td>\n",
       "      <td>1205.079956</td>\n",
       "      <td>1212.699951</td>\n",
       "      <td>1210.810059</td>\n",
       "      <td>1109600.0</td>\n",
       "      <td>1210.810059</td>\n",
       "    </tr>\n",
       "    <tr>\n",
       "      <th>2019-04-04</th>\n",
       "      <td>1220.550049</td>\n",
       "      <td>1209.040039</td>\n",
       "      <td>1211.290039</td>\n",
       "      <td>1219.449951</td>\n",
       "      <td>1049200.0</td>\n",
       "      <td>1219.449951</td>\n",
       "    </tr>\n",
       "    <tr>\n",
       "      <th>2019-04-05</th>\n",
       "      <td>1220.390015</td>\n",
       "      <td>1210.030029</td>\n",
       "      <td>1219.300049</td>\n",
       "      <td>1211.449951</td>\n",
       "      <td>1001044.0</td>\n",
       "      <td>1211.449951</td>\n",
       "    </tr>\n",
       "  </tbody>\n",
       "</table>\n",
       "</div>"
      ],
      "text/plain": [
       "                   High          Low         Open        Close     Volume  \\\n",
       "Date                                                                        \n",
       "2019-04-03  1220.599976  1205.079956  1212.699951  1210.810059  1109600.0   \n",
       "2019-04-04  1220.550049  1209.040039  1211.290039  1219.449951  1049200.0   \n",
       "2019-04-05  1220.390015  1210.030029  1219.300049  1211.449951  1001044.0   \n",
       "\n",
       "              Adj Close  \n",
       "Date                     \n",
       "2019-04-03  1210.810059  \n",
       "2019-04-04  1219.449951  \n",
       "2019-04-05  1211.449951  "
      ]
     },
     "execution_count": 14,
     "metadata": {},
     "output_type": "execute_result"
    }
   ],
   "source": [
    "googl.loc['2019-04-03':'2019-04-05']"
   ]
  },
  {
   "cell_type": "markdown",
   "metadata": {},
   "source": [
    "# Resampling\n",
    "One common need for time series data is resampling at a higher or lower frequency. This can be done using the `resample()` method. Statistical methods over different time intervals:\n",
    "* `mean()`\n",
    "* `sum()`\n",
    "* `count()`\n",
    "\n",
    "Down-sampling: reduce datetime rows to slower frequency. E.g., from daily to monthly\n",
    "\n",
    "Up-sampling: increase datetime rows to faster frequency. E.g., from daily to hourly\n",
    "\n",
    "Let's resample our `googl` DataFrame to get the monthly averages for the past years (down-sampling):"
   ]
  },
  {
   "cell_type": "code",
   "execution_count": 15,
   "metadata": {},
   "outputs": [
    {
     "data": {
      "text/html": [
       "<div>\n",
       "<style scoped>\n",
       "    .dataframe tbody tr th:only-of-type {\n",
       "        vertical-align: middle;\n",
       "    }\n",
       "\n",
       "    .dataframe tbody tr th {\n",
       "        vertical-align: top;\n",
       "    }\n",
       "\n",
       "    .dataframe thead th {\n",
       "        text-align: right;\n",
       "    }\n",
       "</style>\n",
       "<table border=\"1\" class=\"dataframe\">\n",
       "  <thead>\n",
       "    <tr style=\"text-align: right;\">\n",
       "      <th></th>\n",
       "      <th>High</th>\n",
       "      <th>Low</th>\n",
       "      <th>Open</th>\n",
       "      <th>Close</th>\n",
       "      <th>Volume</th>\n",
       "      <th>Adj Close</th>\n",
       "    </tr>\n",
       "    <tr>\n",
       "      <th>Date</th>\n",
       "      <th></th>\n",
       "      <th></th>\n",
       "      <th></th>\n",
       "      <th></th>\n",
       "      <th></th>\n",
       "      <th></th>\n",
       "    </tr>\n",
       "  </thead>\n",
       "  <tbody>\n",
       "    <tr>\n",
       "      <th>2018-04-30</th>\n",
       "      <td>1057.963881</td>\n",
       "      <td>1033.655562</td>\n",
       "      <td>1047.461667</td>\n",
       "      <td>1043.220564</td>\n",
       "      <td>2.271706e+06</td>\n",
       "      <td>1043.220564</td>\n",
       "    </tr>\n",
       "    <tr>\n",
       "      <th>2018-05-31</th>\n",
       "      <td>1082.155906</td>\n",
       "      <td>1063.676824</td>\n",
       "      <td>1070.547727</td>\n",
       "      <td>1074.852717</td>\n",
       "      <td>1.682023e+06</td>\n",
       "      <td>1074.852717</td>\n",
       "    </tr>\n",
       "    <tr>\n",
       "      <th>2018-06-30</th>\n",
       "      <td>1158.890474</td>\n",
       "      <td>1138.985229</td>\n",
       "      <td>1148.376192</td>\n",
       "      <td>1149.319987</td>\n",
       "      <td>1.913533e+06</td>\n",
       "      <td>1149.319987</td>\n",
       "    </tr>\n",
       "    <tr>\n",
       "      <th>2018-07-31</th>\n",
       "      <td>1211.672846</td>\n",
       "      <td>1187.250959</td>\n",
       "      <td>1197.510486</td>\n",
       "      <td>1201.263811</td>\n",
       "      <td>1.989652e+06</td>\n",
       "      <td>1201.263811</td>\n",
       "    </tr>\n",
       "    <tr>\n",
       "      <th>2018-08-31</th>\n",
       "      <td>1250.471738</td>\n",
       "      <td>1232.073922</td>\n",
       "      <td>1241.803483</td>\n",
       "      <td>1240.653915</td>\n",
       "      <td>1.490665e+06</td>\n",
       "      <td>1240.653915</td>\n",
       "    </tr>\n",
       "    <tr>\n",
       "      <th>2018-09-30</th>\n",
       "      <td>1195.738403</td>\n",
       "      <td>1173.364740</td>\n",
       "      <td>1185.985782</td>\n",
       "      <td>1185.032104</td>\n",
       "      <td>1.890837e+06</td>\n",
       "      <td>1185.032104</td>\n",
       "    </tr>\n",
       "    <tr>\n",
       "      <th>2018-10-31</th>\n",
       "      <td>1142.802172</td>\n",
       "      <td>1104.944784</td>\n",
       "      <td>1125.933052</td>\n",
       "      <td>1121.256088</td>\n",
       "      <td>2.458570e+06</td>\n",
       "      <td>1121.256088</td>\n",
       "    </tr>\n",
       "    <tr>\n",
       "      <th>2018-11-30</th>\n",
       "      <td>1078.329520</td>\n",
       "      <td>1050.800476</td>\n",
       "      <td>1065.182864</td>\n",
       "      <td>1066.168091</td>\n",
       "      <td>1.871990e+06</td>\n",
       "      <td>1066.168091</td>\n",
       "    </tr>\n",
       "    <tr>\n",
       "      <th>2018-12-31</th>\n",
       "      <td>1069.451570</td>\n",
       "      <td>1033.248943</td>\n",
       "      <td>1052.484732</td>\n",
       "      <td>1048.089998</td>\n",
       "      <td>2.256411e+06</td>\n",
       "      <td>1048.089998</td>\n",
       "    </tr>\n",
       "    <tr>\n",
       "      <th>2019-01-31</th>\n",
       "      <td>1089.727138</td>\n",
       "      <td>1067.015247</td>\n",
       "      <td>1078.022374</td>\n",
       "      <td>1080.988578</td>\n",
       "      <td>1.659924e+06</td>\n",
       "      <td>1080.988578</td>\n",
       "    </tr>\n",
       "    <tr>\n",
       "      <th>2019-02-28</th>\n",
       "      <td>1130.194741</td>\n",
       "      <td>1110.895784</td>\n",
       "      <td>1120.121588</td>\n",
       "      <td>1121.415791</td>\n",
       "      <td>1.716247e+06</td>\n",
       "      <td>1121.415791</td>\n",
       "    </tr>\n",
       "    <tr>\n",
       "      <th>2019-03-31</th>\n",
       "      <td>1192.932844</td>\n",
       "      <td>1172.674282</td>\n",
       "      <td>1182.332392</td>\n",
       "      <td>1184.328578</td>\n",
       "      <td>1.580329e+06</td>\n",
       "      <td>1184.328578</td>\n",
       "    </tr>\n",
       "    <tr>\n",
       "      <th>2019-04-30</th>\n",
       "      <td>1213.510010</td>\n",
       "      <td>1200.350000</td>\n",
       "      <td>1206.176025</td>\n",
       "      <td>1209.245996</td>\n",
       "      <td>1.091909e+06</td>\n",
       "      <td>1209.245996</td>\n",
       "    </tr>\n",
       "  </tbody>\n",
       "</table>\n",
       "</div>"
      ],
      "text/plain": [
       "                   High          Low         Open        Close        Volume  \\\n",
       "Date                                                                           \n",
       "2018-04-30  1057.963881  1033.655562  1047.461667  1043.220564  2.271706e+06   \n",
       "2018-05-31  1082.155906  1063.676824  1070.547727  1074.852717  1.682023e+06   \n",
       "2018-06-30  1158.890474  1138.985229  1148.376192  1149.319987  1.913533e+06   \n",
       "2018-07-31  1211.672846  1187.250959  1197.510486  1201.263811  1.989652e+06   \n",
       "2018-08-31  1250.471738  1232.073922  1241.803483  1240.653915  1.490665e+06   \n",
       "2018-09-30  1195.738403  1173.364740  1185.985782  1185.032104  1.890837e+06   \n",
       "2018-10-31  1142.802172  1104.944784  1125.933052  1121.256088  2.458570e+06   \n",
       "2018-11-30  1078.329520  1050.800476  1065.182864  1066.168091  1.871990e+06   \n",
       "2018-12-31  1069.451570  1033.248943  1052.484732  1048.089998  2.256411e+06   \n",
       "2019-01-31  1089.727138  1067.015247  1078.022374  1080.988578  1.659924e+06   \n",
       "2019-02-28  1130.194741  1110.895784  1120.121588  1121.415791  1.716247e+06   \n",
       "2019-03-31  1192.932844  1172.674282  1182.332392  1184.328578  1.580329e+06   \n",
       "2019-04-30  1213.510010  1200.350000  1206.176025  1209.245996  1.091909e+06   \n",
       "\n",
       "              Adj Close  \n",
       "Date                     \n",
       "2018-04-30  1043.220564  \n",
       "2018-05-31  1074.852717  \n",
       "2018-06-30  1149.319987  \n",
       "2018-07-31  1201.263811  \n",
       "2018-08-31  1240.653915  \n",
       "2018-09-30  1185.032104  \n",
       "2018-10-31  1121.256088  \n",
       "2018-11-30  1066.168091  \n",
       "2018-12-31  1048.089998  \n",
       "2019-01-31  1080.988578  \n",
       "2019-02-28  1121.415791  \n",
       "2019-03-31  1184.328578  \n",
       "2019-04-30  1209.245996  "
      ]
     },
     "execution_count": 15,
     "metadata": {},
     "output_type": "execute_result"
    }
   ],
   "source": [
    "googl_subset = googl.loc['2018-04-05':'2019-04-05']\n",
    "googl_subset.resample('M').mean()"
   ]
  },
  {
   "cell_type": "markdown",
   "metadata": {},
   "source": [
    "In the above code we have used 'M' to resample monthly. Use the table below for more up-sampling and down-sampling options:"
   ]
  },
  {
   "cell_type": "markdown",
   "metadata": {},
   "source": [
    "| Code   | Description         | Code   | Description          |\n",
    "|--------|---------------------|--------|----------------------|\n",
    "| ``D``  | Calendar day        | ``B``  | Business day         |\n",
    "| ``W``  | Weekly              |    ``  |                      |\n",
    "| ``M``  | Month end           | ``BM`` | Business month end   |\n",
    "| ``Q``  | Quarter end         | ``BQ`` | Business quarter end |\n",
    "| ``A``  | Year end            | ``BA`` | Business year end    |\n",
    "| ``H``  | Hours               | ``BH`` | Business hours       |\n",
    "| ``T``  | Minutes             |    ``  |                      |\n",
    "| ``S``  | Seconds             |    ``  |                      |\n",
    "| ``L``  | Milliseonds         |    ``  |                      |\n",
    "| ``U``  | Microseconds        |    ``  |                      |\n",
    "| ``N``  | nanoseconds         |    ``  |                      |"
   ]
  },
  {
   "cell_type": "markdown",
   "metadata": {},
   "source": [
    "## Exercise 1\n",
    "\n",
    "Up-sample the following subset by a daily scale, \"D\". Note that our current dataset is based on business days, and not daily."
   ]
  },
  {
   "cell_type": "code",
   "execution_count": 16,
   "metadata": {},
   "outputs": [
    {
     "data": {
      "text/html": [
       "<div>\n",
       "<style scoped>\n",
       "    .dataframe tbody tr th:only-of-type {\n",
       "        vertical-align: middle;\n",
       "    }\n",
       "\n",
       "    .dataframe tbody tr th {\n",
       "        vertical-align: top;\n",
       "    }\n",
       "\n",
       "    .dataframe thead th {\n",
       "        text-align: right;\n",
       "    }\n",
       "</style>\n",
       "<table border=\"1\" class=\"dataframe\">\n",
       "  <thead>\n",
       "    <tr style=\"text-align: right;\">\n",
       "      <th></th>\n",
       "      <th>High</th>\n",
       "      <th>Low</th>\n",
       "      <th>Open</th>\n",
       "      <th>Close</th>\n",
       "      <th>Volume</th>\n",
       "      <th>Adj Close</th>\n",
       "    </tr>\n",
       "    <tr>\n",
       "      <th>Date</th>\n",
       "      <th></th>\n",
       "      <th></th>\n",
       "      <th></th>\n",
       "      <th></th>\n",
       "      <th></th>\n",
       "      <th></th>\n",
       "    </tr>\n",
       "  </thead>\n",
       "  <tbody>\n",
       "    <tr>\n",
       "      <th>2019-03-21</th>\n",
       "      <td>1236.439941</td>\n",
       "      <td>1216.579956</td>\n",
       "      <td>1220.000000</td>\n",
       "      <td>1236.130005</td>\n",
       "      <td>1407500.0</td>\n",
       "      <td>1236.130005</td>\n",
       "    </tr>\n",
       "    <tr>\n",
       "      <th>2019-03-22</th>\n",
       "      <td>1233.630005</td>\n",
       "      <td>1206.000000</td>\n",
       "      <td>1228.849976</td>\n",
       "      <td>1207.650024</td>\n",
       "      <td>1721100.0</td>\n",
       "      <td>1207.650024</td>\n",
       "    </tr>\n",
       "    <tr>\n",
       "      <th>2019-03-25</th>\n",
       "      <td>1209.439941</td>\n",
       "      <td>1190.000000</td>\n",
       "      <td>1199.560059</td>\n",
       "      <td>1197.380005</td>\n",
       "      <td>1378800.0</td>\n",
       "      <td>1197.380005</td>\n",
       "    </tr>\n",
       "    <tr>\n",
       "      <th>2019-03-26</th>\n",
       "      <td>1207.650024</td>\n",
       "      <td>1181.760010</td>\n",
       "      <td>1205.189941</td>\n",
       "      <td>1189.839966</td>\n",
       "      <td>1537600.0</td>\n",
       "      <td>1189.839966</td>\n",
       "    </tr>\n",
       "    <tr>\n",
       "      <th>2019-03-27</th>\n",
       "      <td>1191.920044</td>\n",
       "      <td>1164.229980</td>\n",
       "      <td>1191.920044</td>\n",
       "      <td>1178.010010</td>\n",
       "      <td>1471400.0</td>\n",
       "      <td>1178.010010</td>\n",
       "    </tr>\n",
       "    <tr>\n",
       "      <th>2019-03-28</th>\n",
       "      <td>1177.250000</td>\n",
       "      <td>1163.430054</td>\n",
       "      <td>1175.500000</td>\n",
       "      <td>1172.270020</td>\n",
       "      <td>1120100.0</td>\n",
       "      <td>1172.270020</td>\n",
       "    </tr>\n",
       "    <tr>\n",
       "      <th>2019-03-29</th>\n",
       "      <td>1183.969971</td>\n",
       "      <td>1166.380005</td>\n",
       "      <td>1180.180054</td>\n",
       "      <td>1176.890015</td>\n",
       "      <td>1544500.0</td>\n",
       "      <td>1176.890015</td>\n",
       "    </tr>\n",
       "    <tr>\n",
       "      <th>2019-04-01</th>\n",
       "      <td>1200.199951</td>\n",
       "      <td>1186.359985</td>\n",
       "      <td>1187.540039</td>\n",
       "      <td>1198.979980</td>\n",
       "      <td>1385300.0</td>\n",
       "      <td>1198.979980</td>\n",
       "    </tr>\n",
       "    <tr>\n",
       "      <th>2019-04-02</th>\n",
       "      <td>1205.810059</td>\n",
       "      <td>1191.239990</td>\n",
       "      <td>1200.050049</td>\n",
       "      <td>1205.540039</td>\n",
       "      <td>914400.0</td>\n",
       "      <td>1205.540039</td>\n",
       "    </tr>\n",
       "    <tr>\n",
       "      <th>2019-04-03</th>\n",
       "      <td>1220.599976</td>\n",
       "      <td>1205.079956</td>\n",
       "      <td>1212.699951</td>\n",
       "      <td>1210.810059</td>\n",
       "      <td>1109600.0</td>\n",
       "      <td>1210.810059</td>\n",
       "    </tr>\n",
       "    <tr>\n",
       "      <th>2019-04-04</th>\n",
       "      <td>1220.550049</td>\n",
       "      <td>1209.040039</td>\n",
       "      <td>1211.290039</td>\n",
       "      <td>1219.449951</td>\n",
       "      <td>1049200.0</td>\n",
       "      <td>1219.449951</td>\n",
       "    </tr>\n",
       "    <tr>\n",
       "      <th>2019-04-05</th>\n",
       "      <td>1220.390015</td>\n",
       "      <td>1210.030029</td>\n",
       "      <td>1219.300049</td>\n",
       "      <td>1211.449951</td>\n",
       "      <td>1001044.0</td>\n",
       "      <td>1211.449951</td>\n",
       "    </tr>\n",
       "  </tbody>\n",
       "</table>\n",
       "</div>"
      ],
      "text/plain": [
       "                   High          Low         Open        Close     Volume  \\\n",
       "Date                                                                        \n",
       "2019-03-21  1236.439941  1216.579956  1220.000000  1236.130005  1407500.0   \n",
       "2019-03-22  1233.630005  1206.000000  1228.849976  1207.650024  1721100.0   \n",
       "2019-03-25  1209.439941  1190.000000  1199.560059  1197.380005  1378800.0   \n",
       "2019-03-26  1207.650024  1181.760010  1205.189941  1189.839966  1537600.0   \n",
       "2019-03-27  1191.920044  1164.229980  1191.920044  1178.010010  1471400.0   \n",
       "2019-03-28  1177.250000  1163.430054  1175.500000  1172.270020  1120100.0   \n",
       "2019-03-29  1183.969971  1166.380005  1180.180054  1176.890015  1544500.0   \n",
       "2019-04-01  1200.199951  1186.359985  1187.540039  1198.979980  1385300.0   \n",
       "2019-04-02  1205.810059  1191.239990  1200.050049  1205.540039   914400.0   \n",
       "2019-04-03  1220.599976  1205.079956  1212.699951  1210.810059  1109600.0   \n",
       "2019-04-04  1220.550049  1209.040039  1211.290039  1219.449951  1049200.0   \n",
       "2019-04-05  1220.390015  1210.030029  1219.300049  1211.449951  1001044.0   \n",
       "\n",
       "              Adj Close  \n",
       "Date                     \n",
       "2019-03-21  1236.130005  \n",
       "2019-03-22  1207.650024  \n",
       "2019-03-25  1197.380005  \n",
       "2019-03-26  1189.839966  \n",
       "2019-03-27  1178.010010  \n",
       "2019-03-28  1172.270020  \n",
       "2019-03-29  1176.890015  \n",
       "2019-04-01  1198.979980  \n",
       "2019-04-02  1205.540039  \n",
       "2019-04-03  1210.810059  \n",
       "2019-04-04  1219.449951  \n",
       "2019-04-05  1211.449951  "
      ]
     },
     "execution_count": 16,
     "metadata": {},
     "output_type": "execute_result"
    }
   ],
   "source": [
    "data = googl.loc['2019-03-21':'2019-04-05']\n",
    "data"
   ]
  },
  {
   "cell_type": "code",
   "execution_count": 17,
   "metadata": {},
   "outputs": [
    {
     "data": {
      "text/html": [
       "<div>\n",
       "<style scoped>\n",
       "    .dataframe tbody tr th:only-of-type {\n",
       "        vertical-align: middle;\n",
       "    }\n",
       "\n",
       "    .dataframe tbody tr th {\n",
       "        vertical-align: top;\n",
       "    }\n",
       "\n",
       "    .dataframe thead th {\n",
       "        text-align: right;\n",
       "    }\n",
       "</style>\n",
       "<table border=\"1\" class=\"dataframe\">\n",
       "  <thead>\n",
       "    <tr style=\"text-align: right;\">\n",
       "      <th></th>\n",
       "      <th>High</th>\n",
       "      <th>Low</th>\n",
       "      <th>Open</th>\n",
       "      <th>Close</th>\n",
       "      <th>Volume</th>\n",
       "      <th>Adj Close</th>\n",
       "    </tr>\n",
       "    <tr>\n",
       "      <th>Date</th>\n",
       "      <th></th>\n",
       "      <th></th>\n",
       "      <th></th>\n",
       "      <th></th>\n",
       "      <th></th>\n",
       "      <th></th>\n",
       "    </tr>\n",
       "  </thead>\n",
       "  <tbody>\n",
       "    <tr>\n",
       "      <th>2019-03-21</th>\n",
       "      <td>1236.439941</td>\n",
       "      <td>1216.579956</td>\n",
       "      <td>1220.000000</td>\n",
       "      <td>1236.130005</td>\n",
       "      <td>1407500.0</td>\n",
       "      <td>1236.130005</td>\n",
       "    </tr>\n",
       "    <tr>\n",
       "      <th>2019-03-22</th>\n",
       "      <td>1233.630005</td>\n",
       "      <td>1206.000000</td>\n",
       "      <td>1228.849976</td>\n",
       "      <td>1207.650024</td>\n",
       "      <td>1721100.0</td>\n",
       "      <td>1207.650024</td>\n",
       "    </tr>\n",
       "    <tr>\n",
       "      <th>2019-03-23</th>\n",
       "      <td>NaN</td>\n",
       "      <td>NaN</td>\n",
       "      <td>NaN</td>\n",
       "      <td>NaN</td>\n",
       "      <td>NaN</td>\n",
       "      <td>NaN</td>\n",
       "    </tr>\n",
       "    <tr>\n",
       "      <th>2019-03-24</th>\n",
       "      <td>NaN</td>\n",
       "      <td>NaN</td>\n",
       "      <td>NaN</td>\n",
       "      <td>NaN</td>\n",
       "      <td>NaN</td>\n",
       "      <td>NaN</td>\n",
       "    </tr>\n",
       "    <tr>\n",
       "      <th>2019-03-25</th>\n",
       "      <td>1209.439941</td>\n",
       "      <td>1190.000000</td>\n",
       "      <td>1199.560059</td>\n",
       "      <td>1197.380005</td>\n",
       "      <td>1378800.0</td>\n",
       "      <td>1197.380005</td>\n",
       "    </tr>\n",
       "    <tr>\n",
       "      <th>2019-03-26</th>\n",
       "      <td>1207.650024</td>\n",
       "      <td>1181.760010</td>\n",
       "      <td>1205.189941</td>\n",
       "      <td>1189.839966</td>\n",
       "      <td>1537600.0</td>\n",
       "      <td>1189.839966</td>\n",
       "    </tr>\n",
       "    <tr>\n",
       "      <th>2019-03-27</th>\n",
       "      <td>1191.920044</td>\n",
       "      <td>1164.229980</td>\n",
       "      <td>1191.920044</td>\n",
       "      <td>1178.010010</td>\n",
       "      <td>1471400.0</td>\n",
       "      <td>1178.010010</td>\n",
       "    </tr>\n",
       "    <tr>\n",
       "      <th>2019-03-28</th>\n",
       "      <td>1177.250000</td>\n",
       "      <td>1163.430054</td>\n",
       "      <td>1175.500000</td>\n",
       "      <td>1172.270020</td>\n",
       "      <td>1120100.0</td>\n",
       "      <td>1172.270020</td>\n",
       "    </tr>\n",
       "    <tr>\n",
       "      <th>2019-03-29</th>\n",
       "      <td>1183.969971</td>\n",
       "      <td>1166.380005</td>\n",
       "      <td>1180.180054</td>\n",
       "      <td>1176.890015</td>\n",
       "      <td>1544500.0</td>\n",
       "      <td>1176.890015</td>\n",
       "    </tr>\n",
       "    <tr>\n",
       "      <th>2019-03-30</th>\n",
       "      <td>NaN</td>\n",
       "      <td>NaN</td>\n",
       "      <td>NaN</td>\n",
       "      <td>NaN</td>\n",
       "      <td>NaN</td>\n",
       "      <td>NaN</td>\n",
       "    </tr>\n",
       "    <tr>\n",
       "      <th>2019-03-31</th>\n",
       "      <td>NaN</td>\n",
       "      <td>NaN</td>\n",
       "      <td>NaN</td>\n",
       "      <td>NaN</td>\n",
       "      <td>NaN</td>\n",
       "      <td>NaN</td>\n",
       "    </tr>\n",
       "    <tr>\n",
       "      <th>2019-04-01</th>\n",
       "      <td>1200.199951</td>\n",
       "      <td>1186.359985</td>\n",
       "      <td>1187.540039</td>\n",
       "      <td>1198.979980</td>\n",
       "      <td>1385300.0</td>\n",
       "      <td>1198.979980</td>\n",
       "    </tr>\n",
       "    <tr>\n",
       "      <th>2019-04-02</th>\n",
       "      <td>1205.810059</td>\n",
       "      <td>1191.239990</td>\n",
       "      <td>1200.050049</td>\n",
       "      <td>1205.540039</td>\n",
       "      <td>914400.0</td>\n",
       "      <td>1205.540039</td>\n",
       "    </tr>\n",
       "    <tr>\n",
       "      <th>2019-04-03</th>\n",
       "      <td>1220.599976</td>\n",
       "      <td>1205.079956</td>\n",
       "      <td>1212.699951</td>\n",
       "      <td>1210.810059</td>\n",
       "      <td>1109600.0</td>\n",
       "      <td>1210.810059</td>\n",
       "    </tr>\n",
       "    <tr>\n",
       "      <th>2019-04-04</th>\n",
       "      <td>1220.550049</td>\n",
       "      <td>1209.040039</td>\n",
       "      <td>1211.290039</td>\n",
       "      <td>1219.449951</td>\n",
       "      <td>1049200.0</td>\n",
       "      <td>1219.449951</td>\n",
       "    </tr>\n",
       "    <tr>\n",
       "      <th>2019-04-05</th>\n",
       "      <td>1220.390015</td>\n",
       "      <td>1210.030029</td>\n",
       "      <td>1219.300049</td>\n",
       "      <td>1211.449951</td>\n",
       "      <td>1001044.0</td>\n",
       "      <td>1211.449951</td>\n",
       "    </tr>\n",
       "  </tbody>\n",
       "</table>\n",
       "</div>"
      ],
      "text/plain": [
       "                   High          Low         Open        Close     Volume  \\\n",
       "Date                                                                        \n",
       "2019-03-21  1236.439941  1216.579956  1220.000000  1236.130005  1407500.0   \n",
       "2019-03-22  1233.630005  1206.000000  1228.849976  1207.650024  1721100.0   \n",
       "2019-03-23          NaN          NaN          NaN          NaN        NaN   \n",
       "2019-03-24          NaN          NaN          NaN          NaN        NaN   \n",
       "2019-03-25  1209.439941  1190.000000  1199.560059  1197.380005  1378800.0   \n",
       "2019-03-26  1207.650024  1181.760010  1205.189941  1189.839966  1537600.0   \n",
       "2019-03-27  1191.920044  1164.229980  1191.920044  1178.010010  1471400.0   \n",
       "2019-03-28  1177.250000  1163.430054  1175.500000  1172.270020  1120100.0   \n",
       "2019-03-29  1183.969971  1166.380005  1180.180054  1176.890015  1544500.0   \n",
       "2019-03-30          NaN          NaN          NaN          NaN        NaN   \n",
       "2019-03-31          NaN          NaN          NaN          NaN        NaN   \n",
       "2019-04-01  1200.199951  1186.359985  1187.540039  1198.979980  1385300.0   \n",
       "2019-04-02  1205.810059  1191.239990  1200.050049  1205.540039   914400.0   \n",
       "2019-04-03  1220.599976  1205.079956  1212.699951  1210.810059  1109600.0   \n",
       "2019-04-04  1220.550049  1209.040039  1211.290039  1219.449951  1049200.0   \n",
       "2019-04-05  1220.390015  1210.030029  1219.300049  1211.449951  1001044.0   \n",
       "\n",
       "              Adj Close  \n",
       "Date                     \n",
       "2019-03-21  1236.130005  \n",
       "2019-03-22  1207.650024  \n",
       "2019-03-23          NaN  \n",
       "2019-03-24          NaN  \n",
       "2019-03-25  1197.380005  \n",
       "2019-03-26  1189.839966  \n",
       "2019-03-27  1178.010010  \n",
       "2019-03-28  1172.270020  \n",
       "2019-03-29  1176.890015  \n",
       "2019-03-30          NaN  \n",
       "2019-03-31          NaN  \n",
       "2019-04-01  1198.979980  \n",
       "2019-04-02  1205.540039  \n",
       "2019-04-03  1210.810059  \n",
       "2019-04-04  1219.449951  \n",
       "2019-04-05  1211.449951  "
      ]
     },
     "execution_count": 17,
     "metadata": {},
     "output_type": "execute_result"
    }
   ],
   "source": [
    "# Your answer goes here\n"
   ]
  },
  {
   "cell_type": "markdown",
   "metadata": {},
   "source": [
    "You notice that this has caused some NaN values due to the weekend. Use the forward fill method, `ffill()`, to fill the missing values by chaining it to the end of the aggregation:"
   ]
  },
  {
   "cell_type": "code",
   "execution_count": 18,
   "metadata": {},
   "outputs": [
    {
     "data": {
      "text/html": [
       "<div>\n",
       "<style scoped>\n",
       "    .dataframe tbody tr th:only-of-type {\n",
       "        vertical-align: middle;\n",
       "    }\n",
       "\n",
       "    .dataframe tbody tr th {\n",
       "        vertical-align: top;\n",
       "    }\n",
       "\n",
       "    .dataframe thead th {\n",
       "        text-align: right;\n",
       "    }\n",
       "</style>\n",
       "<table border=\"1\" class=\"dataframe\">\n",
       "  <thead>\n",
       "    <tr style=\"text-align: right;\">\n",
       "      <th></th>\n",
       "      <th>High</th>\n",
       "      <th>Low</th>\n",
       "      <th>Open</th>\n",
       "      <th>Close</th>\n",
       "      <th>Volume</th>\n",
       "      <th>Adj Close</th>\n",
       "    </tr>\n",
       "    <tr>\n",
       "      <th>Date</th>\n",
       "      <th></th>\n",
       "      <th></th>\n",
       "      <th></th>\n",
       "      <th></th>\n",
       "      <th></th>\n",
       "      <th></th>\n",
       "    </tr>\n",
       "  </thead>\n",
       "  <tbody>\n",
       "    <tr>\n",
       "      <th>2019-03-21</th>\n",
       "      <td>1236.439941</td>\n",
       "      <td>1216.579956</td>\n",
       "      <td>1220.000000</td>\n",
       "      <td>1236.130005</td>\n",
       "      <td>1407500.0</td>\n",
       "      <td>1236.130005</td>\n",
       "    </tr>\n",
       "    <tr>\n",
       "      <th>2019-03-22</th>\n",
       "      <td>1233.630005</td>\n",
       "      <td>1206.000000</td>\n",
       "      <td>1228.849976</td>\n",
       "      <td>1207.650024</td>\n",
       "      <td>1721100.0</td>\n",
       "      <td>1207.650024</td>\n",
       "    </tr>\n",
       "    <tr>\n",
       "      <th>2019-03-23</th>\n",
       "      <td>1233.630005</td>\n",
       "      <td>1206.000000</td>\n",
       "      <td>1228.849976</td>\n",
       "      <td>1207.650024</td>\n",
       "      <td>1721100.0</td>\n",
       "      <td>1207.650024</td>\n",
       "    </tr>\n",
       "    <tr>\n",
       "      <th>2019-03-24</th>\n",
       "      <td>1233.630005</td>\n",
       "      <td>1206.000000</td>\n",
       "      <td>1228.849976</td>\n",
       "      <td>1207.650024</td>\n",
       "      <td>1721100.0</td>\n",
       "      <td>1207.650024</td>\n",
       "    </tr>\n",
       "    <tr>\n",
       "      <th>2019-03-25</th>\n",
       "      <td>1209.439941</td>\n",
       "      <td>1190.000000</td>\n",
       "      <td>1199.560059</td>\n",
       "      <td>1197.380005</td>\n",
       "      <td>1378800.0</td>\n",
       "      <td>1197.380005</td>\n",
       "    </tr>\n",
       "    <tr>\n",
       "      <th>2019-03-26</th>\n",
       "      <td>1207.650024</td>\n",
       "      <td>1181.760010</td>\n",
       "      <td>1205.189941</td>\n",
       "      <td>1189.839966</td>\n",
       "      <td>1537600.0</td>\n",
       "      <td>1189.839966</td>\n",
       "    </tr>\n",
       "    <tr>\n",
       "      <th>2019-03-27</th>\n",
       "      <td>1191.920044</td>\n",
       "      <td>1164.229980</td>\n",
       "      <td>1191.920044</td>\n",
       "      <td>1178.010010</td>\n",
       "      <td>1471400.0</td>\n",
       "      <td>1178.010010</td>\n",
       "    </tr>\n",
       "    <tr>\n",
       "      <th>2019-03-28</th>\n",
       "      <td>1177.250000</td>\n",
       "      <td>1163.430054</td>\n",
       "      <td>1175.500000</td>\n",
       "      <td>1172.270020</td>\n",
       "      <td>1120100.0</td>\n",
       "      <td>1172.270020</td>\n",
       "    </tr>\n",
       "    <tr>\n",
       "      <th>2019-03-29</th>\n",
       "      <td>1183.969971</td>\n",
       "      <td>1166.380005</td>\n",
       "      <td>1180.180054</td>\n",
       "      <td>1176.890015</td>\n",
       "      <td>1544500.0</td>\n",
       "      <td>1176.890015</td>\n",
       "    </tr>\n",
       "    <tr>\n",
       "      <th>2019-03-30</th>\n",
       "      <td>1183.969971</td>\n",
       "      <td>1166.380005</td>\n",
       "      <td>1180.180054</td>\n",
       "      <td>1176.890015</td>\n",
       "      <td>1544500.0</td>\n",
       "      <td>1176.890015</td>\n",
       "    </tr>\n",
       "    <tr>\n",
       "      <th>2019-03-31</th>\n",
       "      <td>1183.969971</td>\n",
       "      <td>1166.380005</td>\n",
       "      <td>1180.180054</td>\n",
       "      <td>1176.890015</td>\n",
       "      <td>1544500.0</td>\n",
       "      <td>1176.890015</td>\n",
       "    </tr>\n",
       "    <tr>\n",
       "      <th>2019-04-01</th>\n",
       "      <td>1200.199951</td>\n",
       "      <td>1186.359985</td>\n",
       "      <td>1187.540039</td>\n",
       "      <td>1198.979980</td>\n",
       "      <td>1385300.0</td>\n",
       "      <td>1198.979980</td>\n",
       "    </tr>\n",
       "    <tr>\n",
       "      <th>2019-04-02</th>\n",
       "      <td>1205.810059</td>\n",
       "      <td>1191.239990</td>\n",
       "      <td>1200.050049</td>\n",
       "      <td>1205.540039</td>\n",
       "      <td>914400.0</td>\n",
       "      <td>1205.540039</td>\n",
       "    </tr>\n",
       "    <tr>\n",
       "      <th>2019-04-03</th>\n",
       "      <td>1220.599976</td>\n",
       "      <td>1205.079956</td>\n",
       "      <td>1212.699951</td>\n",
       "      <td>1210.810059</td>\n",
       "      <td>1109600.0</td>\n",
       "      <td>1210.810059</td>\n",
       "    </tr>\n",
       "    <tr>\n",
       "      <th>2019-04-04</th>\n",
       "      <td>1220.550049</td>\n",
       "      <td>1209.040039</td>\n",
       "      <td>1211.290039</td>\n",
       "      <td>1219.449951</td>\n",
       "      <td>1049200.0</td>\n",
       "      <td>1219.449951</td>\n",
       "    </tr>\n",
       "    <tr>\n",
       "      <th>2019-04-05</th>\n",
       "      <td>1220.390015</td>\n",
       "      <td>1210.030029</td>\n",
       "      <td>1219.300049</td>\n",
       "      <td>1211.449951</td>\n",
       "      <td>1001044.0</td>\n",
       "      <td>1211.449951</td>\n",
       "    </tr>\n",
       "  </tbody>\n",
       "</table>\n",
       "</div>"
      ],
      "text/plain": [
       "                   High          Low         Open        Close     Volume  \\\n",
       "Date                                                                        \n",
       "2019-03-21  1236.439941  1216.579956  1220.000000  1236.130005  1407500.0   \n",
       "2019-03-22  1233.630005  1206.000000  1228.849976  1207.650024  1721100.0   \n",
       "2019-03-23  1233.630005  1206.000000  1228.849976  1207.650024  1721100.0   \n",
       "2019-03-24  1233.630005  1206.000000  1228.849976  1207.650024  1721100.0   \n",
       "2019-03-25  1209.439941  1190.000000  1199.560059  1197.380005  1378800.0   \n",
       "2019-03-26  1207.650024  1181.760010  1205.189941  1189.839966  1537600.0   \n",
       "2019-03-27  1191.920044  1164.229980  1191.920044  1178.010010  1471400.0   \n",
       "2019-03-28  1177.250000  1163.430054  1175.500000  1172.270020  1120100.0   \n",
       "2019-03-29  1183.969971  1166.380005  1180.180054  1176.890015  1544500.0   \n",
       "2019-03-30  1183.969971  1166.380005  1180.180054  1176.890015  1544500.0   \n",
       "2019-03-31  1183.969971  1166.380005  1180.180054  1176.890015  1544500.0   \n",
       "2019-04-01  1200.199951  1186.359985  1187.540039  1198.979980  1385300.0   \n",
       "2019-04-02  1205.810059  1191.239990  1200.050049  1205.540039   914400.0   \n",
       "2019-04-03  1220.599976  1205.079956  1212.699951  1210.810059  1109600.0   \n",
       "2019-04-04  1220.550049  1209.040039  1211.290039  1219.449951  1049200.0   \n",
       "2019-04-05  1220.390015  1210.030029  1219.300049  1211.449951  1001044.0   \n",
       "\n",
       "              Adj Close  \n",
       "Date                     \n",
       "2019-03-21  1236.130005  \n",
       "2019-03-22  1207.650024  \n",
       "2019-03-23  1207.650024  \n",
       "2019-03-24  1207.650024  \n",
       "2019-03-25  1197.380005  \n",
       "2019-03-26  1189.839966  \n",
       "2019-03-27  1178.010010  \n",
       "2019-03-28  1172.270020  \n",
       "2019-03-29  1176.890015  \n",
       "2019-03-30  1176.890015  \n",
       "2019-03-31  1176.890015  \n",
       "2019-04-01  1198.979980  \n",
       "2019-04-02  1205.540039  \n",
       "2019-04-03  1210.810059  \n",
       "2019-04-04  1219.449951  \n",
       "2019-04-05  1211.449951  "
      ]
     },
     "execution_count": 18,
     "metadata": {},
     "output_type": "execute_result"
    }
   ],
   "source": [
    "# Your answer goes here\n"
   ]
  },
  {
   "cell_type": "markdown",
   "metadata": {},
   "source": [
    "The visualization below shows what different ways of filling NA in up-sampling will look like:"
   ]
  },
  {
   "cell_type": "code",
   "execution_count": 19,
   "metadata": {},
   "outputs": [
    {
     "data": {
      "image/png": "[encoded data removed]",
      "text/plain": [
       "<Figure size 864x576 with 2 Axes>"
      ]
     },
     "metadata": {},
     "output_type": "display_data"
    }
   ],
   "source": [
    "sns.set(rc={'figure.figsize':(12,8)})  # Figure size\n",
    "\n",
    "fig, ax = plt.subplots(2, sharex=True)\n",
    "\n",
    "data = data['Close']\n",
    "data.resample('D').mean().plot(ax=ax[0], marker='o')\n",
    "\n",
    "data.resample('D').bfill().plot(ax=ax[1], style=':o')\n",
    "data.resample('D').ffill().plot(ax=ax[1], style=':o')\n",
    "data.resample('D').interpolate().plot(ax=ax[1], style=':o')\n",
    "\n",
    "ax[1].legend([\"back-fill\", \"forward-fill\", \"interpolate\"]);"
   ]
  },
  {
   "cell_type": "markdown",
   "metadata": {},
   "source": [
    "The top panel is the default: non-business days are left as NA values and do not appear on the plot.\n",
    "\n",
    "The bottom panel shows the differences between different strategies for filling the gaps: forward-filling, backward-filling, and interpolating."
   ]
  },
  {
   "cell_type": "markdown",
   "metadata": {},
   "source": [
    "## Exercise 2\n",
    "\n",
    "Using the same DataFrame, can you generate a weekly aggregate for the month of March in 2019?\n",
    "\n",
    "Hint: chain `.loc['2019-03']` to `googl` DataFrame to get March 2019."
   ]
  },
  {
   "cell_type": "code",
   "execution_count": 20,
   "metadata": {},
   "outputs": [
    {
     "data": {
      "text/html": [
       "<div>\n",
       "<style scoped>\n",
       "    .dataframe tbody tr th:only-of-type {\n",
       "        vertical-align: middle;\n",
       "    }\n",
       "\n",
       "    .dataframe tbody tr th {\n",
       "        vertical-align: top;\n",
       "    }\n",
       "\n",
       "    .dataframe thead th {\n",
       "        text-align: right;\n",
       "    }\n",
       "</style>\n",
       "<table border=\"1\" class=\"dataframe\">\n",
       "  <thead>\n",
       "    <tr style=\"text-align: right;\">\n",
       "      <th></th>\n",
       "      <th>High</th>\n",
       "      <th>Low</th>\n",
       "      <th>Open</th>\n",
       "      <th>Close</th>\n",
       "      <th>Volume</th>\n",
       "      <th>Adj Close</th>\n",
       "    </tr>\n",
       "    <tr>\n",
       "      <th>Date</th>\n",
       "      <th></th>\n",
       "      <th></th>\n",
       "      <th></th>\n",
       "      <th></th>\n",
       "      <th></th>\n",
       "      <th></th>\n",
       "    </tr>\n",
       "  </thead>\n",
       "  <tbody>\n",
       "    <tr>\n",
       "      <th>2019-03-03</th>\n",
       "      <td>1150.000000</td>\n",
       "      <td>1131.000000</td>\n",
       "      <td>1131.000000</td>\n",
       "      <td>1148.520020</td>\n",
       "      <td>1704300.0</td>\n",
       "      <td>1148.520020</td>\n",
       "    </tr>\n",
       "    <tr>\n",
       "      <th>2019-03-10</th>\n",
       "      <td>1166.755981</td>\n",
       "      <td>1145.245996</td>\n",
       "      <td>1155.344019</td>\n",
       "      <td>1157.673975</td>\n",
       "      <td>1529660.0</td>\n",
       "      <td>1157.673975</td>\n",
       "    </tr>\n",
       "    <tr>\n",
       "      <th>2019-03-17</th>\n",
       "      <td>1199.831982</td>\n",
       "      <td>1182.004004</td>\n",
       "      <td>1187.450024</td>\n",
       "      <td>1191.680029</td>\n",
       "      <td>1773280.0</td>\n",
       "      <td>1191.680029</td>\n",
       "    </tr>\n",
       "    <tr>\n",
       "      <th>2019-03-24</th>\n",
       "      <td>1219.683984</td>\n",
       "      <td>1198.621973</td>\n",
       "      <td>1206.331982</td>\n",
       "      <td>1212.244019</td>\n",
       "      <td>1583100.0</td>\n",
       "      <td>1212.244019</td>\n",
       "    </tr>\n",
       "    <tr>\n",
       "      <th>2019-03-31</th>\n",
       "      <td>1194.045996</td>\n",
       "      <td>1173.160010</td>\n",
       "      <td>1190.470020</td>\n",
       "      <td>1182.878003</td>\n",
       "      <td>1410480.0</td>\n",
       "      <td>1182.878003</td>\n",
       "    </tr>\n",
       "  </tbody>\n",
       "</table>\n",
       "</div>"
      ],
      "text/plain": [
       "                   High          Low         Open        Close     Volume  \\\n",
       "Date                                                                        \n",
       "2019-03-03  1150.000000  1131.000000  1131.000000  1148.520020  1704300.0   \n",
       "2019-03-10  1166.755981  1145.245996  1155.344019  1157.673975  1529660.0   \n",
       "2019-03-17  1199.831982  1182.004004  1187.450024  1191.680029  1773280.0   \n",
       "2019-03-24  1219.683984  1198.621973  1206.331982  1212.244019  1583100.0   \n",
       "2019-03-31  1194.045996  1173.160010  1190.470020  1182.878003  1410480.0   \n",
       "\n",
       "              Adj Close  \n",
       "Date                     \n",
       "2019-03-03  1148.520020  \n",
       "2019-03-10  1157.673975  \n",
       "2019-03-17  1191.680029  \n",
       "2019-03-24  1212.244019  \n",
       "2019-03-31  1182.878003  "
      ]
     },
     "execution_count": 20,
     "metadata": {},
     "output_type": "execute_result"
    }
   ],
   "source": [
    "# Your answer goes here\n"
   ]
  },
  {
   "cell_type": "markdown",
   "metadata": {},
   "source": [
    "# Visualizing Time Series\n",
    "\n",
    "For simplicity, we'll use just the closing price:"
   ]
  },
  {
   "cell_type": "code",
   "execution_count": 21,
   "metadata": {
    "collapsed": true,
    "jupyter": {
     "outputs_hidden": true
    }
   },
   "outputs": [],
   "source": [
    "googl_close = googl['Close']"
   ]
  },
  {
   "cell_type": "markdown",
   "metadata": {},
   "source": [
    "We can visualize this using the ``plot()`` method:"
   ]
  },
  {
   "cell_type": "code",
   "execution_count": 22,
   "metadata": {
    "collapsed": false,
    "jupyter": {
     "outputs_hidden": false
    }
   },
   "outputs": [
    {
     "data": {
      "text/plain": [
       "Text(0.5, 1.0, 'GOOGL Daily Closing Price - Time Series')"
      ]
     },
     "execution_count": 22,
     "metadata": {},
     "output_type": "execute_result"
    },
    {
     "data": {
      "image/png": "[encoded data removed]",
      "text/plain": [
       "<Figure size 864x576 with 1 Axes>"
      ]
     },
     "metadata": {},
     "output_type": "display_data"
    }
   ],
   "source": [
    "googl_close.plot()\n",
    "plt.title('GOOGL Daily Closing Price - Time Series')"
   ]
  },
  {
   "cell_type": "markdown",
   "metadata": {},
   "source": [
    "We can add an aggregated result using the `resample()` method:"
   ]
  },
  {
   "cell_type": "code",
   "execution_count": 23,
   "metadata": {},
   "outputs": [
    {
     "data": {
      "text/plain": [
       "<matplotlib.legend.Legend at 0x1a1e5a4748>"
      ]
     },
     "execution_count": 23,
     "metadata": {},
     "output_type": "execute_result"
    },
    {
     "data": {
      "image/png": "[encoded data removed]",
      "text/plain": [
       "<Figure size 864x576 with 1 Axes>"
      ]
     },
     "metadata": {},
     "output_type": "display_data"
    }
   ],
   "source": [
    "googl_close.plot(alpha=0.5, style='-')\n",
    "googl_close.resample('A').mean().plot(style=':.')\n",
    "\n",
    "plt.legend(['input', 'resample'], loc='upper left')"
   ]
  },
  {
   "cell_type": "markdown",
   "metadata": {},
   "source": [
    "## Exercise 3\n",
    "\n",
    "Redo the graph except for the last year only ('2018-04-05':'2019-04-05'). Instead of a Year end aggregation use a bi-weekly, \"2W\":\n",
    "\n",
    "Hint: You can get a subset from `googl_close` and save it to a new Series, or chain the subset to directly do the plotting."
   ]
  },
  {
   "cell_type": "code",
   "execution_count": 24,
   "metadata": {},
   "outputs": [
    {
     "data": {
      "text/plain": [
       "<matplotlib.legend.Legend at 0x1a1d42b320>"
      ]
     },
     "execution_count": 24,
     "metadata": {},
     "output_type": "execute_result"
    },
    {
     "data": {
      "image/png": "[encoded data removed]",
      "text/plain": [
       "<Figure size 864x576 with 1 Axes>"
      ]
     },
     "metadata": {},
     "output_type": "display_data"
    }
   ],
   "source": [
    "# Your answer goes here\n"
   ]
  },
  {
   "cell_type": "markdown",
   "metadata": {},
   "source": [
    "## Exercise 4\n",
    "\n",
    "Plot the time series of the \"Volume\" field from `googl` DataFrame for the past 10 years. Use a \"2Q\" aggregation which stands for every two quarters."
   ]
  },
  {
   "cell_type": "code",
   "execution_count": 44,
   "metadata": {},
   "outputs": [
    {
     "data": {
      "text/plain": [
       "<matplotlib.legend.Legend at 0x1a1e33a0b8>"
      ]
     },
     "execution_count": 44,
     "metadata": {},
     "output_type": "execute_result"
    },
    {
     "data": {
      "image/png": "[encoded data removed]",
      "text/plain": [
       "<Figure size 864x576 with 1 Axes>"
      ]
     },
     "metadata": {},
     "output_type": "display_data"
    }
   ],
   "source": [
    "# Your answer goes here\n"
   ]
  },
  {
   "cell_type": "markdown",
   "metadata": {},
   "source": [
    "# Rolling windows\n",
    "\n",
    "Rolling statistics are series-specific operation implemented by Pandas.\n",
    "\n",
    "These can be accomplished via the ``rolling()`` attribute of ``Series`` and ``DataFrame`` objects, which returns a view similar to what we saw with the ``groupby`` operation.\n",
    "\n",
    "This rolling view makes available a number of aggregation operations by default.\n",
    "\n",
    "For example, here is the one-year centered rolling mean and standard deviation of the Google stock prices:"
   ]
  },
  {
   "cell_type": "code",
   "execution_count": 26,
   "metadata": {},
   "outputs": [
    {
     "data": {
      "text/plain": [
       "<matplotlib.legend.Legend at 0x1a1d883588>"
      ]
     },
     "execution_count": 26,
     "metadata": {},
     "output_type": "execute_result"
    },
    {
     "data": {
      "image/png": "[encoded data removed]",
      "text/plain": [
       "<Figure size 864x576 with 1 Axes>"
      ]
     },
     "metadata": {},
     "output_type": "display_data"
    }
   ],
   "source": [
    "rolling = googl_close.rolling(365, center=True)\n",
    "\n",
    "googl_close.plot(alpha=0.4, style='-')\n",
    "rolling.mean().plot(style='--')\n",
    "rolling.std().plot(style=':')\n",
    "\n",
    "plt.legend(['input', 'one-year rolling_mean', 'one-year rolling_std'], loc='upper left')"
   ]
  }
 ],
 "metadata": {
  "kernelspec": {
   "display_name": "Python 3",
   "language": "python",
   "name": "python3"
  },
  "language_info": {
   "codemirror_mode": {
    "name": "ipython",
    "version": 3
   },
   "file_extension": ".py",
   "mimetype": "text/x-python",
   "name": "python",
   "nbconvert_exporter": "python",
   "pygments_lexer": "ipython3",
   "version": "3.7.2"
  }
 },
 "nbformat": 4,
 "nbformat_minor": 4
}
