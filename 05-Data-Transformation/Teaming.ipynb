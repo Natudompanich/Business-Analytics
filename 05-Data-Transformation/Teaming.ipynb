{
  "nbformat": 4,
  "nbformat_minor": 0,
  "metadata": {
    "kernelspec": {
      "display_name": "Python 3",
      "language": "python",
      "name": "python3"
    },
    "language_info": {
      "codemirror_mode": {
        "name": "ipython",
        "version": 3
      },
      "file_extension": ".py",
      "mimetype": "text/x-python",
      "name": "python",
      "nbconvert_exporter": "python",
      "pygments_lexer": "ipython3",
      "version": "3.5.6"
    },
    "colab": {
      "name": "Teaming.ipynb",
      "provenance": [],
      "collapsed_sections": []
    }
  },
  "cells": [
    {
      "cell_type": "markdown",
      "metadata": {
        "id": "SUaLkhkS3sRt",
        "colab_type": "text"
      },
      "source": [
        "# Team Assignment - Cohort A\n",
        "First we pick a seed for a complete random assignment:"
      ]
    },
    {
      "cell_type": "code",
      "metadata": {
        "id": "1RqJ8xkj3sRt",
        "colab_type": "code",
        "colab": {}
      },
      "source": [
        "seed = 42\n",
        "n_leads_needed = 0  # beyond the volunteer leads"
      ],
      "execution_count": 0,
      "outputs": []
    },
    {
      "cell_type": "code",
      "metadata": {
        "id": "daIZQTIX5rN0",
        "colab_type": "code",
        "colab": {}
      },
      "source": [
        "!pip install --upgrade -q gspread"
      ],
      "execution_count": 0,
      "outputs": []
    },
    {
      "cell_type": "code",
      "metadata": {
        "id": "9jETjgS65rNL",
        "colab_type": "code",
        "colab": {}
      },
      "source": [
        "from google.colab import auth\n",
        "auth.authenticate_user()\n",
        "\n",
        "import gspread\n",
        "from oauth2client.client import GoogleCredentials\n",
        "\n",
        "gc = gspread.authorize(GoogleCredentials.get_application_default())"
      ],
      "execution_count": 0,
      "outputs": []
    },
    {
      "cell_type": "code",
      "metadata": {
        "id": "lpkV75y25-cg",
        "colab_type": "code",
        "colab": {}
      },
      "source": [
        "worksheet = gc.open('Teaming-IS833-Spring20').sheet1"
      ],
      "execution_count": 0,
      "outputs": []
    },
    {
      "cell_type": "code",
      "metadata": {
        "id": "QoLryYTTGmol",
        "colab_type": "code",
        "colab": {}
      },
      "source": [
        "rows = worksheet.get_all_values()\n",
        "\n",
        "# Convert to a DataFrame and render.\n",
        "import pandas as pd\n",
        "students = pd.DataFrame.from_records(rows)\n",
        "students.columns = ['name', 'email', 'team']\n",
        "students['team'] = students['team'].astype('bool')\n",
        "students.head(5)"
      ],
      "execution_count": 0,
      "outputs": []
    },
    {
      "cell_type": "markdown",
      "metadata": {
        "id": "11ZF-wac3sR1",
        "colab_type": "text"
      },
      "source": [
        "## Leads\n",
        "Volunteer leads:"
      ]
    },
    {
      "cell_type": "code",
      "metadata": {
        "id": "8NLvX34pGoe3",
        "colab_type": "code",
        "colab": {}
      },
      "source": [
        "volunteer_leads = students[students['team'] == True][['name']]\n",
        "volunteer_leads"
      ],
      "execution_count": 0,
      "outputs": []
    },
    {
      "cell_type": "markdown",
      "metadata": {
        "id": "smiGtWkA3sR3",
        "colab_type": "text"
      },
      "source": [
        "Leads picked by a random generator:"
      ]
    },
    {
      "cell_type": "code",
      "metadata": {
        "id": "-tvRDPUaGqR3",
        "colab_type": "code",
        "colab": {}
      },
      "source": [
        "random_leads = students[students['team'] == False][['name']].sample(n=n_leads_needed, random_state=seed)['name']\n",
        "leads = pd.concat([volunteer_leads, random_leads])\n",
        "leads = leads.sample(frac=1, random_state=seed).reset_index()[['name']]\n",
        "\n",
        "leads = pd.DataFrame({'name': leads['name'].tolist()}, index=pd.Series(range(1,9)))\n",
        "leads.index.name = 'team'\n",
        "print('List of leads:')\n",
        "leads"
      ],
      "execution_count": 0,
      "outputs": []
    },
    {
      "cell_type": "code",
      "metadata": {
        "id": "1Tfr3ySPGt_U",
        "colab_type": "code",
        "colab": {}
      },
      "source": [
        "leads_l = list(leads['name'])\n",
        "students.loc[students['name'].isin(leads_l), 'team'] = True\n",
        "teams = pd.DataFrame()\n",
        "\n",
        "for i, leader in enumerate(leads_l):\n",
        "  take_n = 4\n",
        "  if i < (students.shape[0] % (take_n+1)): take_n += 1\n",
        "  lead_ = students[students['name'] == leader][['name', 'email']]\n",
        "  team_tmp = students[students['team'] == False][['name', 'email']].sample(n=take_n, random_state=seed)\n",
        "  students.loc[students['name'].isin(team_tmp['name']), 'team'] = True\n",
        "  team_tmp = pd.concat([lead_, team_tmp])\n",
        "  team_tmp['team'] = i+1\n",
        "  \n",
        "  teams = pd.concat([teams, team_tmp])\n",
        "teams = teams.reset_index(drop=True)\n",
        "print(teams)"
      ],
      "execution_count": 0,
      "outputs": []
    },
    {
      "cell_type": "code",
      "metadata": {
        "id": "YZppg2Gv-3AE",
        "colab_type": "code",
        "colab": {}
      },
      "source": [
        "teams.to_csv('teams.csv', index=False)"
      ],
      "execution_count": 0,
      "outputs": []
    }
  ]
}