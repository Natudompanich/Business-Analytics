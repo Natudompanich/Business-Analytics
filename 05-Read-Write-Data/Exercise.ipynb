{
 "cells": [
  {
   "cell_type": "markdown",
   "metadata": {},
   "source": [
    "# Exercise - Working with Pandas and Seaborn\n",
    "\n",
    "Now it's your turn to practice what we learned in the previous notebook.\n",
    "\n",
    "Import the real estate dataset from the following Github path: `data/2017_StPaul_MN_Real_Estate.csv`\n",
    "\n",
    "**Local Jupyter:** You can use the relative path `../data/2017_StPaul_MN_Real_Estate.csv` to import it.\n",
    "\n",
    "**Colab:** You will need to upload this file into your Colab container first.\n",
    "\n",
    "Call this DataFrame `houses`. Remember to import pandas first."
   ]
  },
  {
   "cell_type": "code",
   "execution_count": 1,
   "metadata": {},
   "outputs": [],
   "source": [
    "# Your code goes here\n"
   ]
  },
  {
   "cell_type": "markdown",
   "metadata": {},
   "source": [
    "How many rows and columns are there in this dataset?"
   ]
  },
  {
   "cell_type": "code",
   "execution_count": 2,
   "metadata": {},
   "outputs": [
    {
     "data": {
      "text/plain": [
       "(5000, 74)"
      ]
     },
     "execution_count": 2,
     "metadata": {},
     "output_type": "execute_result"
    }
   ],
   "source": [
    "# Your code goes here\n"
   ]
  },
  {
   "cell_type": "markdown",
   "metadata": {},
   "source": [
    "Use the `.format()` method on string to print a readable text based on this info. Here is an example:\n",
    "\n",
    "```python\n",
    "a = 10\n",
    "print(\"The value of a is {} hence a * 3 becomes {}.\".format(a, a*3))\n",
    "```\n",
    "> The value of a is 10 hence a * 3 becomes 30."
   ]
  },
  {
   "cell_type": "code",
   "execution_count": 3,
   "metadata": {},
   "outputs": [
    {
     "name": "stdout",
     "output_type": "stream",
     "text": [
      "There are 5000 rows and 74 columns.\n"
     ]
    }
   ],
   "source": [
    "# Your code goes here\n"
   ]
  },
  {
   "cell_type": "markdown",
   "metadata": {},
   "source": [
    "This dataset has too many columns to study. To start, let's create a new dataset with a smaller number of attributes. To do this, use the following list, `subset_columns`:"
   ]
  },
  {
   "cell_type": "code",
   "execution_count": 4,
   "metadata": {},
   "outputs": [],
   "source": [
    "subset_columns = ['streetaddress','STREETNAME', 'PostalCode', 'StateOrProvince', 'City', \n",
    "                  'SalesClosePrice', 'LISTDATE', 'offmarketdate', 'LISTPRICE', \n",
    "                  'LISTTYPE', 'OriginalListPrice', 'PricePerTSFT', 'DAYSONMARKET', 'ROOF', \n",
    "                  'SQFTABOVEGROUND', 'RoomArea1', 'YEARBUILT']"
   ]
  },
  {
   "cell_type": "markdown",
   "metadata": {},
   "source": [
    "Using the list above create a new DataFrame called `df` that includes the columns specified. One can subset the columns by simply passing a list of the columns to the DataFrame, e.g., `DF[['col1', 'col2']]`. Have in mind that ['col1', 'col2'] was defined in the previous cell, so you can just use it:"
   ]
  },
  {
   "cell_type": "code",
   "execution_count": 5,
   "metadata": {},
   "outputs": [],
   "source": [
    "# Your code goes here\n"
   ]
  },
  {
   "cell_type": "markdown",
   "metadata": {},
   "source": [
    "Check the number of rows and columns on `df`:"
   ]
  },
  {
   "cell_type": "code",
   "execution_count": 6,
   "metadata": {},
   "outputs": [
    {
     "name": "stdout",
     "output_type": "stream",
     "text": [
      "There are 5000 rows and 17 columns.\n"
     ]
    }
   ],
   "source": [
    "# Your code goes here\n"
   ]
  },
  {
   "cell_type": "markdown",
   "metadata": {},
   "source": [
    "Let's have a look at the first few rows of `df`:"
   ]
  },
  {
   "cell_type": "code",
   "execution_count": 7,
   "metadata": {},
   "outputs": [
    {
     "data": {
      "text/html": [
       "<div>\n",
       "<style scoped>\n",
       "    .dataframe tbody tr th:only-of-type {\n",
       "        vertical-align: middle;\n",
       "    }\n",
       "\n",
       "    .dataframe tbody tr th {\n",
       "        vertical-align: top;\n",
       "    }\n",
       "\n",
       "    .dataframe thead th {\n",
       "        text-align: right;\n",
       "    }\n",
       "</style>\n",
       "<table border=\"1\" class=\"dataframe\">\n",
       "  <thead>\n",
       "    <tr style=\"text-align: right;\">\n",
       "      <th></th>\n",
       "      <th>streetaddress</th>\n",
       "      <th>STREETNAME</th>\n",
       "      <th>PostalCode</th>\n",
       "      <th>StateOrProvince</th>\n",
       "      <th>City</th>\n",
       "      <th>SalesClosePrice</th>\n",
       "      <th>LISTDATE</th>\n",
       "      <th>offmarketdate</th>\n",
       "      <th>LISTPRICE</th>\n",
       "      <th>LISTTYPE</th>\n",
       "      <th>OriginalListPrice</th>\n",
       "      <th>PricePerTSFT</th>\n",
       "      <th>DAYSONMARKET</th>\n",
       "      <th>ROOF</th>\n",
       "      <th>SQFTABOVEGROUND</th>\n",
       "      <th>RoomArea1</th>\n",
       "      <th>YEARBUILT</th>\n",
       "    </tr>\n",
       "  </thead>\n",
       "  <tbody>\n",
       "    <tr>\n",
       "      <th>0</th>\n",
       "      <td>11511 Stillwater Blvd N</td>\n",
       "      <td>Stillwater</td>\n",
       "      <td>55042</td>\n",
       "      <td>MN</td>\n",
       "      <td>LELM - Lake Elmo</td>\n",
       "      <td>143000</td>\n",
       "      <td>7/15/2017 0:00</td>\n",
       "      <td>7/30/2017 0:00</td>\n",
       "      <td>139900</td>\n",
       "      <td>Exclusive Right</td>\n",
       "      <td>139900</td>\n",
       "      <td>145.9184</td>\n",
       "      <td>10</td>\n",
       "      <td>NaN</td>\n",
       "      <td>980</td>\n",
       "      <td>16 x 13</td>\n",
       "      <td>1950</td>\n",
       "    </tr>\n",
       "    <tr>\n",
       "      <th>1</th>\n",
       "      <td>11200 31st St N</td>\n",
       "      <td>31st</td>\n",
       "      <td>55042</td>\n",
       "      <td>MN</td>\n",
       "      <td>LELM - Lake Elmo</td>\n",
       "      <td>190000</td>\n",
       "      <td>10/9/2017 0:00</td>\n",
       "      <td>10/13/2017 0:00</td>\n",
       "      <td>210000</td>\n",
       "      <td>Exclusive Right</td>\n",
       "      <td>210000</td>\n",
       "      <td>85.2783</td>\n",
       "      <td>4</td>\n",
       "      <td>Asphalt Shingles, Pitched, Age 8 Years or Less</td>\n",
       "      <td>1268</td>\n",
       "      <td>22x14</td>\n",
       "      <td>1971</td>\n",
       "    </tr>\n",
       "    <tr>\n",
       "      <th>2</th>\n",
       "      <td>8583 Stillwater Blvd N</td>\n",
       "      <td>Stillwater</td>\n",
       "      <td>55042</td>\n",
       "      <td>MN</td>\n",
       "      <td>LELM - Lake Elmo</td>\n",
       "      <td>225000</td>\n",
       "      <td>6/26/2017 0:00</td>\n",
       "      <td>7/24/2017 0:00</td>\n",
       "      <td>225000</td>\n",
       "      <td>Exclusive Right</td>\n",
       "      <td>225000</td>\n",
       "      <td>204.1742</td>\n",
       "      <td>28</td>\n",
       "      <td>NaN</td>\n",
       "      <td>1102</td>\n",
       "      <td>20x13</td>\n",
       "      <td>1949</td>\n",
       "    </tr>\n",
       "    <tr>\n",
       "      <th>3</th>\n",
       "      <td>9350 31st St N</td>\n",
       "      <td>31st</td>\n",
       "      <td>55042</td>\n",
       "      <td>MN</td>\n",
       "      <td>LELM - Lake Elmo</td>\n",
       "      <td>265000</td>\n",
       "      <td>8/25/2017 0:00</td>\n",
       "      <td>9/13/2017 0:00</td>\n",
       "      <td>230000</td>\n",
       "      <td>Exclusive Right</td>\n",
       "      <td>230000</td>\n",
       "      <td>162.3775</td>\n",
       "      <td>19</td>\n",
       "      <td>Asphalt Shingles, Pitched, Age 8 Years or Less</td>\n",
       "      <td>1284</td>\n",
       "      <td>NaN</td>\n",
       "      <td>1960</td>\n",
       "    </tr>\n",
       "    <tr>\n",
       "      <th>4</th>\n",
       "      <td>2915 Inwood Ave N</td>\n",
       "      <td>Inwood</td>\n",
       "      <td>55042</td>\n",
       "      <td>MN</td>\n",
       "      <td>LELM - Lake Elmo</td>\n",
       "      <td>249900</td>\n",
       "      <td>9/12/2017 0:00</td>\n",
       "      <td>10/3/2017 0:00</td>\n",
       "      <td>239900</td>\n",
       "      <td>Exclusive Right</td>\n",
       "      <td>239900</td>\n",
       "      <td>121.7836</td>\n",
       "      <td>21</td>\n",
       "      <td>Asphalt Shingles, Age Over 8 Years</td>\n",
       "      <td>1026</td>\n",
       "      <td>22x14</td>\n",
       "      <td>1978</td>\n",
       "    </tr>\n",
       "  </tbody>\n",
       "</table>\n",
       "</div>"
      ],
      "text/plain": [
       "             streetaddress  STREETNAME  PostalCode StateOrProvince  \\\n",
       "0  11511 Stillwater Blvd N  Stillwater       55042              MN   \n",
       "1          11200 31st St N        31st       55042              MN   \n",
       "2   8583 Stillwater Blvd N  Stillwater       55042              MN   \n",
       "3           9350 31st St N        31st       55042              MN   \n",
       "4        2915 Inwood Ave N      Inwood       55042              MN   \n",
       "\n",
       "               City  SalesClosePrice        LISTDATE    offmarketdate  \\\n",
       "0  LELM - Lake Elmo           143000  7/15/2017 0:00   7/30/2017 0:00   \n",
       "1  LELM - Lake Elmo           190000  10/9/2017 0:00  10/13/2017 0:00   \n",
       "2  LELM - Lake Elmo           225000  6/26/2017 0:00   7/24/2017 0:00   \n",
       "3  LELM - Lake Elmo           265000  8/25/2017 0:00   9/13/2017 0:00   \n",
       "4  LELM - Lake Elmo           249900  9/12/2017 0:00   10/3/2017 0:00   \n",
       "\n",
       "   LISTPRICE         LISTTYPE  OriginalListPrice  PricePerTSFT  DAYSONMARKET  \\\n",
       "0     139900  Exclusive Right             139900      145.9184            10   \n",
       "1     210000  Exclusive Right             210000       85.2783             4   \n",
       "2     225000  Exclusive Right             225000      204.1742            28   \n",
       "3     230000  Exclusive Right             230000      162.3775            19   \n",
       "4     239900  Exclusive Right             239900      121.7836            21   \n",
       "\n",
       "                                             ROOF  SQFTABOVEGROUND RoomArea1  \\\n",
       "0                                             NaN              980   16 x 13   \n",
       "1  Asphalt Shingles, Pitched, Age 8 Years or Less             1268     22x14   \n",
       "2                                             NaN             1102     20x13   \n",
       "3  Asphalt Shingles, Pitched, Age 8 Years or Less             1284       NaN   \n",
       "4              Asphalt Shingles, Age Over 8 Years             1026     22x14   \n",
       "\n",
       "   YEARBUILT  \n",
       "0       1950  \n",
       "1       1971  \n",
       "2       1949  \n",
       "3       1960  \n",
       "4       1978  "
      ]
     },
     "execution_count": 7,
     "metadata": {},
     "output_type": "execute_result"
    }
   ],
   "source": [
    "# Your code goes here\n"
   ]
  },
  {
   "cell_type": "markdown",
   "metadata": {},
   "source": [
    "Use `describe()` to get a high level summary of the data:"
   ]
  },
  {
   "cell_type": "code",
   "execution_count": 8,
   "metadata": {},
   "outputs": [
    {
     "data": {
      "text/html": [
       "<div>\n",
       "<style scoped>\n",
       "    .dataframe tbody tr th:only-of-type {\n",
       "        vertical-align: middle;\n",
       "    }\n",
       "\n",
       "    .dataframe tbody tr th {\n",
       "        vertical-align: top;\n",
       "    }\n",
       "\n",
       "    .dataframe thead th {\n",
       "        text-align: right;\n",
       "    }\n",
       "</style>\n",
       "<table border=\"1\" class=\"dataframe\">\n",
       "  <thead>\n",
       "    <tr style=\"text-align: right;\">\n",
       "      <th></th>\n",
       "      <th>PostalCode</th>\n",
       "      <th>SalesClosePrice</th>\n",
       "      <th>LISTPRICE</th>\n",
       "      <th>OriginalListPrice</th>\n",
       "      <th>PricePerTSFT</th>\n",
       "      <th>DAYSONMARKET</th>\n",
       "      <th>SQFTABOVEGROUND</th>\n",
       "      <th>YEARBUILT</th>\n",
       "    </tr>\n",
       "  </thead>\n",
       "  <tbody>\n",
       "    <tr>\n",
       "      <th>count</th>\n",
       "      <td>5000.000000</td>\n",
       "      <td>5.000000e+03</td>\n",
       "      <td>5.000000e+03</td>\n",
       "      <td>5.000000e+03</td>\n",
       "      <td>5000.000000</td>\n",
       "      <td>5000.000000</td>\n",
       "      <td>5000.000000</td>\n",
       "      <td>5000.00000</td>\n",
       "    </tr>\n",
       "    <tr>\n",
       "      <th>mean</th>\n",
       "      <td>55113.216600</td>\n",
       "      <td>2.628045e+05</td>\n",
       "      <td>2.634194e+05</td>\n",
       "      <td>2.750026e+05</td>\n",
       "      <td>199.869863</td>\n",
       "      <td>28.358400</td>\n",
       "      <td>1489.013000</td>\n",
       "      <td>1958.99960</td>\n",
       "    </tr>\n",
       "    <tr>\n",
       "      <th>std</th>\n",
       "      <td>16.040821</td>\n",
       "      <td>1.405598e+05</td>\n",
       "      <td>1.439441e+05</td>\n",
       "      <td>4.096207e+05</td>\n",
       "      <td>3887.265428</td>\n",
       "      <td>28.708702</td>\n",
       "      <td>626.486803</td>\n",
       "      <td>38.84975</td>\n",
       "    </tr>\n",
       "    <tr>\n",
       "      <th>min</th>\n",
       "      <td>55042.000000</td>\n",
       "      <td>4.800000e+04</td>\n",
       "      <td>4.000000e+04</td>\n",
       "      <td>5.000000e+00</td>\n",
       "      <td>29.556700</td>\n",
       "      <td>0.000000</td>\n",
       "      <td>1.000000</td>\n",
       "      <td>1850.00000</td>\n",
       "    </tr>\n",
       "    <tr>\n",
       "      <th>25%</th>\n",
       "      <td>55105.000000</td>\n",
       "      <td>1.746500e+05</td>\n",
       "      <td>1.720000e+05</td>\n",
       "      <td>1.749000e+05</td>\n",
       "      <td>117.774375</td>\n",
       "      <td>9.000000</td>\n",
       "      <td>1074.000000</td>\n",
       "      <td>1923.00000</td>\n",
       "    </tr>\n",
       "    <tr>\n",
       "      <th>50%</th>\n",
       "      <td>55116.000000</td>\n",
       "      <td>2.250000e+05</td>\n",
       "      <td>2.249000e+05</td>\n",
       "      <td>2.250000e+05</td>\n",
       "      <td>135.728700</td>\n",
       "      <td>19.000000</td>\n",
       "      <td>1320.000000</td>\n",
       "      <td>1959.00000</td>\n",
       "    </tr>\n",
       "    <tr>\n",
       "      <th>75%</th>\n",
       "      <td>55125.000000</td>\n",
       "      <td>3.150000e+05</td>\n",
       "      <td>3.150000e+05</td>\n",
       "      <td>3.200000e+05</td>\n",
       "      <td>164.092350</td>\n",
       "      <td>38.000000</td>\n",
       "      <td>1733.000000</td>\n",
       "      <td>1995.00000</td>\n",
       "    </tr>\n",
       "    <tr>\n",
       "      <th>max</th>\n",
       "      <td>55130.000000</td>\n",
       "      <td>1.700000e+06</td>\n",
       "      <td>1.850000e+06</td>\n",
       "      <td>2.199000e+07</td>\n",
       "      <td>275000.000000</td>\n",
       "      <td>225.000000</td>\n",
       "      <td>7200.000000</td>\n",
       "      <td>2018.00000</td>\n",
       "    </tr>\n",
       "  </tbody>\n",
       "</table>\n",
       "</div>"
      ],
      "text/plain": [
       "         PostalCode  SalesClosePrice     LISTPRICE  OriginalListPrice  \\\n",
       "count   5000.000000     5.000000e+03  5.000000e+03       5.000000e+03   \n",
       "mean   55113.216600     2.628045e+05  2.634194e+05       2.750026e+05   \n",
       "std       16.040821     1.405598e+05  1.439441e+05       4.096207e+05   \n",
       "min    55042.000000     4.800000e+04  4.000000e+04       5.000000e+00   \n",
       "25%    55105.000000     1.746500e+05  1.720000e+05       1.749000e+05   \n",
       "50%    55116.000000     2.250000e+05  2.249000e+05       2.250000e+05   \n",
       "75%    55125.000000     3.150000e+05  3.150000e+05       3.200000e+05   \n",
       "max    55130.000000     1.700000e+06  1.850000e+06       2.199000e+07   \n",
       "\n",
       "        PricePerTSFT  DAYSONMARKET  SQFTABOVEGROUND   YEARBUILT  \n",
       "count    5000.000000   5000.000000      5000.000000  5000.00000  \n",
       "mean      199.869863     28.358400      1489.013000  1958.99960  \n",
       "std      3887.265428     28.708702       626.486803    38.84975  \n",
       "min        29.556700      0.000000         1.000000  1850.00000  \n",
       "25%       117.774375      9.000000      1074.000000  1923.00000  \n",
       "50%       135.728700     19.000000      1320.000000  1959.00000  \n",
       "75%       164.092350     38.000000      1733.000000  1995.00000  \n",
       "max    275000.000000    225.000000      7200.000000  2018.00000  "
      ]
     },
     "execution_count": 8,
     "metadata": {},
     "output_type": "execute_result"
    }
   ],
   "source": [
    "# Your code goes here\n"
   ]
  },
  {
   "cell_type": "markdown",
   "metadata": {},
   "source": [
    "Using `.info()` extract more info regarding the missing values and columns types:"
   ]
  },
  {
   "cell_type": "code",
   "execution_count": 9,
   "metadata": {},
   "outputs": [
    {
     "name": "stdout",
     "output_type": "stream",
     "text": [
      "<class 'pandas.core.frame.DataFrame'>\n",
      "RangeIndex: 5000 entries, 0 to 4999\n",
      "Data columns (total 17 columns):\n",
      "streetaddress        5000 non-null object\n",
      "STREETNAME           5000 non-null object\n",
      "PostalCode           5000 non-null int64\n",
      "StateOrProvince      5000 non-null object\n",
      "City                 5000 non-null object\n",
      "SalesClosePrice      5000 non-null int64\n",
      "LISTDATE             5000 non-null object\n",
      "offmarketdate        5000 non-null object\n",
      "LISTPRICE            5000 non-null int64\n",
      "LISTTYPE             5000 non-null object\n",
      "OriginalListPrice    5000 non-null int64\n",
      "PricePerTSFT         5000 non-null float64\n",
      "DAYSONMARKET         5000 non-null int64\n",
      "ROOF                 4235 non-null object\n",
      "SQFTABOVEGROUND      5000 non-null int64\n",
      "RoomArea1            4543 non-null object\n",
      "YEARBUILT            5000 non-null int64\n",
      "dtypes: float64(1), int64(7), object(9)\n",
      "memory usage: 664.1+ KB\n"
     ]
    }
   ],
   "source": [
    "# Your code goes here\n"
   ]
  },
  {
   "cell_type": "markdown",
   "metadata": {},
   "source": [
    "### How often are houses being sold above the listing price?\n",
    "\n",
    "To answer this question let's first visually inspect the relationship of `LISTPRICE` vs. `SalesClosePrice`. Here is a step by step guide to do that:\n",
    "\n",
    "First we want to tell `matplotlib` that we are running our code in a notebook mode: \n",
    "```python\n",
    "%matplotlib inline\n",
    "```"
   ]
  },
  {
   "cell_type": "code",
   "execution_count": 10,
   "metadata": {},
   "outputs": [],
   "source": [
    "# Your code goes here\n"
   ]
  },
  {
   "cell_type": "markdown",
   "metadata": {},
   "source": [
    "Then import seaborn and use the alias `sns`:"
   ]
  },
  {
   "cell_type": "code",
   "execution_count": 11,
   "metadata": {},
   "outputs": [],
   "source": [
    "# Your code goes here\n"
   ]
  },
  {
   "cell_type": "markdown",
   "metadata": {},
   "source": [
    "Use seaborn's `lmplot()` function to make a scatterplot with a linear model on top. All you need to provide is `x`, `y`, and `data` arguments. If you are facing issues check out the help function `sns.lmplot?`."
   ]
  },
  {
   "cell_type": "code",
   "execution_count": 12,
   "metadata": {},
   "outputs": [
    {
     "data": {
      "text/plain": [
       "<seaborn.axisgrid.FacetGrid at 0x1a1939ad30>"
      ]
     },
     "execution_count": 12,
     "metadata": {},
     "output_type": "execute_result"
    },
    {
     "data": {
      "image/png": "[encoded data removed]",
      "text/plain": [
       "<Figure size 360x360 with 1 Axes>"
      ]
     },
     "metadata": {
      "needs_background": "light"
     },
     "output_type": "display_data"
    }
   ],
   "source": [
    "# Your code goes here\n"
   ]
  },
  {
   "cell_type": "markdown",
   "metadata": {},
   "source": [
    "From the plot it is evident that there is a linear relationship between the two variables as the list price is often times set with professionals. We have two many data points and it is hard to draw a conclusion from this chart. Let's take a different path: we will find the percentage difference between these two variables and plot its histogram. It should give us a better understanding of the relationship.\n",
    "\n",
    "We can start with calculating this percentage difference, something like this:\n",
    "```python\n",
    "(df['SalesClosePrice'] - df['LISTPRICE'])/df['LISTPRICE'] * 100\n",
    "```\n",
    "\n",
    "Let's assign the result to a variable called `sales_vs_list`:"
   ]
  },
  {
   "cell_type": "code",
   "execution_count": 13,
   "metadata": {},
   "outputs": [],
   "source": [
    "# Your code goes here\n"
   ]
  },
  {
   "cell_type": "code",
   "execution_count": 14,
   "metadata": {},
   "outputs": [
    {
     "data": {
      "text/plain": [
       "pandas.core.series.Series"
      ]
     },
     "execution_count": 14,
     "metadata": {},
     "output_type": "execute_result"
    }
   ],
   "source": [
    "type(sales_vs_list)"
   ]
  },
  {
   "cell_type": "markdown",
   "metadata": {},
   "source": [
    "From the type of this object it is clear that this resulted in a pandas Series object. [Series](https://pandas.pydata.org/pandas-docs/stable/reference/api/pandas.Series.html#pandas.Series) are one-dimensional ndarray with axis labels. Series is the datastructure for a single column of a DataFrame, not only conceptually, but literally, i.e. the data in a DataFrame is actually stored in memory as a collection of Series.\n",
    "\n",
    "Now that we have our `sales_vs_list` ready let's try to answer our question.\n",
    "\n",
    "First, use the `describe()` on `sales_vs_list` method to get the statistics summary (similar to DataFrame):"
   ]
  },
  {
   "cell_type": "code",
   "execution_count": 15,
   "metadata": {},
   "outputs": [
    {
     "data": {
      "text/plain": [
       "count    5000.000000\n",
       "mean        0.091693\n",
       "std         4.514791\n",
       "min       -32.584270\n",
       "25%        -1.937002\n",
       "50%         0.000000\n",
       "75%         2.000000\n",
       "max       100.000000\n",
       "dtype: float64"
      ]
     },
     "execution_count": 15,
     "metadata": {},
     "output_type": "execute_result"
    }
   ],
   "source": [
    "# Your code goes here\n"
   ]
  },
  {
   "cell_type": "markdown",
   "metadata": {},
   "source": [
    "A positive `sales_vs_list` value means that the house was sold above the list price and a negative means the opposite. With a 0 median it looks like as many houses were sold above the list price as below. But let's look at the histogram to get a better picture.\n",
    "\n",
    "Use seaborn's `distplot()` to plot a histogram. All you need to do is to pass our variable to it (remember this function is coming from seaborn so you will need to use `.` to access it from seaborn:"
   ]
  },
  {
   "cell_type": "code",
   "execution_count": 16,
   "metadata": {},
   "outputs": [
    {
     "data": {
      "image/png": "[encoded data removed]",
      "text/plain": [
       "<Figure size 432x288 with 1 Axes>"
      ]
     },
     "metadata": {},
     "output_type": "display_data"
    }
   ],
   "source": [
    "# Your code goes here\n"
   ]
  },
  {
   "cell_type": "markdown",
   "metadata": {},
   "source": [
    "This is great, but let's make it even look nicer. You can set \n",
    "```python\n",
    "sns.set_style(\"ticks\")\n",
    "```\n",
    "to give a little extra structure to the plot. Go back to the previous plot and add that line before your plot. Note that you only need to do it once in the notebook and the style will carry for the following cells.\n",
    "\n",
    "Another \"stylish\" change you can make is to remove the top and right axes spines, which are not needed. The seaborn function `despine()` can be called to remove them. It has to be called the line after the plot:\n",
    "```python\n",
    "sns.despine()\n",
    "```\n",
    "\n",
    "To learn more about controlling figure aesthetics checkout [seaborn's documentation page](https://seaborn.pydata.org/tutorial/aesthetics.html)."
   ]
  },
  {
   "cell_type": "markdown",
   "metadata": {},
   "source": [
    "Except some outliers it looks like the houses were sold within the 20% of the list price. We can checkout how many of these outliers are out there.\n",
    "\n",
    "Filtering with Series is very similar to DataFrames; you can create a conditional such as `sales_vs_list > 20` and pass it to the original Series. Let's find all the instances where the house was sold more than 20% above the list price:"
   ]
  },
  {
   "cell_type": "code",
   "execution_count": 17,
   "metadata": {},
   "outputs": [
    {
     "data": {
      "text/plain": [
       "1028    100.000000\n",
       "1031     60.008000\n",
       "1037     36.060100\n",
       "1107     38.775510\n",
       "1468     20.772947\n",
       "2115     21.664814\n",
       "4983     35.747711\n",
       "dtype: float64"
      ]
     },
     "execution_count": 17,
     "metadata": {},
     "output_type": "execute_result"
    }
   ],
   "source": [
    "# Your code goes here\n"
   ]
  },
  {
   "cell_type": "markdown",
   "metadata": {},
   "source": [
    "Okay, that long tail represent only 7 datapoints. Can you re-draw the histogram excluding the values above 20 and below -20?\n",
    "\n",
    "This time use `kde=False` to ignore the gaussian kernel density estimate, use `bins=30` to include 30 bins, and specify `color=\"green\"` for a change:"
   ]
  },
  {
   "cell_type": "code",
   "execution_count": 18,
   "metadata": {},
   "outputs": [
    {
     "data": {
      "image/png": "[encoded data removed]",
      "text/plain": [
       "<Figure size 432x288 with 1 Axes>"
      ]
     },
     "metadata": {},
     "output_type": "display_data"
    }
   ],
   "source": [
    "# Your code goes here\n"
   ]
  },
  {
   "cell_type": "markdown",
   "metadata": {},
   "source": [
    "Can you find how many of the houses were sold within 1% of the list price?"
   ]
  },
  {
   "cell_type": "code",
   "execution_count": 19,
   "metadata": {},
   "outputs": [
    {
     "data": {
      "text/plain": [
       "1699"
      ]
     },
     "execution_count": 19,
     "metadata": {},
     "output_type": "execute_result"
    }
   ],
   "source": [
    "# Your code goes here\n"
   ]
  },
  {
   "cell_type": "markdown",
   "metadata": {},
   "source": [
    "What percentage of overall dataset does it translate to?"
   ]
  },
  {
   "cell_type": "code",
   "execution_count": 20,
   "metadata": {},
   "outputs": [
    {
     "data": {
      "text/plain": [
       "33.98"
      ]
     },
     "execution_count": 20,
     "metadata": {},
     "output_type": "execute_result"
    }
   ],
   "source": [
    "# Your code goes here\n"
   ]
  },
  {
   "cell_type": "markdown",
   "metadata": {},
   "source": [
    "Now that we are pros in plotting histograms let's go back to our `df` DataFrame and plot the histogram of `SalesClosePrice`.\n",
    "\n",
    "Note that in the plot below I have used `.set_title(\"Distribution of Closing Price\")` to assign a title. Just append that to the rest of your code."
   ]
  },
  {
   "cell_type": "code",
   "execution_count": 21,
   "metadata": {},
   "outputs": [
    {
     "data": {
      "image/png": "[encoded data removed]",
      "text/plain": [
       "<Figure size 432x288 with 1 Axes>"
      ]
     },
     "metadata": {},
     "output_type": "display_data"
    }
   ],
   "source": [
    "# Your code goes here\n"
   ]
  },
  {
   "cell_type": "markdown",
   "metadata": {},
   "source": [
    "Note: seaborn is built on top of matplotlib. This means that we can use matplotlib's functions along with it. For instance in the above plot I have used the followings to format my graph:\n",
    "```python\n",
    "plt.xticks(rotation=20)\n",
    "plt.title(\"Distribution of Closing Price\")\n",
    "```\n",
    "\n",
    "You still need to `import matplotlib.pyplot as plt`."
   ]
  }
 ],
 "metadata": {
  "kernelspec": {
   "display_name": "Python 3",
   "language": "python",
   "name": "python3"
  },
  "language_info": {
   "codemirror_mode": {
    "name": "ipython",
    "version": 3
   },
   "file_extension": ".py",
   "mimetype": "text/x-python",
   "name": "python",
   "nbconvert_exporter": "python",
   "pygments_lexer": "ipython3",
   "version": "3.7.2"
  }
 },
 "nbformat": 4,
 "nbformat_minor": 2
}
