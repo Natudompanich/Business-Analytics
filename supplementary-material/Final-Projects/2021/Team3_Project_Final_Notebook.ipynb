{
  "nbformat": 4,
  "nbformat_minor": 0,
  "metadata": {
    "colab": {
      "name": "IS833 Team 3 Project Final Notebook.ipynb",
      "provenance": [],
      "collapsed_sections": []
    },
    "kernelspec": {
      "name": "python3",
      "display_name": "Python 3"
    },
    "language_info": {
      "name": "python"
    }
  },
  "cells": [
    {
      "cell_type": "markdown",
      "metadata": {
        "id": "6H0XmU359nTh"
      },
      "source": [
        "# Improving Boston Housing Decisions With Better Safety Information\n",
        "---\n",
        "\n",
        "## Problem Definition\n",
        "\n",
        "For many domestic and international students moving to Boston, the choice of which neighborhood to live in is often difficult and involves variables other than price and convenience. Neighborhood safety is particularly hard to judge for those coming to the city for the first time. Crime statistics are readily available, but the economic and social factors associated with crime are numerous and their relative importance is difficult to determine. Moreover, students new to Boston may be interested in a more detailed safety analysis, being concerned about certain types of crimes more than others. **Our goal is to build a model that predicts the likelihood of a general or specific crime occurring in any Boston neighborhood as a function of that neighborhood's economic, social, and infrastructural attributes.**\n",
        "\n",
        "## Data Sources\n",
        "\n",
        "* Boston Police Department Crime Incident Reports\n",
        "  * Kaggle Link: https://www.kaggle.com/AnalyzeBoston/crimes-in-boston\n",
        "  * Original Source: https://data.boston.gov/dataset/crime-incident-reports-august-2015-to-date-source-new-system\n",
        "* U.S. Census Decennial Data; BPDA Research Division; 2015-2019 American Community Survey\n",
        "  * Original Source: https://data.boston.gov/dataset/neighborhood-demographics/resource/d8c23c6a-b868-4ba4-8a3b-b9615a21be07\n",
        "\n",
        "\n",
        "\n"
      ]
    },
    {
      "cell_type": "markdown",
      "metadata": {
        "id": "8lJehfbSCpE-"
      },
      "source": [
        "## Data Dictionary\n",
        "\n",
        "Below is a collection of dictionaries that provides an overview and field definitions for the primary/master dataset used in this analysis.\n",
        "\n",
        "### crimes_with_neigborhoods.csv\n",
        "\n",
        "**Overview**: this dataset records all crimes responded to by the Boston Police Department over a period ranging from 2015-2019, along with their exact times of occurrence, exact locations, offense descriptions, and official designations of the Boston neighborhood each crime occurred in.\n",
        "\n",
        "* **Unnamed Field**: residual row index from a previous analysis.\n",
        "* **incident_number**: unique identifier for a crime incident responded to by the BDP.\n",
        "* **offense_code**: numeric code representing the BPD system's classification of the crime type.\n",
        "* **offense_code_group**: BPD system's classification of the crime type.\n",
        "* **offense_description**: specific description of the crime incident.\n",
        "* **district**: BPD district code for reporting.\n",
        "* **reporting_area**: BPD sub-district report area code.\n",
        "* **shooting**: whether or not the crime involved a shooting (1 if yes, 0 if no).\n",
        "* **occurred_on_date**: date and time the crime occurred.\n",
        "* **year**: year of the crime incident date.\n",
        "* **month**: month of the crime incident date.\n",
        "* **day_of_week**: day of the week on which the crime occurred.\n",
        "* **hour**: hour of the day on which the crime occurred.\n",
        "* **ucr_part**: Universal Crime Reporting Part number.\n",
        "* **street**: name of street the crime occurred on.\n",
        "* **lat**: latitude of the crime location.\n",
        "* **long**: longitude of the crime location.\n",
        "* **Neighborhood**: neighborhood of Boston that the crime location belongs to."
      ]
    },
    {
      "cell_type": "markdown",
      "metadata": {
        "id": "wwO5oYqkAzad"
      },
      "source": [
        "## Importing necessary modules"
      ]
    },
    {
      "cell_type": "markdown",
      "metadata": {
        "id": "0k7r5oM9BOQL"
      },
      "source": [
        "For this EDA, we'll need Pandas to support our data storage, cleaning, and other preparation operations. We'll also need Matplotlib and Seaborn to support any useful visualizations. Lastly, we're also importing Numpy as a backup in case any of our data operations result in a dependency there."
      ]
    },
    {
      "cell_type": "code",
      "metadata": {
        "id": "mPxTZNhtTIz2"
      },
      "source": [
        "import numpy as np\n",
        "import pandas as pd\n",
        "import matplotlib.pyplot as plt\n",
        "import seaborn as sns"
      ],
      "execution_count": 57,
      "outputs": []
    },
    {
      "cell_type": "markdown",
      "metadata": {
        "id": "ATCG-XOWKeU4"
      },
      "source": [
        "# Loading Datasets\n",
        "\n",
        "Here, we are loading the primary datasets to be used in this analysis."
      ]
    },
    {
      "cell_type": "code",
      "metadata": {
        "colab": {
          "base_uri": "https://localhost:8080/"
        },
        "id": "RclTN6wGJmaJ",
        "outputId": "b92c131b-ccb6-4efc-b792-2c61bec8a396"
      },
      "source": [
        "from google.colab import drive\n",
        "drive.mount('/content/drive')"
      ],
      "execution_count": 58,
      "outputs": [
        {
          "output_type": "stream",
          "text": [
            "Drive already mounted at /content/drive; to attempt to forcibly remount, call drive.mount(\"/content/drive\", force_remount=True).\n"
          ],
          "name": "stdout"
        }
      ]
    },
    {
      "cell_type": "code",
      "metadata": {
        "id": "2Sy9w3JCLh9X"
      },
      "source": [
        "crimes_w_neighborhoods = pd.read_csv('/content/drive/Shareddrives/IS833_Project/crimes_with_neighborhoods.csv', parse_dates=True)\n",
        "crime_rates_by_neighborhood = pd.read_csv('/content/drive/Shareddrives/IS833_Project/crime_rates_by_neighborhood.csv')\n",
        "population = pd.read_csv('/content/drive/Shareddrives/IS833_Project/population.csv')"
      ],
      "execution_count": 59,
      "outputs": []
    },
    {
      "cell_type": "markdown",
      "metadata": {
        "id": "AntGvhC4NGzp"
      },
      "source": [
        "# Initial Data Cleaning"
      ]
    },
    {
      "cell_type": "code",
      "metadata": {
        "colab": {
          "base_uri": "https://localhost:8080/",
          "height": 360
        },
        "id": "Uv8XVJ5kMDlN",
        "outputId": "39c0b41f-4319-48ef-c225-e31d530b5572"
      },
      "source": [
        "crimes_w_neighborhoods.head()"
      ],
      "execution_count": 60,
      "outputs": [
        {
          "output_type": "execute_result",
          "data": {
            "text/html": [
              "<div>\n",
              "<style scoped>\n",
              "    .dataframe tbody tr th:only-of-type {\n",
              "        vertical-align: middle;\n",
              "    }\n",
              "\n",
              "    .dataframe tbody tr th {\n",
              "        vertical-align: top;\n",
              "    }\n",
              "\n",
              "    .dataframe thead th {\n",
              "        text-align: right;\n",
              "    }\n",
              "</style>\n",
              "<table border=\"1\" class=\"dataframe\">\n",
              "  <thead>\n",
              "    <tr style=\"text-align: right;\">\n",
              "      <th></th>\n",
              "      <th>Unnamed: 0</th>\n",
              "      <th>incident_number</th>\n",
              "      <th>offense_code</th>\n",
              "      <th>offense_code_group</th>\n",
              "      <th>offense_description</th>\n",
              "      <th>district</th>\n",
              "      <th>reporting_area</th>\n",
              "      <th>shooting</th>\n",
              "      <th>occurred_on_date</th>\n",
              "      <th>year</th>\n",
              "      <th>month</th>\n",
              "      <th>day_of_week</th>\n",
              "      <th>hour</th>\n",
              "      <th>ucr_part</th>\n",
              "      <th>street</th>\n",
              "      <th>lat</th>\n",
              "      <th>long</th>\n",
              "      <th>Neighborhood</th>\n",
              "    </tr>\n",
              "  </thead>\n",
              "  <tbody>\n",
              "    <tr>\n",
              "      <th>0</th>\n",
              "      <td>0</td>\n",
              "      <td>I192006902</td>\n",
              "      <td>1402</td>\n",
              "      <td>Vandalism</td>\n",
              "      <td>VANDALISM</td>\n",
              "      <td>C11</td>\n",
              "      <td>364.0</td>\n",
              "      <td>0</td>\n",
              "      <td>2019-01-25 22:30:00</td>\n",
              "      <td>2019</td>\n",
              "      <td>1</td>\n",
              "      <td>Friday</td>\n",
              "      <td>22</td>\n",
              "      <td>Part Two</td>\n",
              "      <td>CENTRE ST</td>\n",
              "      <td>42.295064</td>\n",
              "      <td>-71.056725</td>\n",
              "      <td>Dorchester</td>\n",
              "    </tr>\n",
              "    <tr>\n",
              "      <th>1</th>\n",
              "      <td>1</td>\n",
              "      <td>I192006833</td>\n",
              "      <td>522</td>\n",
              "      <td>Residential Burglary</td>\n",
              "      <td>BURGLARY - RESIDENTIAL - NO FORCE</td>\n",
              "      <td>D14</td>\n",
              "      <td>794.0</td>\n",
              "      <td>0</td>\n",
              "      <td>2019-01-25 12:41:00</td>\n",
              "      <td>2019</td>\n",
              "      <td>1</td>\n",
              "      <td>Friday</td>\n",
              "      <td>12</td>\n",
              "      <td>Part One</td>\n",
              "      <td>GLENVILLE AVE</td>\n",
              "      <td>42.349780</td>\n",
              "      <td>-71.134230</td>\n",
              "      <td>Allston</td>\n",
              "    </tr>\n",
              "    <tr>\n",
              "      <th>2</th>\n",
              "      <td>2</td>\n",
              "      <td>I192006763</td>\n",
              "      <td>619</td>\n",
              "      <td>Larceny</td>\n",
              "      <td>LARCENY ALL OTHERS</td>\n",
              "      <td>C11</td>\n",
              "      <td>333.0</td>\n",
              "      <td>0</td>\n",
              "      <td>2019-01-09 11:14:00</td>\n",
              "      <td>2019</td>\n",
              "      <td>1</td>\n",
              "      <td>Wednesday</td>\n",
              "      <td>11</td>\n",
              "      <td>Part One</td>\n",
              "      <td>MOUNT EVERETT ST</td>\n",
              "      <td>42.310136</td>\n",
              "      <td>-71.070293</td>\n",
              "      <td>Dorchester</td>\n",
              "    </tr>\n",
              "    <tr>\n",
              "      <th>3</th>\n",
              "      <td>4</td>\n",
              "      <td>I192006619</td>\n",
              "      <td>619</td>\n",
              "      <td>Larceny</td>\n",
              "      <td>LARCENY ALL OTHERS</td>\n",
              "      <td>B2</td>\n",
              "      <td>280.0</td>\n",
              "      <td>0</td>\n",
              "      <td>2019-01-25 17:53:00</td>\n",
              "      <td>2019</td>\n",
              "      <td>1</td>\n",
              "      <td>Friday</td>\n",
              "      <td>17</td>\n",
              "      <td>Part One</td>\n",
              "      <td>DUDLEY ST</td>\n",
              "      <td>42.328632</td>\n",
              "      <td>-71.083099</td>\n",
              "      <td>Roxbury</td>\n",
              "    </tr>\n",
              "    <tr>\n",
              "      <th>4</th>\n",
              "      <td>5</td>\n",
              "      <td>I192006543</td>\n",
              "      <td>2629</td>\n",
              "      <td>Harassment</td>\n",
              "      <td>HARASSMENT</td>\n",
              "      <td>B2</td>\n",
              "      <td>181.0</td>\n",
              "      <td>0</td>\n",
              "      <td>2019-01-25 13:00:00</td>\n",
              "      <td>2019</td>\n",
              "      <td>1</td>\n",
              "      <td>Friday</td>\n",
              "      <td>13</td>\n",
              "      <td>Part Two</td>\n",
              "      <td>DUDLEY ST</td>\n",
              "      <td>42.324355</td>\n",
              "      <td>-71.074403</td>\n",
              "      <td>Roxbury</td>\n",
              "    </tr>\n",
              "  </tbody>\n",
              "</table>\n",
              "</div>"
            ],
            "text/plain": [
              "   Unnamed: 0 incident_number  offense_code  ...        lat       long Neighborhood\n",
              "0           0      I192006902          1402  ...  42.295064 -71.056725   Dorchester\n",
              "1           1      I192006833           522  ...  42.349780 -71.134230      Allston\n",
              "2           2      I192006763           619  ...  42.310136 -71.070293   Dorchester\n",
              "3           4      I192006619           619  ...  42.328632 -71.083099      Roxbury\n",
              "4           5      I192006543          2629  ...  42.324355 -71.074403      Roxbury\n",
              "\n",
              "[5 rows x 18 columns]"
            ]
          },
          "metadata": {
            "tags": []
          },
          "execution_count": 60
        }
      ]
    },
    {
      "cell_type": "code",
      "metadata": {
        "colab": {
          "base_uri": "https://localhost:8080/"
        },
        "id": "ILUEdcmUXP_4",
        "outputId": "de287f47-ea20-487d-a2ae-c04204f6b6c1"
      },
      "source": [
        "crimes_w_neighborhoods.info()"
      ],
      "execution_count": 61,
      "outputs": [
        {
          "output_type": "stream",
          "text": [
            "<class 'pandas.core.frame.DataFrame'>\n",
            "RangeIndex: 169577 entries, 0 to 169576\n",
            "Data columns (total 18 columns):\n",
            " #   Column               Non-Null Count   Dtype  \n",
            "---  ------               --------------   -----  \n",
            " 0   Unnamed: 0           169577 non-null  int64  \n",
            " 1   incident_number      169577 non-null  object \n",
            " 2   offense_code         169577 non-null  int64  \n",
            " 3   offense_code_group   169577 non-null  object \n",
            " 4   offense_description  169577 non-null  object \n",
            " 5   district             168906 non-null  object \n",
            " 6   reporting_area       168240 non-null  float64\n",
            " 7   shooting             169577 non-null  object \n",
            " 8   occurred_on_date     169577 non-null  object \n",
            " 9   year                 169577 non-null  int64  \n",
            " 10  month                169577 non-null  int64  \n",
            " 11  day_of_week          169577 non-null  object \n",
            " 12  hour                 169577 non-null  int64  \n",
            " 13  ucr_part             169484 non-null  object \n",
            " 14  street               168702 non-null  object \n",
            " 15  lat                  169577 non-null  float64\n",
            " 16  long                 169577 non-null  float64\n",
            " 17  Neighborhood         169080 non-null  object \n",
            "dtypes: float64(3), int64(5), object(10)\n",
            "memory usage: 23.3+ MB\n"
          ],
          "name": "stdout"
        }
      ]
    },
    {
      "cell_type": "code",
      "metadata": {
        "colab": {
          "base_uri": "https://localhost:8080/",
          "height": 241
        },
        "id": "VYqLv7KmNL8h",
        "outputId": "1de492ca-2485-4d56-bdcf-91b40a829d91"
      },
      "source": [
        "crime_rates_by_neighborhood.head()"
      ],
      "execution_count": 62,
      "outputs": [
        {
          "output_type": "execute_result",
          "data": {
            "text/html": [
              "<div>\n",
              "<style scoped>\n",
              "    .dataframe tbody tr th:only-of-type {\n",
              "        vertical-align: middle;\n",
              "    }\n",
              "\n",
              "    .dataframe tbody tr th {\n",
              "        vertical-align: top;\n",
              "    }\n",
              "\n",
              "    .dataframe thead th {\n",
              "        text-align: right;\n",
              "    }\n",
              "</style>\n",
              "<table border=\"1\" class=\"dataframe\">\n",
              "  <thead>\n",
              "    <tr style=\"text-align: right;\">\n",
              "      <th></th>\n",
              "      <th>Unnamed: 0</th>\n",
              "      <th>population</th>\n",
              "      <th>count</th>\n",
              "      <th>Crime rate</th>\n",
              "      <th>murder_and_nonnegligent_manslaughter</th>\n",
              "      <th>aggravated_assault</th>\n",
              "      <th>robbery</th>\n",
              "      <th>arson</th>\n",
              "      <th>auto_theft</th>\n",
              "      <th>larceny</th>\n",
              "      <th>burglary</th>\n",
              "      <th>violent_crimes</th>\n",
              "      <th>property_crimes</th>\n",
              "      <th>murder_rate</th>\n",
              "      <th>aggravated_assault_rate</th>\n",
              "      <th>robbery_rate</th>\n",
              "      <th>arson_rate</th>\n",
              "      <th>auto_theft_rate</th>\n",
              "      <th>larceny_rate</th>\n",
              "      <th>burglary_rate</th>\n",
              "      <th>violent_crime_rate</th>\n",
              "      <th>property_crime_rate</th>\n",
              "    </tr>\n",
              "  </thead>\n",
              "  <tbody>\n",
              "    <tr>\n",
              "      <th>0</th>\n",
              "      <td>Allston</td>\n",
              "      <td>22312</td>\n",
              "      <td>4697.0</td>\n",
              "      <td>5812.239053</td>\n",
              "      <td>0.0</td>\n",
              "      <td>189.0</td>\n",
              "      <td>104.0</td>\n",
              "      <td>4.0</td>\n",
              "      <td>145.0</td>\n",
              "      <td>1237.0</td>\n",
              "      <td>461.0</td>\n",
              "      <td>293.0</td>\n",
              "      <td>1847.0</td>\n",
              "      <td>0.000000</td>\n",
              "      <td>233.875491</td>\n",
              "      <td>128.693392</td>\n",
              "      <td>4.949746</td>\n",
              "      <td>179.428287</td>\n",
              "      <td>1530.708901</td>\n",
              "      <td>570.458208</td>\n",
              "      <td>362.568883</td>\n",
              "      <td>2285.545142</td>\n",
              "    </tr>\n",
              "    <tr>\n",
              "      <th>1</th>\n",
              "      <td>Back Bay</td>\n",
              "      <td>16622</td>\n",
              "      <td>8965.0</td>\n",
              "      <td>14891.156408</td>\n",
              "      <td>0.0</td>\n",
              "      <td>198.0</td>\n",
              "      <td>151.0</td>\n",
              "      <td>4.0</td>\n",
              "      <td>198.0</td>\n",
              "      <td>5069.0</td>\n",
              "      <td>318.0</td>\n",
              "      <td>349.0</td>\n",
              "      <td>5589.0</td>\n",
              "      <td>0.000000</td>\n",
              "      <td>328.884436</td>\n",
              "      <td>250.815908</td>\n",
              "      <td>6.644130</td>\n",
              "      <td>328.884436</td>\n",
              "      <td>8419.773768</td>\n",
              "      <td>528.208337</td>\n",
              "      <td>579.700344</td>\n",
              "      <td>9283.510671</td>\n",
              "    </tr>\n",
              "    <tr>\n",
              "      <th>2</th>\n",
              "      <td>Beacon Hill</td>\n",
              "      <td>9023</td>\n",
              "      <td>1399.0</td>\n",
              "      <td>4280.831823</td>\n",
              "      <td>0.0</td>\n",
              "      <td>14.0</td>\n",
              "      <td>21.0</td>\n",
              "      <td>1.0</td>\n",
              "      <td>44.0</td>\n",
              "      <td>594.0</td>\n",
              "      <td>71.0</td>\n",
              "      <td>35.0</td>\n",
              "      <td>710.0</td>\n",
              "      <td>0.000000</td>\n",
              "      <td>42.838917</td>\n",
              "      <td>64.258376</td>\n",
              "      <td>3.059923</td>\n",
              "      <td>134.636598</td>\n",
              "      <td>1817.594069</td>\n",
              "      <td>217.254510</td>\n",
              "      <td>107.097294</td>\n",
              "      <td>2172.545099</td>\n",
              "    </tr>\n",
              "    <tr>\n",
              "      <th>3</th>\n",
              "      <td>Brighton</td>\n",
              "      <td>52685</td>\n",
              "      <td>5300.0</td>\n",
              "      <td>2777.475870</td>\n",
              "      <td>3.0</td>\n",
              "      <td>150.0</td>\n",
              "      <td>72.0</td>\n",
              "      <td>3.0</td>\n",
              "      <td>151.0</td>\n",
              "      <td>1265.0</td>\n",
              "      <td>477.0</td>\n",
              "      <td>225.0</td>\n",
              "      <td>1896.0</td>\n",
              "      <td>1.572156</td>\n",
              "      <td>78.607808</td>\n",
              "      <td>37.731748</td>\n",
              "      <td>1.572156</td>\n",
              "      <td>79.131860</td>\n",
              "      <td>662.925844</td>\n",
              "      <td>249.972828</td>\n",
              "      <td>117.911711</td>\n",
              "      <td>993.602688</td>\n",
              "    </tr>\n",
              "    <tr>\n",
              "      <th>4</th>\n",
              "      <td>Charlestown</td>\n",
              "      <td>16439</td>\n",
              "      <td>3025.0</td>\n",
              "      <td>5080.557756</td>\n",
              "      <td>1.0</td>\n",
              "      <td>126.0</td>\n",
              "      <td>90.0</td>\n",
              "      <td>3.0</td>\n",
              "      <td>100.0</td>\n",
              "      <td>743.0</td>\n",
              "      <td>120.0</td>\n",
              "      <td>217.0</td>\n",
              "      <td>966.0</td>\n",
              "      <td>1.679523</td>\n",
              "      <td>211.619926</td>\n",
              "      <td>151.157090</td>\n",
              "      <td>5.038570</td>\n",
              "      <td>167.952323</td>\n",
              "      <td>1247.885756</td>\n",
              "      <td>201.542787</td>\n",
              "      <td>364.456540</td>\n",
              "      <td>1622.419436</td>\n",
              "    </tr>\n",
              "  </tbody>\n",
              "</table>\n",
              "</div>"
            ],
            "text/plain": [
              "    Unnamed: 0  population  ...  violent_crime_rate  property_crime_rate\n",
              "0      Allston       22312  ...          362.568883          2285.545142\n",
              "1     Back Bay       16622  ...          579.700344          9283.510671\n",
              "2  Beacon Hill        9023  ...          107.097294          2172.545099\n",
              "3     Brighton       52685  ...          117.911711           993.602688\n",
              "4  Charlestown       16439  ...          364.456540          1622.419436\n",
              "\n",
              "[5 rows x 22 columns]"
            ]
          },
          "metadata": {
            "tags": []
          },
          "execution_count": 62
        }
      ]
    },
    {
      "cell_type": "code",
      "metadata": {
        "colab": {
          "base_uri": "https://localhost:8080/"
        },
        "id": "cdq1rQZEXWU4",
        "outputId": "2d3e0419-4235-430f-a521-83d1e4d2de62"
      },
      "source": [
        "crime_rates_by_neighborhood.info()"
      ],
      "execution_count": 63,
      "outputs": [
        {
          "output_type": "stream",
          "text": [
            "<class 'pandas.core.frame.DataFrame'>\n",
            "RangeIndex: 23 entries, 0 to 22\n",
            "Data columns (total 22 columns):\n",
            " #   Column                                Non-Null Count  Dtype  \n",
            "---  ------                                --------------  -----  \n",
            " 0   Unnamed: 0                            23 non-null     object \n",
            " 1   population                            23 non-null     int64  \n",
            " 2   count                                 23 non-null     float64\n",
            " 3   Crime rate                            23 non-null     float64\n",
            " 4   murder_and_nonnegligent_manslaughter  23 non-null     float64\n",
            " 5   aggravated_assault                    23 non-null     float64\n",
            " 6   robbery                               23 non-null     float64\n",
            " 7   arson                                 23 non-null     float64\n",
            " 8   auto_theft                            23 non-null     float64\n",
            " 9   larceny                               23 non-null     float64\n",
            " 10  burglary                              23 non-null     float64\n",
            " 11  violent_crimes                        23 non-null     float64\n",
            " 12  property_crimes                       23 non-null     float64\n",
            " 13  murder_rate                           23 non-null     float64\n",
            " 14  aggravated_assault_rate               23 non-null     float64\n",
            " 15  robbery_rate                          23 non-null     float64\n",
            " 16  arson_rate                            23 non-null     float64\n",
            " 17  auto_theft_rate                       23 non-null     float64\n",
            " 18  larceny_rate                          23 non-null     float64\n",
            " 19  burglary_rate                         23 non-null     float64\n",
            " 20  violent_crime_rate                    23 non-null     float64\n",
            " 21  property_crime_rate                   23 non-null     float64\n",
            "dtypes: float64(20), int64(1), object(1)\n",
            "memory usage: 4.1+ KB\n"
          ],
          "name": "stdout"
        }
      ]
    },
    {
      "cell_type": "code",
      "metadata": {
        "colab": {
          "base_uri": "https://localhost:8080/",
          "height": 204
        },
        "id": "w86ccf4FNy0k",
        "outputId": "9de21d6b-8b59-4816-f917-774a35c1d8da"
      },
      "source": [
        "population.head()"
      ],
      "execution_count": 64,
      "outputs": [
        {
          "output_type": "execute_result",
          "data": {
            "text/html": [
              "<div>\n",
              "<style scoped>\n",
              "    .dataframe tbody tr th:only-of-type {\n",
              "        vertical-align: middle;\n",
              "    }\n",
              "\n",
              "    .dataframe tbody tr th {\n",
              "        vertical-align: top;\n",
              "    }\n",
              "\n",
              "    .dataframe thead th {\n",
              "        text-align: right;\n",
              "    }\n",
              "</style>\n",
              "<table border=\"1\" class=\"dataframe\">\n",
              "  <thead>\n",
              "    <tr style=\"text-align: right;\">\n",
              "      <th></th>\n",
              "      <th>Unnamed: 0</th>\n",
              "      <th>population</th>\n",
              "    </tr>\n",
              "  </thead>\n",
              "  <tbody>\n",
              "    <tr>\n",
              "      <th>0</th>\n",
              "      <td>Allston</td>\n",
              "      <td>22312</td>\n",
              "    </tr>\n",
              "    <tr>\n",
              "      <th>1</th>\n",
              "      <td>Back Bay</td>\n",
              "      <td>16622</td>\n",
              "    </tr>\n",
              "    <tr>\n",
              "      <th>2</th>\n",
              "      <td>Beacon Hill</td>\n",
              "      <td>9023</td>\n",
              "    </tr>\n",
              "    <tr>\n",
              "      <th>3</th>\n",
              "      <td>Brighton</td>\n",
              "      <td>52685</td>\n",
              "    </tr>\n",
              "    <tr>\n",
              "      <th>4</th>\n",
              "      <td>Charlestown</td>\n",
              "      <td>16439</td>\n",
              "    </tr>\n",
              "  </tbody>\n",
              "</table>\n",
              "</div>"
            ],
            "text/plain": [
              "    Unnamed: 0  population\n",
              "0      Allston       22312\n",
              "1     Back Bay       16622\n",
              "2  Beacon Hill        9023\n",
              "3     Brighton       52685\n",
              "4  Charlestown       16439"
            ]
          },
          "metadata": {
            "tags": []
          },
          "execution_count": 64
        }
      ]
    },
    {
      "cell_type": "code",
      "metadata": {
        "colab": {
          "base_uri": "https://localhost:8080/"
        },
        "id": "UES-JBO2XbO4",
        "outputId": "17f50255-aa0e-488b-ce44-feee188ea252"
      },
      "source": [
        "population.info()"
      ],
      "execution_count": 65,
      "outputs": [
        {
          "output_type": "stream",
          "text": [
            "<class 'pandas.core.frame.DataFrame'>\n",
            "RangeIndex: 23 entries, 0 to 22\n",
            "Data columns (total 2 columns):\n",
            " #   Column      Non-Null Count  Dtype \n",
            "---  ------      --------------  ----- \n",
            " 0   Unnamed: 0  23 non-null     object\n",
            " 1   population  23 non-null     int64 \n",
            "dtypes: int64(1), object(1)\n",
            "memory usage: 496.0+ bytes\n"
          ],
          "name": "stdout"
        }
      ]
    },
    {
      "cell_type": "markdown",
      "metadata": {
        "id": "6IGP2aejOq_6"
      },
      "source": [
        "From visual inspection, we can see a few issues:\n",
        "\n",
        "* crimes_w_neighborhoods\n",
        "  * The first column is an unlabeled field containing a redundant index. We can drop this column.\n",
        "  * In crimes_w_neighborhoods, the `Neighborhood` column is capitalized while the others are not. We can rename this column to lowercase to make it consistent with the others.\n",
        "  * The `offense_code` field has been read in as integers, but these are categorical codes that make more sense as strings. We can cast these to strings.\n",
        "  * The `reporting_area` field has been read in as floats, but these are categorical codes that make more sense as strings. We can cast these to strings.\n",
        "  * The `occurred_on_date` field contains both date and time, but the time is probably not necessary here given that we have the hour of day in a separate field. We can extract the date component and overwrite this field with it.\n",
        "  * There appear to be some missing values in several columns of the dataset.\n",
        "* crime_rates_by_neighborhood\n",
        "  * The first column, containing neighborhood names, is unlabeled. We will rename this column to `neighborhood`.\n",
        "* population\n",
        "  * The first column, containing neighborhood names, is unlabeled. We will rename this column to `neighborhood`."
      ]
    },
    {
      "cell_type": "markdown",
      "metadata": {
        "id": "Ig_sHIeiYeYz"
      },
      "source": [
        "We can attempt to handle the missing values in crimes_w_neighborhoods first."
      ]
    },
    {
      "cell_type": "code",
      "metadata": {
        "colab": {
          "base_uri": "https://localhost:8080/"
        },
        "id": "EOJyIXRGYl4v",
        "outputId": "e41e1438-0eb9-435a-9d29-d3cf11bce21a"
      },
      "source": [
        "crimes_w_neighborhoods.isnull().sum()"
      ],
      "execution_count": 66,
      "outputs": [
        {
          "output_type": "execute_result",
          "data": {
            "text/plain": [
              "Unnamed: 0                0\n",
              "incident_number           0\n",
              "offense_code              0\n",
              "offense_code_group        0\n",
              "offense_description       0\n",
              "district                671\n",
              "reporting_area         1337\n",
              "shooting                  0\n",
              "occurred_on_date          0\n",
              "year                      0\n",
              "month                     0\n",
              "day_of_week               0\n",
              "hour                      0\n",
              "ucr_part                 93\n",
              "street                  875\n",
              "lat                       0\n",
              "long                      0\n",
              "Neighborhood            497\n",
              "dtype: int64"
            ]
          },
          "metadata": {
            "tags": []
          },
          "execution_count": 66
        }
      ]
    },
    {
      "cell_type": "markdown",
      "metadata": {
        "id": "evgb8dVmaJXx"
      },
      "source": [
        "Even if the missing values in each column appear in completely independent sets of rows, they would still only make up 3,473 / 169577 = 2.05% of the data. Because the fraction of rows affected by the missing values is small, we can safely drop them."
      ]
    },
    {
      "cell_type": "code",
      "metadata": {
        "id": "7CanxonDazUe"
      },
      "source": [
        "crimes_w_neighborhoods.dropna(inplace=True)"
      ],
      "execution_count": 67,
      "outputs": []
    },
    {
      "cell_type": "code",
      "metadata": {
        "id": "a9PEQlecS7Yt"
      },
      "source": [
        "crimes_w_neighborhoods.drop('Unnamed: 0', axis=1, inplace=True)\n",
        "crimes_w_neighborhoods.rename({'Neighborhood': 'neighborhood'}, axis=1, inplace=True)\n",
        "crimes_w_neighborhoods['offense_code'] = crimes_w_neighborhoods['offense_code'].astype(str)\n",
        "crimes_w_neighborhoods['reporting_area'] = crimes_w_neighborhoods['reporting_area'].astype(int).astype(str)\n",
        "crimes_w_neighborhoods['occurred_on_date'] = pd.to_datetime(crimes_w_neighborhoods['occurred_on_date']).dt.date"
      ],
      "execution_count": 68,
      "outputs": []
    },
    {
      "cell_type": "code",
      "metadata": {
        "colab": {
          "base_uri": "https://localhost:8080/",
          "height": 272
        },
        "id": "zZFmq1JqbgIo",
        "outputId": "397e44d2-b80c-4038-c1dc-0656c2053024"
      },
      "source": [
        "crimes_w_neighborhoods.head()"
      ],
      "execution_count": 69,
      "outputs": [
        {
          "output_type": "execute_result",
          "data": {
            "text/html": [
              "<div>\n",
              "<style scoped>\n",
              "    .dataframe tbody tr th:only-of-type {\n",
              "        vertical-align: middle;\n",
              "    }\n",
              "\n",
              "    .dataframe tbody tr th {\n",
              "        vertical-align: top;\n",
              "    }\n",
              "\n",
              "    .dataframe thead th {\n",
              "        text-align: right;\n",
              "    }\n",
              "</style>\n",
              "<table border=\"1\" class=\"dataframe\">\n",
              "  <thead>\n",
              "    <tr style=\"text-align: right;\">\n",
              "      <th></th>\n",
              "      <th>incident_number</th>\n",
              "      <th>offense_code</th>\n",
              "      <th>offense_code_group</th>\n",
              "      <th>offense_description</th>\n",
              "      <th>district</th>\n",
              "      <th>reporting_area</th>\n",
              "      <th>shooting</th>\n",
              "      <th>occurred_on_date</th>\n",
              "      <th>year</th>\n",
              "      <th>month</th>\n",
              "      <th>day_of_week</th>\n",
              "      <th>hour</th>\n",
              "      <th>ucr_part</th>\n",
              "      <th>street</th>\n",
              "      <th>lat</th>\n",
              "      <th>long</th>\n",
              "      <th>neighborhood</th>\n",
              "    </tr>\n",
              "  </thead>\n",
              "  <tbody>\n",
              "    <tr>\n",
              "      <th>0</th>\n",
              "      <td>I192006902</td>\n",
              "      <td>1402</td>\n",
              "      <td>Vandalism</td>\n",
              "      <td>VANDALISM</td>\n",
              "      <td>C11</td>\n",
              "      <td>364</td>\n",
              "      <td>0</td>\n",
              "      <td>2019-01-25</td>\n",
              "      <td>2019</td>\n",
              "      <td>1</td>\n",
              "      <td>Friday</td>\n",
              "      <td>22</td>\n",
              "      <td>Part Two</td>\n",
              "      <td>CENTRE ST</td>\n",
              "      <td>42.295064</td>\n",
              "      <td>-71.056725</td>\n",
              "      <td>Dorchester</td>\n",
              "    </tr>\n",
              "    <tr>\n",
              "      <th>1</th>\n",
              "      <td>I192006833</td>\n",
              "      <td>522</td>\n",
              "      <td>Residential Burglary</td>\n",
              "      <td>BURGLARY - RESIDENTIAL - NO FORCE</td>\n",
              "      <td>D14</td>\n",
              "      <td>794</td>\n",
              "      <td>0</td>\n",
              "      <td>2019-01-25</td>\n",
              "      <td>2019</td>\n",
              "      <td>1</td>\n",
              "      <td>Friday</td>\n",
              "      <td>12</td>\n",
              "      <td>Part One</td>\n",
              "      <td>GLENVILLE AVE</td>\n",
              "      <td>42.349780</td>\n",
              "      <td>-71.134230</td>\n",
              "      <td>Allston</td>\n",
              "    </tr>\n",
              "    <tr>\n",
              "      <th>2</th>\n",
              "      <td>I192006763</td>\n",
              "      <td>619</td>\n",
              "      <td>Larceny</td>\n",
              "      <td>LARCENY ALL OTHERS</td>\n",
              "      <td>C11</td>\n",
              "      <td>333</td>\n",
              "      <td>0</td>\n",
              "      <td>2019-01-09</td>\n",
              "      <td>2019</td>\n",
              "      <td>1</td>\n",
              "      <td>Wednesday</td>\n",
              "      <td>11</td>\n",
              "      <td>Part One</td>\n",
              "      <td>MOUNT EVERETT ST</td>\n",
              "      <td>42.310136</td>\n",
              "      <td>-71.070293</td>\n",
              "      <td>Dorchester</td>\n",
              "    </tr>\n",
              "    <tr>\n",
              "      <th>3</th>\n",
              "      <td>I192006619</td>\n",
              "      <td>619</td>\n",
              "      <td>Larceny</td>\n",
              "      <td>LARCENY ALL OTHERS</td>\n",
              "      <td>B2</td>\n",
              "      <td>280</td>\n",
              "      <td>0</td>\n",
              "      <td>2019-01-25</td>\n",
              "      <td>2019</td>\n",
              "      <td>1</td>\n",
              "      <td>Friday</td>\n",
              "      <td>17</td>\n",
              "      <td>Part One</td>\n",
              "      <td>DUDLEY ST</td>\n",
              "      <td>42.328632</td>\n",
              "      <td>-71.083099</td>\n",
              "      <td>Roxbury</td>\n",
              "    </tr>\n",
              "    <tr>\n",
              "      <th>4</th>\n",
              "      <td>I192006543</td>\n",
              "      <td>2629</td>\n",
              "      <td>Harassment</td>\n",
              "      <td>HARASSMENT</td>\n",
              "      <td>B2</td>\n",
              "      <td>181</td>\n",
              "      <td>0</td>\n",
              "      <td>2019-01-25</td>\n",
              "      <td>2019</td>\n",
              "      <td>1</td>\n",
              "      <td>Friday</td>\n",
              "      <td>13</td>\n",
              "      <td>Part Two</td>\n",
              "      <td>DUDLEY ST</td>\n",
              "      <td>42.324355</td>\n",
              "      <td>-71.074403</td>\n",
              "      <td>Roxbury</td>\n",
              "    </tr>\n",
              "  </tbody>\n",
              "</table>\n",
              "</div>"
            ],
            "text/plain": [
              "  incident_number offense_code  ...       long neighborhood\n",
              "0      I192006902         1402  ... -71.056725   Dorchester\n",
              "1      I192006833          522  ... -71.134230      Allston\n",
              "2      I192006763          619  ... -71.070293   Dorchester\n",
              "3      I192006619          619  ... -71.083099      Roxbury\n",
              "4      I192006543         2629  ... -71.074403      Roxbury\n",
              "\n",
              "[5 rows x 17 columns]"
            ]
          },
          "metadata": {
            "tags": []
          },
          "execution_count": 69
        }
      ]
    },
    {
      "cell_type": "code",
      "metadata": {
        "colab": {
          "base_uri": "https://localhost:8080/"
        },
        "id": "2erOkCf2bNha",
        "outputId": "fc2745fe-5414-4b23-8625-ce0178b5ac98"
      },
      "source": [
        "crimes_w_neighborhoods.info()"
      ],
      "execution_count": 70,
      "outputs": [
        {
          "output_type": "stream",
          "text": [
            "<class 'pandas.core.frame.DataFrame'>\n",
            "Int64Index: 167980 entries, 0 to 169576\n",
            "Data columns (total 17 columns):\n",
            " #   Column               Non-Null Count   Dtype  \n",
            "---  ------               --------------   -----  \n",
            " 0   incident_number      167980 non-null  object \n",
            " 1   offense_code         167980 non-null  object \n",
            " 2   offense_code_group   167980 non-null  object \n",
            " 3   offense_description  167980 non-null  object \n",
            " 4   district             167980 non-null  object \n",
            " 5   reporting_area       167980 non-null  object \n",
            " 6   shooting             167980 non-null  object \n",
            " 7   occurred_on_date     167980 non-null  object \n",
            " 8   year                 167980 non-null  int64  \n",
            " 9   month                167980 non-null  int64  \n",
            " 10  day_of_week          167980 non-null  object \n",
            " 11  hour                 167980 non-null  int64  \n",
            " 12  ucr_part             167980 non-null  object \n",
            " 13  street               167980 non-null  object \n",
            " 14  lat                  167980 non-null  float64\n",
            " 15  long                 167980 non-null  float64\n",
            " 16  neighborhood         167980 non-null  object \n",
            "dtypes: float64(2), int64(3), object(12)\n",
            "memory usage: 23.1+ MB\n"
          ],
          "name": "stdout"
        }
      ]
    },
    {
      "cell_type": "markdown",
      "metadata": {
        "id": "ZvJB0jjfbppG"
      },
      "source": [
        "Moving on to the remaining `crime_rates_by_neighborhood` and `population` datasets:"
      ]
    },
    {
      "cell_type": "code",
      "metadata": {
        "id": "xbClSexCcQzC"
      },
      "source": [
        "crime_rates_by_neighborhood.rename({'Unnamed: 0': 'neighborhood'}, axis=1, inplace=True)\n",
        "population.rename({'Unnamed: 0': 'neighborhood'}, axis=1, inplace=True)"
      ],
      "execution_count": 71,
      "outputs": []
    },
    {
      "cell_type": "code",
      "metadata": {
        "colab": {
          "base_uri": "https://localhost:8080/",
          "height": 224
        },
        "id": "wO4x2N2Ic4C5",
        "outputId": "41db200a-b379-4b69-cde0-17e8301120e5"
      },
      "source": [
        "crime_rates_by_neighborhood.head()"
      ],
      "execution_count": 72,
      "outputs": [
        {
          "output_type": "execute_result",
          "data": {
            "text/html": [
              "<div>\n",
              "<style scoped>\n",
              "    .dataframe tbody tr th:only-of-type {\n",
              "        vertical-align: middle;\n",
              "    }\n",
              "\n",
              "    .dataframe tbody tr th {\n",
              "        vertical-align: top;\n",
              "    }\n",
              "\n",
              "    .dataframe thead th {\n",
              "        text-align: right;\n",
              "    }\n",
              "</style>\n",
              "<table border=\"1\" class=\"dataframe\">\n",
              "  <thead>\n",
              "    <tr style=\"text-align: right;\">\n",
              "      <th></th>\n",
              "      <th>neighborhood</th>\n",
              "      <th>population</th>\n",
              "      <th>count</th>\n",
              "      <th>Crime rate</th>\n",
              "      <th>murder_and_nonnegligent_manslaughter</th>\n",
              "      <th>aggravated_assault</th>\n",
              "      <th>robbery</th>\n",
              "      <th>arson</th>\n",
              "      <th>auto_theft</th>\n",
              "      <th>larceny</th>\n",
              "      <th>burglary</th>\n",
              "      <th>violent_crimes</th>\n",
              "      <th>property_crimes</th>\n",
              "      <th>murder_rate</th>\n",
              "      <th>aggravated_assault_rate</th>\n",
              "      <th>robbery_rate</th>\n",
              "      <th>arson_rate</th>\n",
              "      <th>auto_theft_rate</th>\n",
              "      <th>larceny_rate</th>\n",
              "      <th>burglary_rate</th>\n",
              "      <th>violent_crime_rate</th>\n",
              "      <th>property_crime_rate</th>\n",
              "    </tr>\n",
              "  </thead>\n",
              "  <tbody>\n",
              "    <tr>\n",
              "      <th>0</th>\n",
              "      <td>Allston</td>\n",
              "      <td>22312</td>\n",
              "      <td>4697.0</td>\n",
              "      <td>5812.239053</td>\n",
              "      <td>0.0</td>\n",
              "      <td>189.0</td>\n",
              "      <td>104.0</td>\n",
              "      <td>4.0</td>\n",
              "      <td>145.0</td>\n",
              "      <td>1237.0</td>\n",
              "      <td>461.0</td>\n",
              "      <td>293.0</td>\n",
              "      <td>1847.0</td>\n",
              "      <td>0.000000</td>\n",
              "      <td>233.875491</td>\n",
              "      <td>128.693392</td>\n",
              "      <td>4.949746</td>\n",
              "      <td>179.428287</td>\n",
              "      <td>1530.708901</td>\n",
              "      <td>570.458208</td>\n",
              "      <td>362.568883</td>\n",
              "      <td>2285.545142</td>\n",
              "    </tr>\n",
              "    <tr>\n",
              "      <th>1</th>\n",
              "      <td>Back Bay</td>\n",
              "      <td>16622</td>\n",
              "      <td>8965.0</td>\n",
              "      <td>14891.156408</td>\n",
              "      <td>0.0</td>\n",
              "      <td>198.0</td>\n",
              "      <td>151.0</td>\n",
              "      <td>4.0</td>\n",
              "      <td>198.0</td>\n",
              "      <td>5069.0</td>\n",
              "      <td>318.0</td>\n",
              "      <td>349.0</td>\n",
              "      <td>5589.0</td>\n",
              "      <td>0.000000</td>\n",
              "      <td>328.884436</td>\n",
              "      <td>250.815908</td>\n",
              "      <td>6.644130</td>\n",
              "      <td>328.884436</td>\n",
              "      <td>8419.773768</td>\n",
              "      <td>528.208337</td>\n",
              "      <td>579.700344</td>\n",
              "      <td>9283.510671</td>\n",
              "    </tr>\n",
              "    <tr>\n",
              "      <th>2</th>\n",
              "      <td>Beacon Hill</td>\n",
              "      <td>9023</td>\n",
              "      <td>1399.0</td>\n",
              "      <td>4280.831823</td>\n",
              "      <td>0.0</td>\n",
              "      <td>14.0</td>\n",
              "      <td>21.0</td>\n",
              "      <td>1.0</td>\n",
              "      <td>44.0</td>\n",
              "      <td>594.0</td>\n",
              "      <td>71.0</td>\n",
              "      <td>35.0</td>\n",
              "      <td>710.0</td>\n",
              "      <td>0.000000</td>\n",
              "      <td>42.838917</td>\n",
              "      <td>64.258376</td>\n",
              "      <td>3.059923</td>\n",
              "      <td>134.636598</td>\n",
              "      <td>1817.594069</td>\n",
              "      <td>217.254510</td>\n",
              "      <td>107.097294</td>\n",
              "      <td>2172.545099</td>\n",
              "    </tr>\n",
              "    <tr>\n",
              "      <th>3</th>\n",
              "      <td>Brighton</td>\n",
              "      <td>52685</td>\n",
              "      <td>5300.0</td>\n",
              "      <td>2777.475870</td>\n",
              "      <td>3.0</td>\n",
              "      <td>150.0</td>\n",
              "      <td>72.0</td>\n",
              "      <td>3.0</td>\n",
              "      <td>151.0</td>\n",
              "      <td>1265.0</td>\n",
              "      <td>477.0</td>\n",
              "      <td>225.0</td>\n",
              "      <td>1896.0</td>\n",
              "      <td>1.572156</td>\n",
              "      <td>78.607808</td>\n",
              "      <td>37.731748</td>\n",
              "      <td>1.572156</td>\n",
              "      <td>79.131860</td>\n",
              "      <td>662.925844</td>\n",
              "      <td>249.972828</td>\n",
              "      <td>117.911711</td>\n",
              "      <td>993.602688</td>\n",
              "    </tr>\n",
              "    <tr>\n",
              "      <th>4</th>\n",
              "      <td>Charlestown</td>\n",
              "      <td>16439</td>\n",
              "      <td>3025.0</td>\n",
              "      <td>5080.557756</td>\n",
              "      <td>1.0</td>\n",
              "      <td>126.0</td>\n",
              "      <td>90.0</td>\n",
              "      <td>3.0</td>\n",
              "      <td>100.0</td>\n",
              "      <td>743.0</td>\n",
              "      <td>120.0</td>\n",
              "      <td>217.0</td>\n",
              "      <td>966.0</td>\n",
              "      <td>1.679523</td>\n",
              "      <td>211.619926</td>\n",
              "      <td>151.157090</td>\n",
              "      <td>5.038570</td>\n",
              "      <td>167.952323</td>\n",
              "      <td>1247.885756</td>\n",
              "      <td>201.542787</td>\n",
              "      <td>364.456540</td>\n",
              "      <td>1622.419436</td>\n",
              "    </tr>\n",
              "  </tbody>\n",
              "</table>\n",
              "</div>"
            ],
            "text/plain": [
              "  neighborhood  population  ...  violent_crime_rate  property_crime_rate\n",
              "0      Allston       22312  ...          362.568883          2285.545142\n",
              "1     Back Bay       16622  ...          579.700344          9283.510671\n",
              "2  Beacon Hill        9023  ...          107.097294          2172.545099\n",
              "3     Brighton       52685  ...          117.911711           993.602688\n",
              "4  Charlestown       16439  ...          364.456540          1622.419436\n",
              "\n",
              "[5 rows x 22 columns]"
            ]
          },
          "metadata": {
            "tags": []
          },
          "execution_count": 72
        }
      ]
    },
    {
      "cell_type": "code",
      "metadata": {
        "colab": {
          "base_uri": "https://localhost:8080/",
          "height": 204
        },
        "id": "7A9hoatCc7JI",
        "outputId": "d1d2b08d-55b8-4bd2-9e5b-41c68e146ba1"
      },
      "source": [
        "population.head()"
      ],
      "execution_count": 73,
      "outputs": [
        {
          "output_type": "execute_result",
          "data": {
            "text/html": [
              "<div>\n",
              "<style scoped>\n",
              "    .dataframe tbody tr th:only-of-type {\n",
              "        vertical-align: middle;\n",
              "    }\n",
              "\n",
              "    .dataframe tbody tr th {\n",
              "        vertical-align: top;\n",
              "    }\n",
              "\n",
              "    .dataframe thead th {\n",
              "        text-align: right;\n",
              "    }\n",
              "</style>\n",
              "<table border=\"1\" class=\"dataframe\">\n",
              "  <thead>\n",
              "    <tr style=\"text-align: right;\">\n",
              "      <th></th>\n",
              "      <th>neighborhood</th>\n",
              "      <th>population</th>\n",
              "    </tr>\n",
              "  </thead>\n",
              "  <tbody>\n",
              "    <tr>\n",
              "      <th>0</th>\n",
              "      <td>Allston</td>\n",
              "      <td>22312</td>\n",
              "    </tr>\n",
              "    <tr>\n",
              "      <th>1</th>\n",
              "      <td>Back Bay</td>\n",
              "      <td>16622</td>\n",
              "    </tr>\n",
              "    <tr>\n",
              "      <th>2</th>\n",
              "      <td>Beacon Hill</td>\n",
              "      <td>9023</td>\n",
              "    </tr>\n",
              "    <tr>\n",
              "      <th>3</th>\n",
              "      <td>Brighton</td>\n",
              "      <td>52685</td>\n",
              "    </tr>\n",
              "    <tr>\n",
              "      <th>4</th>\n",
              "      <td>Charlestown</td>\n",
              "      <td>16439</td>\n",
              "    </tr>\n",
              "  </tbody>\n",
              "</table>\n",
              "</div>"
            ],
            "text/plain": [
              "  neighborhood  population\n",
              "0      Allston       22312\n",
              "1     Back Bay       16622\n",
              "2  Beacon Hill        9023\n",
              "3     Brighton       52685\n",
              "4  Charlestown       16439"
            ]
          },
          "metadata": {
            "tags": []
          },
          "execution_count": 73
        }
      ]
    },
    {
      "cell_type": "code",
      "metadata": {
        "colab": {
          "base_uri": "https://localhost:8080/",
          "height": 204
        },
        "id": "lfoqWEBj7UZS",
        "outputId": "14e7ab78-0778-45f2-a8b1-60f398d6c8f0"
      },
      "source": [
        "vehicles = pd.read_csv('/content/drive/Shareddrives/IS833_Project/boston_vehicles_data.csv')\n",
        "vehicles.head()"
      ],
      "execution_count": 74,
      "outputs": [
        {
          "output_type": "execute_result",
          "data": {
            "text/html": [
              "<div>\n",
              "<style scoped>\n",
              "    .dataframe tbody tr th:only-of-type {\n",
              "        vertical-align: middle;\n",
              "    }\n",
              "\n",
              "    .dataframe tbody tr th {\n",
              "        vertical-align: top;\n",
              "    }\n",
              "\n",
              "    .dataframe thead th {\n",
              "        text-align: right;\n",
              "    }\n",
              "</style>\n",
              "<table border=\"1\" class=\"dataframe\">\n",
              "  <thead>\n",
              "    <tr style=\"text-align: right;\">\n",
              "      <th></th>\n",
              "      <th>neighborhood</th>\n",
              "      <th>pct_no_vehicle</th>\n",
              "      <th>pct_1_vehicle</th>\n",
              "      <th>pct_2_vehicles</th>\n",
              "      <th>pct_3_plus_vehicles</th>\n",
              "    </tr>\n",
              "  </thead>\n",
              "  <tbody>\n",
              "    <tr>\n",
              "      <th>0</th>\n",
              "      <td>Allston</td>\n",
              "      <td>0.509807</td>\n",
              "      <td>0.318878</td>\n",
              "      <td>0.130861</td>\n",
              "      <td>0.040454</td>\n",
              "    </tr>\n",
              "    <tr>\n",
              "      <th>1</th>\n",
              "      <td>Back Bay</td>\n",
              "      <td>0.490386</td>\n",
              "      <td>0.402075</td>\n",
              "      <td>0.097670</td>\n",
              "      <td>0.009869</td>\n",
              "    </tr>\n",
              "    <tr>\n",
              "      <th>2</th>\n",
              "      <td>Beacon Hill</td>\n",
              "      <td>0.509858</td>\n",
              "      <td>0.410540</td>\n",
              "      <td>0.068546</td>\n",
              "      <td>0.011056</td>\n",
              "    </tr>\n",
              "    <tr>\n",
              "      <th>3</th>\n",
              "      <td>Brighton</td>\n",
              "      <td>0.295489</td>\n",
              "      <td>0.410917</td>\n",
              "      <td>0.223236</td>\n",
              "      <td>0.070359</td>\n",
              "    </tr>\n",
              "    <tr>\n",
              "      <th>4</th>\n",
              "      <td>Charlestown</td>\n",
              "      <td>0.242087</td>\n",
              "      <td>0.530452</td>\n",
              "      <td>0.201484</td>\n",
              "      <td>0.025977</td>\n",
              "    </tr>\n",
              "  </tbody>\n",
              "</table>\n",
              "</div>"
            ],
            "text/plain": [
              "  neighborhood  pct_no_vehicle  ...  pct_2_vehicles  pct_3_plus_vehicles\n",
              "0      Allston        0.509807  ...        0.130861             0.040454\n",
              "1     Back Bay        0.490386  ...        0.097670             0.009869\n",
              "2  Beacon Hill        0.509858  ...        0.068546             0.011056\n",
              "3     Brighton        0.295489  ...        0.223236             0.070359\n",
              "4  Charlestown        0.242087  ...        0.201484             0.025977\n",
              "\n",
              "[5 rows x 5 columns]"
            ]
          },
          "metadata": {
            "tags": []
          },
          "execution_count": 74
        }
      ]
    },
    {
      "cell_type": "code",
      "metadata": {
        "colab": {
          "base_uri": "https://localhost:8080/",
          "height": 204
        },
        "id": "Dd1jzjkm8OWS",
        "outputId": "1ffb2f46-6c42-4f49-d0bd-b4861910b625"
      },
      "source": [
        "vacancy = pd.read_csv('/content/drive/Shareddrives/IS833_Project/boston_vacancy_data.csv')\n",
        "vacancy.head()"
      ],
      "execution_count": 75,
      "outputs": [
        {
          "output_type": "execute_result",
          "data": {
            "text/html": [
              "<div>\n",
              "<style scoped>\n",
              "    .dataframe tbody tr th:only-of-type {\n",
              "        vertical-align: middle;\n",
              "    }\n",
              "\n",
              "    .dataframe tbody tr th {\n",
              "        vertical-align: top;\n",
              "    }\n",
              "\n",
              "    .dataframe thead th {\n",
              "        text-align: right;\n",
              "    }\n",
              "</style>\n",
              "<table border=\"1\" class=\"dataframe\">\n",
              "  <thead>\n",
              "    <tr style=\"text-align: right;\">\n",
              "      <th></th>\n",
              "      <th>neighborhood</th>\n",
              "      <th>pct_vacant_units</th>\n",
              "      <th>pct_vacant_for_rent</th>\n",
              "      <th>pct_vacant_rented_unoccupied</th>\n",
              "      <th>pct_vacant_for_sale</th>\n",
              "      <th>pct_vacant_sold_unoccupied</th>\n",
              "      <th>pct_vacant_seasonal</th>\n",
              "      <th>pct_vacant_other</th>\n",
              "    </tr>\n",
              "  </thead>\n",
              "  <tbody>\n",
              "    <tr>\n",
              "      <th>0</th>\n",
              "      <td>Allston</td>\n",
              "      <td>0.074589</td>\n",
              "      <td>0.427757</td>\n",
              "      <td>0.338403</td>\n",
              "      <td>0.000000</td>\n",
              "      <td>0.038023</td>\n",
              "      <td>0.076046</td>\n",
              "      <td>0.119772</td>\n",
              "    </tr>\n",
              "    <tr>\n",
              "      <th>1</th>\n",
              "      <td>Back Bay</td>\n",
              "      <td>0.178932</td>\n",
              "      <td>0.128385</td>\n",
              "      <td>0.078898</td>\n",
              "      <td>0.016807</td>\n",
              "      <td>0.028478</td>\n",
              "      <td>0.580766</td>\n",
              "      <td>0.166667</td>\n",
              "    </tr>\n",
              "    <tr>\n",
              "      <th>2</th>\n",
              "      <td>Beacon Hill</td>\n",
              "      <td>0.117274</td>\n",
              "      <td>0.105409</td>\n",
              "      <td>0.031900</td>\n",
              "      <td>0.183079</td>\n",
              "      <td>0.000000</td>\n",
              "      <td>0.560333</td>\n",
              "      <td>0.119279</td>\n",
              "    </tr>\n",
              "    <tr>\n",
              "      <th>3</th>\n",
              "      <td>Brighton</td>\n",
              "      <td>0.048461</td>\n",
              "      <td>0.525087</td>\n",
              "      <td>0.215398</td>\n",
              "      <td>0.053633</td>\n",
              "      <td>0.015571</td>\n",
              "      <td>0.061419</td>\n",
              "      <td>0.128893</td>\n",
              "    </tr>\n",
              "    <tr>\n",
              "      <th>4</th>\n",
              "      <td>Charlestown</td>\n",
              "      <td>0.042933</td>\n",
              "      <td>0.287105</td>\n",
              "      <td>0.000000</td>\n",
              "      <td>0.000000</td>\n",
              "      <td>0.080292</td>\n",
              "      <td>0.226277</td>\n",
              "      <td>0.406326</td>\n",
              "    </tr>\n",
              "  </tbody>\n",
              "</table>\n",
              "</div>"
            ],
            "text/plain": [
              "  neighborhood  pct_vacant_units  ...  pct_vacant_seasonal  pct_vacant_other\n",
              "0      Allston          0.074589  ...             0.076046          0.119772\n",
              "1     Back Bay          0.178932  ...             0.580766          0.166667\n",
              "2  Beacon Hill          0.117274  ...             0.560333          0.119279\n",
              "3     Brighton          0.048461  ...             0.061419          0.128893\n",
              "4  Charlestown          0.042933  ...             0.226277          0.406326\n",
              "\n",
              "[5 rows x 8 columns]"
            ]
          },
          "metadata": {
            "tags": []
          },
          "execution_count": 75
        }
      ]
    },
    {
      "cell_type": "code",
      "metadata": {
        "colab": {
          "base_uri": "https://localhost:8080/",
          "height": 204
        },
        "id": "L7cVmEGZ8hVn",
        "outputId": "65ee058e-886e-4689-e62a-a5c57b7d236f"
      },
      "source": [
        "school_enrollment = pd.read_csv('/content/drive/Shareddrives/IS833_Project/boston_school_enrollment_data.csv')\n",
        "school_enrollment.head()"
      ],
      "execution_count": 76,
      "outputs": [
        {
          "output_type": "execute_result",
          "data": {
            "text/html": [
              "<div>\n",
              "<style scoped>\n",
              "    .dataframe tbody tr th:only-of-type {\n",
              "        vertical-align: middle;\n",
              "    }\n",
              "\n",
              "    .dataframe tbody tr th {\n",
              "        vertical-align: top;\n",
              "    }\n",
              "\n",
              "    .dataframe thead th {\n",
              "        text-align: right;\n",
              "    }\n",
              "</style>\n",
              "<table border=\"1\" class=\"dataframe\">\n",
              "  <thead>\n",
              "    <tr style=\"text-align: right;\">\n",
              "      <th></th>\n",
              "      <th>neighborhood</th>\n",
              "      <th>pct_enrolled_any_school</th>\n",
              "      <th>pct_enrolled_preschool</th>\n",
              "      <th>pct_enrolled_kindergarten_g8</th>\n",
              "      <th>pct_enrolled_g9_g12</th>\n",
              "      <th>pct_enrolled_undergraduate</th>\n",
              "      <th>pct_enrolled_graduate</th>\n",
              "    </tr>\n",
              "  </thead>\n",
              "  <tbody>\n",
              "    <tr>\n",
              "      <th>0</th>\n",
              "      <td>Allston</td>\n",
              "      <td>0.556813</td>\n",
              "      <td>0.001499</td>\n",
              "      <td>0.041413</td>\n",
              "      <td>0.013492</td>\n",
              "      <td>0.592148</td>\n",
              "      <td>0.351448</td>\n",
              "    </tr>\n",
              "    <tr>\n",
              "      <th>1</th>\n",
              "      <td>Back Bay</td>\n",
              "      <td>0.246753</td>\n",
              "      <td>0.022727</td>\n",
              "      <td>0.115955</td>\n",
              "      <td>0.046846</td>\n",
              "      <td>0.533859</td>\n",
              "      <td>0.280612</td>\n",
              "    </tr>\n",
              "    <tr>\n",
              "      <th>2</th>\n",
              "      <td>Beacon Hill</td>\n",
              "      <td>0.123364</td>\n",
              "      <td>0.096522</td>\n",
              "      <td>0.293043</td>\n",
              "      <td>0.086087</td>\n",
              "      <td>0.176522</td>\n",
              "      <td>0.347826</td>\n",
              "    </tr>\n",
              "    <tr>\n",
              "      <th>3</th>\n",
              "      <td>Brighton</td>\n",
              "      <td>0.287827</td>\n",
              "      <td>0.015110</td>\n",
              "      <td>0.157012</td>\n",
              "      <td>0.063010</td>\n",
              "      <td>0.394329</td>\n",
              "      <td>0.370539</td>\n",
              "    </tr>\n",
              "    <tr>\n",
              "      <th>4</th>\n",
              "      <td>Charlestown</td>\n",
              "      <td>0.178718</td>\n",
              "      <td>0.150419</td>\n",
              "      <td>0.484749</td>\n",
              "      <td>0.115730</td>\n",
              "      <td>0.093301</td>\n",
              "      <td>0.155801</td>\n",
              "    </tr>\n",
              "  </tbody>\n",
              "</table>\n",
              "</div>"
            ],
            "text/plain": [
              "  neighborhood  ...  pct_enrolled_graduate\n",
              "0      Allston  ...               0.351448\n",
              "1     Back Bay  ...               0.280612\n",
              "2  Beacon Hill  ...               0.347826\n",
              "3     Brighton  ...               0.370539\n",
              "4  Charlestown  ...               0.155801\n",
              "\n",
              "[5 rows x 7 columns]"
            ]
          },
          "metadata": {
            "tags": []
          },
          "execution_count": 76
        }
      ]
    },
    {
      "cell_type": "code",
      "metadata": {
        "colab": {
          "base_uri": "https://localhost:8080/",
          "height": 204
        },
        "id": "qtQ-MbpM8ql1",
        "outputId": "103e8211-b030-4169-9084-39ff0a1cc494"
      },
      "source": [
        "relocation = pd.read_csv('/content/drive/Shareddrives/IS833_Project/boston_relocation_data.csv')\n",
        "relocation.head()"
      ],
      "execution_count": 77,
      "outputs": [
        {
          "output_type": "execute_result",
          "data": {
            "text/html": [
              "<div>\n",
              "<style scoped>\n",
              "    .dataframe tbody tr th:only-of-type {\n",
              "        vertical-align: middle;\n",
              "    }\n",
              "\n",
              "    .dataframe tbody tr th {\n",
              "        vertical-align: top;\n",
              "    }\n",
              "\n",
              "    .dataframe thead th {\n",
              "        text-align: right;\n",
              "    }\n",
              "</style>\n",
              "<table border=\"1\" class=\"dataframe\">\n",
              "  <thead>\n",
              "    <tr style=\"text-align: right;\">\n",
              "      <th></th>\n",
              "      <th>neighborhood</th>\n",
              "      <th>pct_not_moved</th>\n",
              "      <th>pct_moved_within_county</th>\n",
              "      <th>pct_moved_from_diff_county</th>\n",
              "      <th>pct_moved_from_diff_state</th>\n",
              "      <th>pct_moved_from_abroad</th>\n",
              "    </tr>\n",
              "  </thead>\n",
              "  <tbody>\n",
              "    <tr>\n",
              "      <th>0</th>\n",
              "      <td>Allston</td>\n",
              "      <td>0.612006</td>\n",
              "      <td>0.108524</td>\n",
              "      <td>0.065229</td>\n",
              "      <td>0.138410</td>\n",
              "      <td>0.075832</td>\n",
              "    </tr>\n",
              "    <tr>\n",
              "      <th>1</th>\n",
              "      <td>Back Bay</td>\n",
              "      <td>0.704966</td>\n",
              "      <td>0.110255</td>\n",
              "      <td>0.054760</td>\n",
              "      <td>0.093324</td>\n",
              "      <td>0.036695</td>\n",
              "    </tr>\n",
              "    <tr>\n",
              "      <th>2</th>\n",
              "      <td>Beacon Hill</td>\n",
              "      <td>0.693218</td>\n",
              "      <td>0.115900</td>\n",
              "      <td>0.063662</td>\n",
              "      <td>0.087860</td>\n",
              "      <td>0.039360</td>\n",
              "    </tr>\n",
              "    <tr>\n",
              "      <th>3</th>\n",
              "      <td>Brighton</td>\n",
              "      <td>0.726978</td>\n",
              "      <td>0.096074</td>\n",
              "      <td>0.091578</td>\n",
              "      <td>0.059832</td>\n",
              "      <td>0.025538</td>\n",
              "    </tr>\n",
              "    <tr>\n",
              "      <th>4</th>\n",
              "      <td>Charlestown</td>\n",
              "      <td>0.851966</td>\n",
              "      <td>0.078656</td>\n",
              "      <td>0.035771</td>\n",
              "      <td>0.027576</td>\n",
              "      <td>0.006031</td>\n",
              "    </tr>\n",
              "  </tbody>\n",
              "</table>\n",
              "</div>"
            ],
            "text/plain": [
              "  neighborhood  pct_not_moved  ...  pct_moved_from_diff_state  pct_moved_from_abroad\n",
              "0      Allston       0.612006  ...                   0.138410               0.075832\n",
              "1     Back Bay       0.704966  ...                   0.093324               0.036695\n",
              "2  Beacon Hill       0.693218  ...                   0.087860               0.039360\n",
              "3     Brighton       0.726978  ...                   0.059832               0.025538\n",
              "4  Charlestown       0.851966  ...                   0.027576               0.006031\n",
              "\n",
              "[5 rows x 6 columns]"
            ]
          },
          "metadata": {
            "tags": []
          },
          "execution_count": 77
        }
      ]
    },
    {
      "cell_type": "code",
      "metadata": {
        "colab": {
          "base_uri": "https://localhost:8080/",
          "height": 204
        },
        "id": "7xbZthhW8wg1",
        "outputId": "f13ea227-034e-4684-fc47-e314636e3354"
      },
      "source": [
        "poverty = pd.read_csv('/content/drive/Shareddrives/IS833_Project/boston_poverty_data.csv')\n",
        "poverty.head()"
      ],
      "execution_count": 78,
      "outputs": [
        {
          "output_type": "execute_result",
          "data": {
            "text/html": [
              "<div>\n",
              "<style scoped>\n",
              "    .dataframe tbody tr th:only-of-type {\n",
              "        vertical-align: middle;\n",
              "    }\n",
              "\n",
              "    .dataframe tbody tr th {\n",
              "        vertical-align: top;\n",
              "    }\n",
              "\n",
              "    .dataframe thead th {\n",
              "        text-align: right;\n",
              "    }\n",
              "</style>\n",
              "<table border=\"1\" class=\"dataframe\">\n",
              "  <thead>\n",
              "    <tr style=\"text-align: right;\">\n",
              "      <th></th>\n",
              "      <th>neighborhood</th>\n",
              "      <th>total_poverty_rate</th>\n",
              "      <th>poverty_rate_age_0_4</th>\n",
              "      <th>poverty_rate_age_5_17</th>\n",
              "      <th>poverty_rate_age_18_24</th>\n",
              "      <th>poverty_rate_age_25_34</th>\n",
              "      <th>poverty_rate_age_35_64</th>\n",
              "      <th>poverty_rate_age_65_plus</th>\n",
              "    </tr>\n",
              "  </thead>\n",
              "  <tbody>\n",
              "    <tr>\n",
              "      <th>0</th>\n",
              "      <td>Allston</td>\n",
              "      <td>0.279264</td>\n",
              "      <td>0.576642</td>\n",
              "      <td>0.024306</td>\n",
              "      <td>0.572377</td>\n",
              "      <td>0.209288</td>\n",
              "      <td>0.067823</td>\n",
              "      <td>0.266932</td>\n",
              "    </tr>\n",
              "    <tr>\n",
              "      <th>1</th>\n",
              "      <td>Back Bay</td>\n",
              "      <td>0.119351</td>\n",
              "      <td>0.000000</td>\n",
              "      <td>0.021858</td>\n",
              "      <td>0.567121</td>\n",
              "      <td>0.097473</td>\n",
              "      <td>0.054369</td>\n",
              "      <td>0.114800</td>\n",
              "    </tr>\n",
              "    <tr>\n",
              "      <th>2</th>\n",
              "      <td>Beacon Hill</td>\n",
              "      <td>0.063726</td>\n",
              "      <td>0.000000</td>\n",
              "      <td>0.000000</td>\n",
              "      <td>0.233276</td>\n",
              "      <td>0.072595</td>\n",
              "      <td>0.032798</td>\n",
              "      <td>0.071815</td>\n",
              "    </tr>\n",
              "    <tr>\n",
              "      <th>3</th>\n",
              "      <td>Brighton</td>\n",
              "      <td>0.172059</td>\n",
              "      <td>0.077348</td>\n",
              "      <td>0.227355</td>\n",
              "      <td>0.360586</td>\n",
              "      <td>0.108064</td>\n",
              "      <td>0.105858</td>\n",
              "      <td>0.287307</td>\n",
              "    </tr>\n",
              "    <tr>\n",
              "      <th>4</th>\n",
              "      <td>Charlestown</td>\n",
              "      <td>0.144394</td>\n",
              "      <td>0.150027</td>\n",
              "      <td>0.262169</td>\n",
              "      <td>0.352490</td>\n",
              "      <td>0.058276</td>\n",
              "      <td>0.144295</td>\n",
              "      <td>0.148301</td>\n",
              "    </tr>\n",
              "  </tbody>\n",
              "</table>\n",
              "</div>"
            ],
            "text/plain": [
              "  neighborhood  ...  poverty_rate_age_65_plus\n",
              "0      Allston  ...                  0.266932\n",
              "1     Back Bay  ...                  0.114800\n",
              "2  Beacon Hill  ...                  0.071815\n",
              "3     Brighton  ...                  0.287307\n",
              "4  Charlestown  ...                  0.148301\n",
              "\n",
              "[5 rows x 8 columns]"
            ]
          },
          "metadata": {
            "tags": []
          },
          "execution_count": 78
        }
      ]
    },
    {
      "cell_type": "code",
      "metadata": {
        "colab": {
          "base_uri": "https://localhost:8080/",
          "height": 204
        },
        "id": "iaBCGaTV81l_",
        "outputId": "d3127922-998c-4f95-f5c9-16a7701afc96"
      },
      "source": [
        "labor = pd.read_csv('/content/drive/Shareddrives/IS833_Project/boston_labor_data.csv')\n",
        "labor.head()"
      ],
      "execution_count": 79,
      "outputs": [
        {
          "output_type": "execute_result",
          "data": {
            "text/html": [
              "<div>\n",
              "<style scoped>\n",
              "    .dataframe tbody tr th:only-of-type {\n",
              "        vertical-align: middle;\n",
              "    }\n",
              "\n",
              "    .dataframe tbody tr th {\n",
              "        vertical-align: top;\n",
              "    }\n",
              "\n",
              "    .dataframe thead th {\n",
              "        text-align: right;\n",
              "    }\n",
              "</style>\n",
              "<table border=\"1\" class=\"dataframe\">\n",
              "  <thead>\n",
              "    <tr style=\"text-align: right;\">\n",
              "      <th></th>\n",
              "      <th>neighborhood</th>\n",
              "      <th>total_labor_force_participation</th>\n",
              "      <th>labor_force_part_age_16_19</th>\n",
              "      <th>labor_force_part_age_20_34</th>\n",
              "      <th>labor_force_part_age_35_64</th>\n",
              "      <th>labor_force_part_age_65_plus</th>\n",
              "    </tr>\n",
              "  </thead>\n",
              "  <tbody>\n",
              "    <tr>\n",
              "      <th>0</th>\n",
              "      <td>Allston</td>\n",
              "      <td>0.610700</td>\n",
              "      <td>0.453921</td>\n",
              "      <td>0.617661</td>\n",
              "      <td>0.797246</td>\n",
              "      <td>0.231076</td>\n",
              "    </tr>\n",
              "    <tr>\n",
              "      <th>1</th>\n",
              "      <td>Back Bay</td>\n",
              "      <td>0.697897</td>\n",
              "      <td>0.470054</td>\n",
              "      <td>0.789431</td>\n",
              "      <td>0.793140</td>\n",
              "      <td>0.314895</td>\n",
              "    </tr>\n",
              "    <tr>\n",
              "      <th>2</th>\n",
              "      <td>Beacon Hill</td>\n",
              "      <td>0.796466</td>\n",
              "      <td>0.506024</td>\n",
              "      <td>0.954686</td>\n",
              "      <td>0.793645</td>\n",
              "      <td>0.268726</td>\n",
              "    </tr>\n",
              "    <tr>\n",
              "      <th>3</th>\n",
              "      <td>Brighton</td>\n",
              "      <td>0.744711</td>\n",
              "      <td>0.415094</td>\n",
              "      <td>0.855557</td>\n",
              "      <td>0.814179</td>\n",
              "      <td>0.178382</td>\n",
              "    </tr>\n",
              "    <tr>\n",
              "      <th>4</th>\n",
              "      <td>Charlestown</td>\n",
              "      <td>0.759938</td>\n",
              "      <td>0.359494</td>\n",
              "      <td>0.941995</td>\n",
              "      <td>0.796327</td>\n",
              "      <td>0.231405</td>\n",
              "    </tr>\n",
              "  </tbody>\n",
              "</table>\n",
              "</div>"
            ],
            "text/plain": [
              "  neighborhood  ...  labor_force_part_age_65_plus\n",
              "0      Allston  ...                      0.231076\n",
              "1     Back Bay  ...                      0.314895\n",
              "2  Beacon Hill  ...                      0.268726\n",
              "3     Brighton  ...                      0.178382\n",
              "4  Charlestown  ...                      0.231405\n",
              "\n",
              "[5 rows x 6 columns]"
            ]
          },
          "metadata": {
            "tags": []
          },
          "execution_count": 79
        }
      ]
    },
    {
      "cell_type": "code",
      "metadata": {
        "colab": {
          "base_uri": "https://localhost:8080/",
          "height": 204
        },
        "id": "xbidzywi862v",
        "outputId": "b6d3efb1-8164-436f-b3ee-6b23d3f9c232"
      },
      "source": [
        "income = pd.read_csv('/content/drive/Shareddrives/IS833_Project/boston_income_data.csv')\n",
        "income.head()"
      ],
      "execution_count": 80,
      "outputs": [
        {
          "output_type": "execute_result",
          "data": {
            "text/html": [
              "<div>\n",
              "<style scoped>\n",
              "    .dataframe tbody tr th:only-of-type {\n",
              "        vertical-align: middle;\n",
              "    }\n",
              "\n",
              "    .dataframe tbody tr th {\n",
              "        vertical-align: top;\n",
              "    }\n",
              "\n",
              "    .dataframe thead th {\n",
              "        text-align: right;\n",
              "    }\n",
              "</style>\n",
              "<table border=\"1\" class=\"dataframe\">\n",
              "  <thead>\n",
              "    <tr style=\"text-align: right;\">\n",
              "      <th></th>\n",
              "      <th>neighborhood</th>\n",
              "      <th>per_capita_income</th>\n",
              "      <th>median_household_income</th>\n",
              "      <th>median_family_income</th>\n",
              "    </tr>\n",
              "  </thead>\n",
              "  <tbody>\n",
              "    <tr>\n",
              "      <th>0</th>\n",
              "      <td>Allston</td>\n",
              "      <td>34148.70983</td>\n",
              "      <td>58141.0</td>\n",
              "      <td>73975</td>\n",
              "    </tr>\n",
              "    <tr>\n",
              "      <th>1</th>\n",
              "      <td>Back Bay</td>\n",
              "      <td>110676.82060</td>\n",
              "      <td>111185.0</td>\n",
              "      <td>197348</td>\n",
              "    </tr>\n",
              "    <tr>\n",
              "      <th>2</th>\n",
              "      <td>Beacon Hill</td>\n",
              "      <td>100005.28610</td>\n",
              "      <td>110840.9</td>\n",
              "      <td>205960</td>\n",
              "    </tr>\n",
              "    <tr>\n",
              "      <th>3</th>\n",
              "      <td>Brighton</td>\n",
              "      <td>41261.37584</td>\n",
              "      <td>77624.8</td>\n",
              "      <td>92364</td>\n",
              "    </tr>\n",
              "    <tr>\n",
              "      <th>4</th>\n",
              "      <td>Charlestown</td>\n",
              "      <td>75338.89392</td>\n",
              "      <td>127399.6</td>\n",
              "      <td>162386</td>\n",
              "    </tr>\n",
              "  </tbody>\n",
              "</table>\n",
              "</div>"
            ],
            "text/plain": [
              "  neighborhood  ...  median_family_income\n",
              "0      Allston  ...                 73975\n",
              "1     Back Bay  ...                197348\n",
              "2  Beacon Hill  ...                205960\n",
              "3     Brighton  ...                 92364\n",
              "4  Charlestown  ...                162386\n",
              "\n",
              "[5 rows x 4 columns]"
            ]
          },
          "metadata": {
            "tags": []
          },
          "execution_count": 80
        }
      ]
    },
    {
      "cell_type": "code",
      "metadata": {
        "colab": {
          "base_uri": "https://localhost:8080/",
          "height": 204
        },
        "id": "y6anLCbr9BDI",
        "outputId": "22e392c9-0104-45ab-ecbe-9665f3968e01"
      },
      "source": [
        "housing_tenure = pd.read_csv('/content/drive/Shareddrives/IS833_Project/boston_housing_tenure_data.csv')\n",
        "housing_tenure.head()"
      ],
      "execution_count": 81,
      "outputs": [
        {
          "output_type": "execute_result",
          "data": {
            "text/html": [
              "<div>\n",
              "<style scoped>\n",
              "    .dataframe tbody tr th:only-of-type {\n",
              "        vertical-align: middle;\n",
              "    }\n",
              "\n",
              "    .dataframe tbody tr th {\n",
              "        vertical-align: top;\n",
              "    }\n",
              "\n",
              "    .dataframe thead th {\n",
              "        text-align: right;\n",
              "    }\n",
              "</style>\n",
              "<table border=\"1\" class=\"dataframe\">\n",
              "  <thead>\n",
              "    <tr style=\"text-align: right;\">\n",
              "      <th></th>\n",
              "      <th>neighborhood</th>\n",
              "      <th>pct_total_units_occupied</th>\n",
              "      <th>pct_owner_occupied</th>\n",
              "      <th>pct_renter_occupied</th>\n",
              "    </tr>\n",
              "  </thead>\n",
              "  <tbody>\n",
              "    <tr>\n",
              "      <th>0</th>\n",
              "      <td>Allston</td>\n",
              "      <td>0.925411</td>\n",
              "      <td>0.121974</td>\n",
              "      <td>0.878026</td>\n",
              "    </tr>\n",
              "    <tr>\n",
              "      <th>1</th>\n",
              "      <td>Back Bay</td>\n",
              "      <td>0.821068</td>\n",
              "      <td>0.314172</td>\n",
              "      <td>0.685828</td>\n",
              "    </tr>\n",
              "    <tr>\n",
              "      <th>2</th>\n",
              "      <td>Beacon Hill</td>\n",
              "      <td>0.882726</td>\n",
              "      <td>0.327068</td>\n",
              "      <td>0.672932</td>\n",
              "    </tr>\n",
              "    <tr>\n",
              "      <th>3</th>\n",
              "      <td>Brighton</td>\n",
              "      <td>0.951539</td>\n",
              "      <td>0.229800</td>\n",
              "      <td>0.770200</td>\n",
              "    </tr>\n",
              "    <tr>\n",
              "      <th>4</th>\n",
              "      <td>Charlestown</td>\n",
              "      <td>0.957067</td>\n",
              "      <td>0.469330</td>\n",
              "      <td>0.530670</td>\n",
              "    </tr>\n",
              "  </tbody>\n",
              "</table>\n",
              "</div>"
            ],
            "text/plain": [
              "  neighborhood  ...  pct_renter_occupied\n",
              "0      Allston  ...             0.878026\n",
              "1     Back Bay  ...             0.685828\n",
              "2  Beacon Hill  ...             0.672932\n",
              "3     Brighton  ...             0.770200\n",
              "4  Charlestown  ...             0.530670\n",
              "\n",
              "[5 rows x 4 columns]"
            ]
          },
          "metadata": {
            "tags": []
          },
          "execution_count": 81
        }
      ]
    },
    {
      "cell_type": "code",
      "metadata": {
        "colab": {
          "base_uri": "https://localhost:8080/",
          "height": 204
        },
        "id": "ULVZXlmU9SWQ",
        "outputId": "a39f0252-da70-4895-9688-ce267f25806f"
      },
      "source": [
        "household_type = pd.read_csv('/content/drive/Shareddrives/IS833_Project/boston_household_type_data.csv')\n",
        "household_type.head()"
      ],
      "execution_count": 82,
      "outputs": [
        {
          "output_type": "execute_result",
          "data": {
            "text/html": [
              "<div>\n",
              "<style scoped>\n",
              "    .dataframe tbody tr th:only-of-type {\n",
              "        vertical-align: middle;\n",
              "    }\n",
              "\n",
              "    .dataframe tbody tr th {\n",
              "        vertical-align: top;\n",
              "    }\n",
              "\n",
              "    .dataframe thead th {\n",
              "        text-align: right;\n",
              "    }\n",
              "</style>\n",
              "<table border=\"1\" class=\"dataframe\">\n",
              "  <thead>\n",
              "    <tr style=\"text-align: right;\">\n",
              "      <th></th>\n",
              "      <th>neighborhood</th>\n",
              "      <th>pct_married_couple_family</th>\n",
              "      <th>pct_male_no_spouse</th>\n",
              "      <th>pct_female_no_spouse</th>\n",
              "      <th>pct_householder_alone</th>\n",
              "      <th>pct_householder_not_alone</th>\n",
              "    </tr>\n",
              "  </thead>\n",
              "  <tbody>\n",
              "    <tr>\n",
              "      <th>0</th>\n",
              "      <td>Allston</td>\n",
              "      <td>0.168863</td>\n",
              "      <td>0.025743</td>\n",
              "      <td>0.050107</td>\n",
              "      <td>0.372510</td>\n",
              "      <td>0.382777</td>\n",
              "    </tr>\n",
              "    <tr>\n",
              "      <th>1</th>\n",
              "      <td>Back Bay</td>\n",
              "      <td>0.272154</td>\n",
              "      <td>0.012005</td>\n",
              "      <td>0.043036</td>\n",
              "      <td>0.523248</td>\n",
              "      <td>0.149557</td>\n",
              "    </tr>\n",
              "    <tr>\n",
              "      <th>2</th>\n",
              "      <td>Beacon Hill</td>\n",
              "      <td>0.283766</td>\n",
              "      <td>0.007371</td>\n",
              "      <td>0.009766</td>\n",
              "      <td>0.506173</td>\n",
              "      <td>0.192924</td>\n",
              "    </tr>\n",
              "    <tr>\n",
              "      <th>3</th>\n",
              "      <td>Brighton</td>\n",
              "      <td>0.263724</td>\n",
              "      <td>0.022381</td>\n",
              "      <td>0.059785</td>\n",
              "      <td>0.342321</td>\n",
              "      <td>0.311790</td>\n",
              "    </tr>\n",
              "    <tr>\n",
              "      <th>4</th>\n",
              "      <td>Charlestown</td>\n",
              "      <td>0.364113</td>\n",
              "      <td>0.041803</td>\n",
              "      <td>0.093757</td>\n",
              "      <td>0.385287</td>\n",
              "      <td>0.115040</td>\n",
              "    </tr>\n",
              "  </tbody>\n",
              "</table>\n",
              "</div>"
            ],
            "text/plain": [
              "  neighborhood  ...  pct_householder_not_alone\n",
              "0      Allston  ...                   0.382777\n",
              "1     Back Bay  ...                   0.149557\n",
              "2  Beacon Hill  ...                   0.192924\n",
              "3     Brighton  ...                   0.311790\n",
              "4  Charlestown  ...                   0.115040\n",
              "\n",
              "[5 rows x 6 columns]"
            ]
          },
          "metadata": {
            "tags": []
          },
          "execution_count": 82
        }
      ]
    },
    {
      "cell_type": "code",
      "metadata": {
        "colab": {
          "base_uri": "https://localhost:8080/",
          "height": 204
        },
        "id": "_wxQe7Ml9Y9Q",
        "outputId": "a1835187-12ec-4fd7-847c-8495a8546cf1"
      },
      "source": [
        "group_quarters = pd.read_csv('/content/drive/Shareddrives/IS833_Project/boston_group_quarters_data.csv')\n",
        "group_quarters.head()"
      ],
      "execution_count": 83,
      "outputs": [
        {
          "output_type": "execute_result",
          "data": {
            "text/html": [
              "<div>\n",
              "<style scoped>\n",
              "    .dataframe tbody tr th:only-of-type {\n",
              "        vertical-align: middle;\n",
              "    }\n",
              "\n",
              "    .dataframe tbody tr th {\n",
              "        vertical-align: top;\n",
              "    }\n",
              "\n",
              "    .dataframe thead th {\n",
              "        text-align: right;\n",
              "    }\n",
              "</style>\n",
              "<table border=\"1\" class=\"dataframe\">\n",
              "  <thead>\n",
              "    <tr style=\"text-align: right;\">\n",
              "      <th></th>\n",
              "      <th>neighborhood</th>\n",
              "      <th>pct_pop_in_group_quarters</th>\n",
              "    </tr>\n",
              "  </thead>\n",
              "  <tbody>\n",
              "    <tr>\n",
              "      <th>0</th>\n",
              "      <td>Allston</td>\n",
              "      <td>0.277244</td>\n",
              "    </tr>\n",
              "    <tr>\n",
              "      <th>1</th>\n",
              "      <td>Back Bay</td>\n",
              "      <td>0.087780</td>\n",
              "    </tr>\n",
              "    <tr>\n",
              "      <th>2</th>\n",
              "      <td>Beacon Hill</td>\n",
              "      <td>0.000000</td>\n",
              "    </tr>\n",
              "    <tr>\n",
              "      <th>3</th>\n",
              "      <td>Brighton</td>\n",
              "      <td>0.060727</td>\n",
              "    </tr>\n",
              "    <tr>\n",
              "      <th>4</th>\n",
              "      <td>Charlestown</td>\n",
              "      <td>0.004123</td>\n",
              "    </tr>\n",
              "  </tbody>\n",
              "</table>\n",
              "</div>"
            ],
            "text/plain": [
              "  neighborhood  pct_pop_in_group_quarters\n",
              "0      Allston                   0.277244\n",
              "1     Back Bay                   0.087780\n",
              "2  Beacon Hill                   0.000000\n",
              "3     Brighton                   0.060727\n",
              "4  Charlestown                   0.004123"
            ]
          },
          "metadata": {
            "tags": []
          },
          "execution_count": 83
        }
      ]
    },
    {
      "cell_type": "code",
      "metadata": {
        "colab": {
          "base_uri": "https://localhost:8080/",
          "height": 204
        },
        "id": "T9z19KkN9zMF",
        "outputId": "2dd23fd9-8cb8-4f34-d145-c1cd68ca9a31"
      },
      "source": [
        "education = pd.read_csv('/content/drive/Shareddrives/IS833_Project/boston_education_data.csv')\n",
        "education.head()"
      ],
      "execution_count": 84,
      "outputs": [
        {
          "output_type": "execute_result",
          "data": {
            "text/html": [
              "<div>\n",
              "<style scoped>\n",
              "    .dataframe tbody tr th:only-of-type {\n",
              "        vertical-align: middle;\n",
              "    }\n",
              "\n",
              "    .dataframe tbody tr th {\n",
              "        vertical-align: top;\n",
              "    }\n",
              "\n",
              "    .dataframe thead th {\n",
              "        text-align: right;\n",
              "    }\n",
              "</style>\n",
              "<table border=\"1\" class=\"dataframe\">\n",
              "  <thead>\n",
              "    <tr style=\"text-align: right;\">\n",
              "      <th></th>\n",
              "      <th>neighborhood</th>\n",
              "      <th>pct_less_than_high_school</th>\n",
              "      <th>pct_high_school_graduate</th>\n",
              "      <th>pct_ged</th>\n",
              "      <th>pct_some_college</th>\n",
              "      <th>pct_associates_degree</th>\n",
              "      <th>pct_bachelors_degree</th>\n",
              "      <th>pct_masters_degree_and_higher</th>\n",
              "    </tr>\n",
              "  </thead>\n",
              "  <tbody>\n",
              "    <tr>\n",
              "      <th>0</th>\n",
              "      <td>Allston</td>\n",
              "      <td>0.054735</td>\n",
              "      <td>0.067197</td>\n",
              "      <td>0.006902</td>\n",
              "      <td>0.084931</td>\n",
              "      <td>0.034317</td>\n",
              "      <td>0.415836</td>\n",
              "      <td>0.336081</td>\n",
              "    </tr>\n",
              "    <tr>\n",
              "      <th>1</th>\n",
              "      <td>Back Bay</td>\n",
              "      <td>0.020593</td>\n",
              "      <td>0.040969</td>\n",
              "      <td>0.002248</td>\n",
              "      <td>0.050033</td>\n",
              "      <td>0.031905</td>\n",
              "      <td>0.391270</td>\n",
              "      <td>0.462983</td>\n",
              "    </tr>\n",
              "    <tr>\n",
              "      <th>2</th>\n",
              "      <td>Beacon Hill</td>\n",
              "      <td>0.020602</td>\n",
              "      <td>0.018042</td>\n",
              "      <td>0.002438</td>\n",
              "      <td>0.032915</td>\n",
              "      <td>0.015726</td>\n",
              "      <td>0.465074</td>\n",
              "      <td>0.445203</td>\n",
              "    </tr>\n",
              "    <tr>\n",
              "      <th>3</th>\n",
              "      <td>Brighton</td>\n",
              "      <td>0.067087</td>\n",
              "      <td>0.100076</td>\n",
              "      <td>0.017881</td>\n",
              "      <td>0.104641</td>\n",
              "      <td>0.033493</td>\n",
              "      <td>0.392812</td>\n",
              "      <td>0.284010</td>\n",
              "    </tr>\n",
              "    <tr>\n",
              "      <th>4</th>\n",
              "      <td>Charlestown</td>\n",
              "      <td>0.079103</td>\n",
              "      <td>0.121640</td>\n",
              "      <td>0.015197</td>\n",
              "      <td>0.082487</td>\n",
              "      <td>0.027407</td>\n",
              "      <td>0.330944</td>\n",
              "      <td>0.343221</td>\n",
              "    </tr>\n",
              "  </tbody>\n",
              "</table>\n",
              "</div>"
            ],
            "text/plain": [
              "  neighborhood  ...  pct_masters_degree_and_higher\n",
              "0      Allston  ...                       0.336081\n",
              "1     Back Bay  ...                       0.462983\n",
              "2  Beacon Hill  ...                       0.445203\n",
              "3     Brighton  ...                       0.284010\n",
              "4  Charlestown  ...                       0.343221\n",
              "\n",
              "[5 rows x 8 columns]"
            ]
          },
          "metadata": {
            "tags": []
          },
          "execution_count": 84
        }
      ]
    },
    {
      "cell_type": "code",
      "metadata": {
        "colab": {
          "base_uri": "https://localhost:8080/",
          "height": 204
        },
        "id": "MEIKcLap95VJ",
        "outputId": "23313ae8-145a-47fd-8224-913af57594b2"
      },
      "source": [
        "citizenship = pd.read_csv('/content/drive/Shareddrives/IS833_Project/boston_citizenship_data.csv')\n",
        "citizenship.head()"
      ],
      "execution_count": 85,
      "outputs": [
        {
          "output_type": "execute_result",
          "data": {
            "text/html": [
              "<div>\n",
              "<style scoped>\n",
              "    .dataframe tbody tr th:only-of-type {\n",
              "        vertical-align: middle;\n",
              "    }\n",
              "\n",
              "    .dataframe tbody tr th {\n",
              "        vertical-align: top;\n",
              "    }\n",
              "\n",
              "    .dataframe thead th {\n",
              "        text-align: right;\n",
              "    }\n",
              "</style>\n",
              "<table border=\"1\" class=\"dataframe\">\n",
              "  <thead>\n",
              "    <tr style=\"text-align: right;\">\n",
              "      <th></th>\n",
              "      <th>neighborhood</th>\n",
              "      <th>pct_native_citizens</th>\n",
              "      <th>pct_naturalized_citizens</th>\n",
              "      <th>pct_non_citizens</th>\n",
              "    </tr>\n",
              "  </thead>\n",
              "  <tbody>\n",
              "    <tr>\n",
              "      <th>0</th>\n",
              "      <td>Allston</td>\n",
              "      <td>0.637454</td>\n",
              "      <td>0.097243</td>\n",
              "      <td>0.265303</td>\n",
              "    </tr>\n",
              "    <tr>\n",
              "      <th>1</th>\n",
              "      <td>Back Bay</td>\n",
              "      <td>0.781364</td>\n",
              "      <td>0.078165</td>\n",
              "      <td>0.140471</td>\n",
              "    </tr>\n",
              "    <tr>\n",
              "      <th>2</th>\n",
              "      <td>Beacon Hill</td>\n",
              "      <td>0.842662</td>\n",
              "      <td>0.068304</td>\n",
              "      <td>0.089034</td>\n",
              "    </tr>\n",
              "    <tr>\n",
              "      <th>3</th>\n",
              "      <td>Brighton</td>\n",
              "      <td>0.733078</td>\n",
              "      <td>0.130405</td>\n",
              "      <td>0.136517</td>\n",
              "    </tr>\n",
              "    <tr>\n",
              "      <th>4</th>\n",
              "      <td>Charlestown</td>\n",
              "      <td>0.840020</td>\n",
              "      <td>0.090749</td>\n",
              "      <td>0.069231</td>\n",
              "    </tr>\n",
              "  </tbody>\n",
              "</table>\n",
              "</div>"
            ],
            "text/plain": [
              "  neighborhood  pct_native_citizens  pct_naturalized_citizens  pct_non_citizens\n",
              "0      Allston             0.637454                  0.097243          0.265303\n",
              "1     Back Bay             0.781364                  0.078165          0.140471\n",
              "2  Beacon Hill             0.842662                  0.068304          0.089034\n",
              "3     Brighton             0.733078                  0.130405          0.136517\n",
              "4  Charlestown             0.840020                  0.090749          0.069231"
            ]
          },
          "metadata": {
            "tags": []
          },
          "execution_count": 85
        }
      ]
    },
    {
      "cell_type": "code",
      "metadata": {
        "colab": {
          "base_uri": "https://localhost:8080/",
          "height": 204
        },
        "id": "GjMdH76A-AXn",
        "outputId": "d1ca2dd4-fcf0-4131-eff0-819926356fec"
      },
      "source": [
        "bedrooms = pd.read_csv('/content/drive/Shareddrives/IS833_Project/boston_bedrooms_data.csv')\n",
        "bedrooms.head()"
      ],
      "execution_count": 86,
      "outputs": [
        {
          "output_type": "execute_result",
          "data": {
            "text/html": [
              "<div>\n",
              "<style scoped>\n",
              "    .dataframe tbody tr th:only-of-type {\n",
              "        vertical-align: middle;\n",
              "    }\n",
              "\n",
              "    .dataframe tbody tr th {\n",
              "        vertical-align: top;\n",
              "    }\n",
              "\n",
              "    .dataframe thead th {\n",
              "        text-align: right;\n",
              "    }\n",
              "</style>\n",
              "<table border=\"1\" class=\"dataframe\">\n",
              "  <thead>\n",
              "    <tr style=\"text-align: right;\">\n",
              "      <th></th>\n",
              "      <th>neighborhood</th>\n",
              "      <th>pct_studio_1_bed</th>\n",
              "      <th>pct_2_bed</th>\n",
              "      <th>pct_3_bed</th>\n",
              "      <th>pct_4_plus_bed</th>\n",
              "    </tr>\n",
              "  </thead>\n",
              "  <tbody>\n",
              "    <tr>\n",
              "      <th>0</th>\n",
              "      <td>Allston</td>\n",
              "      <td>0.449376</td>\n",
              "      <td>0.311543</td>\n",
              "      <td>0.164492</td>\n",
              "      <td>0.074589</td>\n",
              "    </tr>\n",
              "    <tr>\n",
              "      <th>1</th>\n",
              "      <td>Back Bay</td>\n",
              "      <td>0.604878</td>\n",
              "      <td>0.264640</td>\n",
              "      <td>0.105421</td>\n",
              "      <td>0.025061</td>\n",
              "    </tr>\n",
              "    <tr>\n",
              "      <th>2</th>\n",
              "      <td>Beacon Hill</td>\n",
              "      <td>0.550098</td>\n",
              "      <td>0.283507</td>\n",
              "      <td>0.114346</td>\n",
              "      <td>0.052049</td>\n",
              "    </tr>\n",
              "    <tr>\n",
              "      <th>3</th>\n",
              "      <td>Brighton</td>\n",
              "      <td>0.367653</td>\n",
              "      <td>0.350340</td>\n",
              "      <td>0.198164</td>\n",
              "      <td>0.083843</td>\n",
              "    </tr>\n",
              "    <tr>\n",
              "      <th>4</th>\n",
              "      <td>Charlestown</td>\n",
              "      <td>0.354225</td>\n",
              "      <td>0.374700</td>\n",
              "      <td>0.195028</td>\n",
              "      <td>0.076047</td>\n",
              "    </tr>\n",
              "  </tbody>\n",
              "</table>\n",
              "</div>"
            ],
            "text/plain": [
              "  neighborhood  pct_studio_1_bed  pct_2_bed  pct_3_bed  pct_4_plus_bed\n",
              "0      Allston          0.449376   0.311543   0.164492        0.074589\n",
              "1     Back Bay          0.604878   0.264640   0.105421        0.025061\n",
              "2  Beacon Hill          0.550098   0.283507   0.114346        0.052049\n",
              "3     Brighton          0.367653   0.350340   0.198164        0.083843\n",
              "4  Charlestown          0.354225   0.374700   0.195028        0.076047"
            ]
          },
          "metadata": {
            "tags": []
          },
          "execution_count": 86
        }
      ]
    },
    {
      "cell_type": "code",
      "metadata": {
        "colab": {
          "base_uri": "https://localhost:8080/",
          "height": 204
        },
        "id": "wQ6T2Na0-M3-",
        "outputId": "3bfe726b-ce2a-4256-a71f-6b8f5261a625"
      },
      "source": [
        "age = pd.read_csv('/content/drive/Shareddrives/IS833_Project/boston_age_data.csv')\n",
        "age.head()"
      ],
      "execution_count": 87,
      "outputs": [
        {
          "output_type": "execute_result",
          "data": {
            "text/html": [
              "<div>\n",
              "<style scoped>\n",
              "    .dataframe tbody tr th:only-of-type {\n",
              "        vertical-align: middle;\n",
              "    }\n",
              "\n",
              "    .dataframe tbody tr th {\n",
              "        vertical-align: top;\n",
              "    }\n",
              "\n",
              "    .dataframe thead th {\n",
              "        text-align: right;\n",
              "    }\n",
              "</style>\n",
              "<table border=\"1\" class=\"dataframe\">\n",
              "  <thead>\n",
              "    <tr style=\"text-align: right;\">\n",
              "      <th></th>\n",
              "      <th>neighborhood</th>\n",
              "      <th>median_age</th>\n",
              "      <th>pct_0_9_years</th>\n",
              "      <th>pct_10_17_years</th>\n",
              "      <th>pct_18_19_years</th>\n",
              "      <th>pct_20_34_years</th>\n",
              "      <th>pct_35_39_years</th>\n",
              "      <th>pct_60_plus_years</th>\n",
              "    </tr>\n",
              "  </thead>\n",
              "  <tbody>\n",
              "    <tr>\n",
              "      <th>0</th>\n",
              "      <td>Allston</td>\n",
              "      <td>27.5</td>\n",
              "      <td>0.021235</td>\n",
              "      <td>0.017185</td>\n",
              "      <td>0.122475</td>\n",
              "      <td>0.677327</td>\n",
              "      <td>0.119776</td>\n",
              "      <td>0.042002</td>\n",
              "    </tr>\n",
              "    <tr>\n",
              "      <th>1</th>\n",
              "      <td>Back Bay</td>\n",
              "      <td>33.6</td>\n",
              "      <td>0.036833</td>\n",
              "      <td>0.028904</td>\n",
              "      <td>0.055109</td>\n",
              "      <td>0.417140</td>\n",
              "      <td>0.275150</td>\n",
              "      <td>0.186864</td>\n",
              "    </tr>\n",
              "    <tr>\n",
              "      <th>2</th>\n",
              "      <td>Beacon Hill</td>\n",
              "      <td>33.0</td>\n",
              "      <td>0.063744</td>\n",
              "      <td>0.025601</td>\n",
              "      <td>0.004146</td>\n",
              "      <td>0.468905</td>\n",
              "      <td>0.263267</td>\n",
              "      <td>0.174337</td>\n",
              "    </tr>\n",
              "    <tr>\n",
              "      <th>3</th>\n",
              "      <td>Brighton</td>\n",
              "      <td>30.8</td>\n",
              "      <td>0.057327</td>\n",
              "      <td>0.038067</td>\n",
              "      <td>0.026222</td>\n",
              "      <td>0.527714</td>\n",
              "      <td>0.207697</td>\n",
              "      <td>0.142973</td>\n",
              "    </tr>\n",
              "    <tr>\n",
              "      <th>4</th>\n",
              "      <td>Charlestown</td>\n",
              "      <td>35.7</td>\n",
              "      <td>0.149723</td>\n",
              "      <td>0.050075</td>\n",
              "      <td>0.009351</td>\n",
              "      <td>0.281699</td>\n",
              "      <td>0.343087</td>\n",
              "      <td>0.166063</td>\n",
              "    </tr>\n",
              "  </tbody>\n",
              "</table>\n",
              "</div>"
            ],
            "text/plain": [
              "   neighborhood  median_age  ...  pct_35_39_years  pct_60_plus_years\n",
              "0       Allston        27.5  ...         0.119776           0.042002\n",
              "1     Back Bay         33.6  ...         0.275150           0.186864\n",
              "2  Beacon Hill         33.0  ...         0.263267           0.174337\n",
              "3      Brighton        30.8  ...         0.207697           0.142973\n",
              "4   Charlestown        35.7  ...         0.343087           0.166063\n",
              "\n",
              "[5 rows x 8 columns]"
            ]
          },
          "metadata": {
            "tags": []
          },
          "execution_count": 87
        }
      ]
    },
    {
      "cell_type": "code",
      "metadata": {
        "id": "n4cVEznz_i_K"
      },
      "source": [
        "crime_rates_by_neighborhood.neighborhood = crime_rates_by_neighborhood.neighborhood.str.strip()\n",
        "age.neighborhood = age.neighborhood.str.strip()\n",
        "income.neighborhood = income.neighborhood.str.strip()\n",
        "labor.neighborhood = labor.neighborhood.str.strip()\n",
        "poverty.neighborhood = poverty.neighborhood.str.strip()\n",
        "education.neighborhood = education.neighborhood.str.strip()\n",
        "school_enrollment.neighborhood = school_enrollment.neighborhood.str.strip()\n",
        "household_type.neighborhood = household_type.neighborhood.str.strip()\n",
        "housing_tenure.neighborhood = housing_tenure.neighborhood.str.strip()\n",
        "bedrooms.neighborhood = bedrooms.neighborhood.str.strip()\n",
        "group_quarters.neighborhood = group_quarters.neighborhood.str.strip()\n",
        "vehicles.neighborhood = vehicles.neighborhood.str.strip()\n",
        "relocation.neighborhood = relocation.neighborhood.str.strip()\n",
        "citizenship.neighborhood = citizenship.neighborhood.str.strip()\n",
        "vacancy.neighborhood = vacancy.neighborhood.str.strip()"
      ],
      "execution_count": 88,
      "outputs": []
    },
    {
      "cell_type": "code",
      "metadata": {
        "colab": {
          "base_uri": "https://localhost:8080/"
        },
        "id": "jR3LINsR-TBx",
        "outputId": "47886fbd-5673-4454-dced-b7a15f880573"
      },
      "source": [
        "master_dataset = pd.merge(crimes_w_neighborhoods, crime_rates_by_neighborhood, how='left', on='neighborhood')\n",
        "master_dataset.info()"
      ],
      "execution_count": 89,
      "outputs": [
        {
          "output_type": "stream",
          "text": [
            "<class 'pandas.core.frame.DataFrame'>\n",
            "Int64Index: 167980 entries, 0 to 167979\n",
            "Data columns (total 38 columns):\n",
            " #   Column                                Non-Null Count   Dtype  \n",
            "---  ------                                --------------   -----  \n",
            " 0   incident_number                       167980 non-null  object \n",
            " 1   offense_code                          167980 non-null  object \n",
            " 2   offense_code_group                    167980 non-null  object \n",
            " 3   offense_description                   167980 non-null  object \n",
            " 4   district                              167980 non-null  object \n",
            " 5   reporting_area                        167980 non-null  object \n",
            " 6   shooting                              167980 non-null  object \n",
            " 7   occurred_on_date                      167980 non-null  object \n",
            " 8   year                                  167980 non-null  int64  \n",
            " 9   month                                 167980 non-null  int64  \n",
            " 10  day_of_week                           167980 non-null  object \n",
            " 11  hour                                  167980 non-null  int64  \n",
            " 12  ucr_part                              167980 non-null  object \n",
            " 13  street                                167980 non-null  object \n",
            " 14  lat                                   167980 non-null  float64\n",
            " 15  long                                  167980 non-null  float64\n",
            " 16  neighborhood                          167980 non-null  object \n",
            " 17  population                            167980 non-null  int64  \n",
            " 18  count                                 167980 non-null  float64\n",
            " 19  Crime rate                            167980 non-null  float64\n",
            " 20  murder_and_nonnegligent_manslaughter  167980 non-null  float64\n",
            " 21  aggravated_assault                    167980 non-null  float64\n",
            " 22  robbery                               167980 non-null  float64\n",
            " 23  arson                                 167980 non-null  float64\n",
            " 24  auto_theft                            167980 non-null  float64\n",
            " 25  larceny                               167980 non-null  float64\n",
            " 26  burglary                              167980 non-null  float64\n",
            " 27  violent_crimes                        167980 non-null  float64\n",
            " 28  property_crimes                       167980 non-null  float64\n",
            " 29  murder_rate                           167980 non-null  float64\n",
            " 30  aggravated_assault_rate               167980 non-null  float64\n",
            " 31  robbery_rate                          167980 non-null  float64\n",
            " 32  arson_rate                            167980 non-null  float64\n",
            " 33  auto_theft_rate                       167980 non-null  float64\n",
            " 34  larceny_rate                          167980 non-null  float64\n",
            " 35  burglary_rate                         167980 non-null  float64\n",
            " 36  violent_crime_rate                    167980 non-null  float64\n",
            " 37  property_crime_rate                   167980 non-null  float64\n",
            "dtypes: float64(22), int64(4), object(12)\n",
            "memory usage: 50.0+ MB\n"
          ],
          "name": "stdout"
        }
      ]
    },
    {
      "cell_type": "code",
      "metadata": {
        "colab": {
          "base_uri": "https://localhost:8080/"
        },
        "id": "0a9TDxejCwdC",
        "outputId": "1e65b02d-d6e0-4d82-98fd-9eda82dc1a2d"
      },
      "source": [
        "master_dataset = pd.merge(master_dataset, age, how='left', on='neighborhood')\n",
        "master_dataset.info()"
      ],
      "execution_count": 90,
      "outputs": [
        {
          "output_type": "stream",
          "text": [
            "<class 'pandas.core.frame.DataFrame'>\n",
            "Int64Index: 167980 entries, 0 to 167979\n",
            "Data columns (total 45 columns):\n",
            " #   Column                                Non-Null Count   Dtype  \n",
            "---  ------                                --------------   -----  \n",
            " 0   incident_number                       167980 non-null  object \n",
            " 1   offense_code                          167980 non-null  object \n",
            " 2   offense_code_group                    167980 non-null  object \n",
            " 3   offense_description                   167980 non-null  object \n",
            " 4   district                              167980 non-null  object \n",
            " 5   reporting_area                        167980 non-null  object \n",
            " 6   shooting                              167980 non-null  object \n",
            " 7   occurred_on_date                      167980 non-null  object \n",
            " 8   year                                  167980 non-null  int64  \n",
            " 9   month                                 167980 non-null  int64  \n",
            " 10  day_of_week                           167980 non-null  object \n",
            " 11  hour                                  167980 non-null  int64  \n",
            " 12  ucr_part                              167980 non-null  object \n",
            " 13  street                                167980 non-null  object \n",
            " 14  lat                                   167980 non-null  float64\n",
            " 15  long                                  167980 non-null  float64\n",
            " 16  neighborhood                          167980 non-null  object \n",
            " 17  population                            167980 non-null  int64  \n",
            " 18  count                                 167980 non-null  float64\n",
            " 19  Crime rate                            167980 non-null  float64\n",
            " 20  murder_and_nonnegligent_manslaughter  167980 non-null  float64\n",
            " 21  aggravated_assault                    167980 non-null  float64\n",
            " 22  robbery                               167980 non-null  float64\n",
            " 23  arson                                 167980 non-null  float64\n",
            " 24  auto_theft                            167980 non-null  float64\n",
            " 25  larceny                               167980 non-null  float64\n",
            " 26  burglary                              167980 non-null  float64\n",
            " 27  violent_crimes                        167980 non-null  float64\n",
            " 28  property_crimes                       167980 non-null  float64\n",
            " 29  murder_rate                           167980 non-null  float64\n",
            " 30  aggravated_assault_rate               167980 non-null  float64\n",
            " 31  robbery_rate                          167980 non-null  float64\n",
            " 32  arson_rate                            167980 non-null  float64\n",
            " 33  auto_theft_rate                       167980 non-null  float64\n",
            " 34  larceny_rate                          167980 non-null  float64\n",
            " 35  burglary_rate                         167980 non-null  float64\n",
            " 36  violent_crime_rate                    167980 non-null  float64\n",
            " 37  property_crime_rate                   167980 non-null  float64\n",
            " 38  median_age                            167980 non-null  float64\n",
            " 39  pct_0_9_years                         167980 non-null  float64\n",
            " 40  pct_10_17_years                       167980 non-null  float64\n",
            " 41  pct_18_19_years                       167980 non-null  float64\n",
            " 42  pct_20_34_years                       167980 non-null  float64\n",
            " 43  pct_35_39_years                       167980 non-null  float64\n",
            " 44  pct_60_plus_years                     167980 non-null  float64\n",
            "dtypes: float64(29), int64(4), object(12)\n",
            "memory usage: 59.0+ MB\n"
          ],
          "name": "stdout"
        }
      ]
    },
    {
      "cell_type": "code",
      "metadata": {
        "colab": {
          "base_uri": "https://localhost:8080/"
        },
        "id": "TEVdKi7vC5ay",
        "outputId": "9f84c360-1f79-47de-9dfc-a55945733ce9"
      },
      "source": [
        "master_dataset = pd.merge(master_dataset, income, how='left', on='neighborhood')\n",
        "master_dataset.info()"
      ],
      "execution_count": 91,
      "outputs": [
        {
          "output_type": "stream",
          "text": [
            "<class 'pandas.core.frame.DataFrame'>\n",
            "Int64Index: 167980 entries, 0 to 167979\n",
            "Data columns (total 48 columns):\n",
            " #   Column                                Non-Null Count   Dtype  \n",
            "---  ------                                --------------   -----  \n",
            " 0   incident_number                       167980 non-null  object \n",
            " 1   offense_code                          167980 non-null  object \n",
            " 2   offense_code_group                    167980 non-null  object \n",
            " 3   offense_description                   167980 non-null  object \n",
            " 4   district                              167980 non-null  object \n",
            " 5   reporting_area                        167980 non-null  object \n",
            " 6   shooting                              167980 non-null  object \n",
            " 7   occurred_on_date                      167980 non-null  object \n",
            " 8   year                                  167980 non-null  int64  \n",
            " 9   month                                 167980 non-null  int64  \n",
            " 10  day_of_week                           167980 non-null  object \n",
            " 11  hour                                  167980 non-null  int64  \n",
            " 12  ucr_part                              167980 non-null  object \n",
            " 13  street                                167980 non-null  object \n",
            " 14  lat                                   167980 non-null  float64\n",
            " 15  long                                  167980 non-null  float64\n",
            " 16  neighborhood                          167980 non-null  object \n",
            " 17  population                            167980 non-null  int64  \n",
            " 18  count                                 167980 non-null  float64\n",
            " 19  Crime rate                            167980 non-null  float64\n",
            " 20  murder_and_nonnegligent_manslaughter  167980 non-null  float64\n",
            " 21  aggravated_assault                    167980 non-null  float64\n",
            " 22  robbery                               167980 non-null  float64\n",
            " 23  arson                                 167980 non-null  float64\n",
            " 24  auto_theft                            167980 non-null  float64\n",
            " 25  larceny                               167980 non-null  float64\n",
            " 26  burglary                              167980 non-null  float64\n",
            " 27  violent_crimes                        167980 non-null  float64\n",
            " 28  property_crimes                       167980 non-null  float64\n",
            " 29  murder_rate                           167980 non-null  float64\n",
            " 30  aggravated_assault_rate               167980 non-null  float64\n",
            " 31  robbery_rate                          167980 non-null  float64\n",
            " 32  arson_rate                            167980 non-null  float64\n",
            " 33  auto_theft_rate                       167980 non-null  float64\n",
            " 34  larceny_rate                          167980 non-null  float64\n",
            " 35  burglary_rate                         167980 non-null  float64\n",
            " 36  violent_crime_rate                    167980 non-null  float64\n",
            " 37  property_crime_rate                   167980 non-null  float64\n",
            " 38  median_age                            167980 non-null  float64\n",
            " 39  pct_0_9_years                         167980 non-null  float64\n",
            " 40  pct_10_17_years                       167980 non-null  float64\n",
            " 41  pct_18_19_years                       167980 non-null  float64\n",
            " 42  pct_20_34_years                       167980 non-null  float64\n",
            " 43  pct_35_39_years                       167980 non-null  float64\n",
            " 44  pct_60_plus_years                     167980 non-null  float64\n",
            " 45  per_capita_income                     167980 non-null  float64\n",
            " 46  median_household_income               167980 non-null  float64\n",
            " 47  median_family_income                  167980 non-null  int64  \n",
            "dtypes: float64(31), int64(5), object(12)\n",
            "memory usage: 62.8+ MB\n"
          ],
          "name": "stdout"
        }
      ]
    },
    {
      "cell_type": "code",
      "metadata": {
        "colab": {
          "base_uri": "https://localhost:8080/"
        },
        "id": "x19xpDKrDRH8",
        "outputId": "b769e182-5647-435b-98f2-c469a768235d"
      },
      "source": [
        "master_dataset = pd.merge(master_dataset, labor, how='left', on='neighborhood')\n",
        "master_dataset.info()"
      ],
      "execution_count": 92,
      "outputs": [
        {
          "output_type": "stream",
          "text": [
            "<class 'pandas.core.frame.DataFrame'>\n",
            "Int64Index: 167980 entries, 0 to 167979\n",
            "Data columns (total 53 columns):\n",
            " #   Column                                Non-Null Count   Dtype  \n",
            "---  ------                                --------------   -----  \n",
            " 0   incident_number                       167980 non-null  object \n",
            " 1   offense_code                          167980 non-null  object \n",
            " 2   offense_code_group                    167980 non-null  object \n",
            " 3   offense_description                   167980 non-null  object \n",
            " 4   district                              167980 non-null  object \n",
            " 5   reporting_area                        167980 non-null  object \n",
            " 6   shooting                              167980 non-null  object \n",
            " 7   occurred_on_date                      167980 non-null  object \n",
            " 8   year                                  167980 non-null  int64  \n",
            " 9   month                                 167980 non-null  int64  \n",
            " 10  day_of_week                           167980 non-null  object \n",
            " 11  hour                                  167980 non-null  int64  \n",
            " 12  ucr_part                              167980 non-null  object \n",
            " 13  street                                167980 non-null  object \n",
            " 14  lat                                   167980 non-null  float64\n",
            " 15  long                                  167980 non-null  float64\n",
            " 16  neighborhood                          167980 non-null  object \n",
            " 17  population                            167980 non-null  int64  \n",
            " 18  count                                 167980 non-null  float64\n",
            " 19  Crime rate                            167980 non-null  float64\n",
            " 20  murder_and_nonnegligent_manslaughter  167980 non-null  float64\n",
            " 21  aggravated_assault                    167980 non-null  float64\n",
            " 22  robbery                               167980 non-null  float64\n",
            " 23  arson                                 167980 non-null  float64\n",
            " 24  auto_theft                            167980 non-null  float64\n",
            " 25  larceny                               167980 non-null  float64\n",
            " 26  burglary                              167980 non-null  float64\n",
            " 27  violent_crimes                        167980 non-null  float64\n",
            " 28  property_crimes                       167980 non-null  float64\n",
            " 29  murder_rate                           167980 non-null  float64\n",
            " 30  aggravated_assault_rate               167980 non-null  float64\n",
            " 31  robbery_rate                          167980 non-null  float64\n",
            " 32  arson_rate                            167980 non-null  float64\n",
            " 33  auto_theft_rate                       167980 non-null  float64\n",
            " 34  larceny_rate                          167980 non-null  float64\n",
            " 35  burglary_rate                         167980 non-null  float64\n",
            " 36  violent_crime_rate                    167980 non-null  float64\n",
            " 37  property_crime_rate                   167980 non-null  float64\n",
            " 38  median_age                            167980 non-null  float64\n",
            " 39  pct_0_9_years                         167980 non-null  float64\n",
            " 40  pct_10_17_years                       167980 non-null  float64\n",
            " 41  pct_18_19_years                       167980 non-null  float64\n",
            " 42  pct_20_34_years                       167980 non-null  float64\n",
            " 43  pct_35_39_years                       167980 non-null  float64\n",
            " 44  pct_60_plus_years                     167980 non-null  float64\n",
            " 45  per_capita_income                     167980 non-null  float64\n",
            " 46  median_household_income               167980 non-null  float64\n",
            " 47  median_family_income                  167980 non-null  int64  \n",
            " 48  total_labor_force_participation       167980 non-null  float64\n",
            " 49  labor_force_part_age_16_19            167980 non-null  float64\n",
            " 50  labor_force_part_age_20_34            167980 non-null  float64\n",
            " 51  labor_force_part_age_35_64            167980 non-null  float64\n",
            " 52  labor_force_part_age_65_plus          167980 non-null  float64\n",
            "dtypes: float64(36), int64(5), object(12)\n",
            "memory usage: 69.2+ MB\n"
          ],
          "name": "stdout"
        }
      ]
    },
    {
      "cell_type": "code",
      "metadata": {
        "colab": {
          "base_uri": "https://localhost:8080/"
        },
        "id": "pg0Qo-hlDYHL",
        "outputId": "76e12eda-fb51-4ad0-eaf3-964e76120739"
      },
      "source": [
        "master_dataset = pd.merge(master_dataset, poverty, how='left', on='neighborhood')\n",
        "master_dataset.info()"
      ],
      "execution_count": 93,
      "outputs": [
        {
          "output_type": "stream",
          "text": [
            "<class 'pandas.core.frame.DataFrame'>\n",
            "Int64Index: 167980 entries, 0 to 167979\n",
            "Data columns (total 60 columns):\n",
            " #   Column                                Non-Null Count   Dtype  \n",
            "---  ------                                --------------   -----  \n",
            " 0   incident_number                       167980 non-null  object \n",
            " 1   offense_code                          167980 non-null  object \n",
            " 2   offense_code_group                    167980 non-null  object \n",
            " 3   offense_description                   167980 non-null  object \n",
            " 4   district                              167980 non-null  object \n",
            " 5   reporting_area                        167980 non-null  object \n",
            " 6   shooting                              167980 non-null  object \n",
            " 7   occurred_on_date                      167980 non-null  object \n",
            " 8   year                                  167980 non-null  int64  \n",
            " 9   month                                 167980 non-null  int64  \n",
            " 10  day_of_week                           167980 non-null  object \n",
            " 11  hour                                  167980 non-null  int64  \n",
            " 12  ucr_part                              167980 non-null  object \n",
            " 13  street                                167980 non-null  object \n",
            " 14  lat                                   167980 non-null  float64\n",
            " 15  long                                  167980 non-null  float64\n",
            " 16  neighborhood                          167980 non-null  object \n",
            " 17  population                            167980 non-null  int64  \n",
            " 18  count                                 167980 non-null  float64\n",
            " 19  Crime rate                            167980 non-null  float64\n",
            " 20  murder_and_nonnegligent_manslaughter  167980 non-null  float64\n",
            " 21  aggravated_assault                    167980 non-null  float64\n",
            " 22  robbery                               167980 non-null  float64\n",
            " 23  arson                                 167980 non-null  float64\n",
            " 24  auto_theft                            167980 non-null  float64\n",
            " 25  larceny                               167980 non-null  float64\n",
            " 26  burglary                              167980 non-null  float64\n",
            " 27  violent_crimes                        167980 non-null  float64\n",
            " 28  property_crimes                       167980 non-null  float64\n",
            " 29  murder_rate                           167980 non-null  float64\n",
            " 30  aggravated_assault_rate               167980 non-null  float64\n",
            " 31  robbery_rate                          167980 non-null  float64\n",
            " 32  arson_rate                            167980 non-null  float64\n",
            " 33  auto_theft_rate                       167980 non-null  float64\n",
            " 34  larceny_rate                          167980 non-null  float64\n",
            " 35  burglary_rate                         167980 non-null  float64\n",
            " 36  violent_crime_rate                    167980 non-null  float64\n",
            " 37  property_crime_rate                   167980 non-null  float64\n",
            " 38  median_age                            167980 non-null  float64\n",
            " 39  pct_0_9_years                         167980 non-null  float64\n",
            " 40  pct_10_17_years                       167980 non-null  float64\n",
            " 41  pct_18_19_years                       167980 non-null  float64\n",
            " 42  pct_20_34_years                       167980 non-null  float64\n",
            " 43  pct_35_39_years                       167980 non-null  float64\n",
            " 44  pct_60_plus_years                     167980 non-null  float64\n",
            " 45  per_capita_income                     167980 non-null  float64\n",
            " 46  median_household_income               167980 non-null  float64\n",
            " 47  median_family_income                  167980 non-null  int64  \n",
            " 48  total_labor_force_participation       167980 non-null  float64\n",
            " 49  labor_force_part_age_16_19            167980 non-null  float64\n",
            " 50  labor_force_part_age_20_34            167980 non-null  float64\n",
            " 51  labor_force_part_age_35_64            167980 non-null  float64\n",
            " 52  labor_force_part_age_65_plus          167980 non-null  float64\n",
            " 53  total_poverty_rate                    167980 non-null  float64\n",
            " 54  poverty_rate_age_0_4                  167980 non-null  float64\n",
            " 55  poverty_rate_age_5_17                 167980 non-null  float64\n",
            " 56  poverty_rate_age_18_24                167980 non-null  float64\n",
            " 57  poverty_rate_age_25_34                167980 non-null  float64\n",
            " 58  poverty_rate_age_35_64                167980 non-null  float64\n",
            " 59  poverty_rate_age_65_plus              167980 non-null  float64\n",
            "dtypes: float64(43), int64(5), object(12)\n",
            "memory usage: 78.2+ MB\n"
          ],
          "name": "stdout"
        }
      ]
    },
    {
      "cell_type": "code",
      "metadata": {
        "colab": {
          "base_uri": "https://localhost:8080/"
        },
        "id": "AXuCru-uDc3g",
        "outputId": "3c17d34d-ec65-4878-ca78-8f33592ccf75"
      },
      "source": [
        "master_dataset = pd.merge(master_dataset, education, how='left', on='neighborhood')\n",
        "master_dataset.info()"
      ],
      "execution_count": 94,
      "outputs": [
        {
          "output_type": "stream",
          "text": [
            "<class 'pandas.core.frame.DataFrame'>\n",
            "Int64Index: 167980 entries, 0 to 167979\n",
            "Data columns (total 67 columns):\n",
            " #   Column                                Non-Null Count   Dtype  \n",
            "---  ------                                --------------   -----  \n",
            " 0   incident_number                       167980 non-null  object \n",
            " 1   offense_code                          167980 non-null  object \n",
            " 2   offense_code_group                    167980 non-null  object \n",
            " 3   offense_description                   167980 non-null  object \n",
            " 4   district                              167980 non-null  object \n",
            " 5   reporting_area                        167980 non-null  object \n",
            " 6   shooting                              167980 non-null  object \n",
            " 7   occurred_on_date                      167980 non-null  object \n",
            " 8   year                                  167980 non-null  int64  \n",
            " 9   month                                 167980 non-null  int64  \n",
            " 10  day_of_week                           167980 non-null  object \n",
            " 11  hour                                  167980 non-null  int64  \n",
            " 12  ucr_part                              167980 non-null  object \n",
            " 13  street                                167980 non-null  object \n",
            " 14  lat                                   167980 non-null  float64\n",
            " 15  long                                  167980 non-null  float64\n",
            " 16  neighborhood                          167980 non-null  object \n",
            " 17  population                            167980 non-null  int64  \n",
            " 18  count                                 167980 non-null  float64\n",
            " 19  Crime rate                            167980 non-null  float64\n",
            " 20  murder_and_nonnegligent_manslaughter  167980 non-null  float64\n",
            " 21  aggravated_assault                    167980 non-null  float64\n",
            " 22  robbery                               167980 non-null  float64\n",
            " 23  arson                                 167980 non-null  float64\n",
            " 24  auto_theft                            167980 non-null  float64\n",
            " 25  larceny                               167980 non-null  float64\n",
            " 26  burglary                              167980 non-null  float64\n",
            " 27  violent_crimes                        167980 non-null  float64\n",
            " 28  property_crimes                       167980 non-null  float64\n",
            " 29  murder_rate                           167980 non-null  float64\n",
            " 30  aggravated_assault_rate               167980 non-null  float64\n",
            " 31  robbery_rate                          167980 non-null  float64\n",
            " 32  arson_rate                            167980 non-null  float64\n",
            " 33  auto_theft_rate                       167980 non-null  float64\n",
            " 34  larceny_rate                          167980 non-null  float64\n",
            " 35  burglary_rate                         167980 non-null  float64\n",
            " 36  violent_crime_rate                    167980 non-null  float64\n",
            " 37  property_crime_rate                   167980 non-null  float64\n",
            " 38  median_age                            167980 non-null  float64\n",
            " 39  pct_0_9_years                         167980 non-null  float64\n",
            " 40  pct_10_17_years                       167980 non-null  float64\n",
            " 41  pct_18_19_years                       167980 non-null  float64\n",
            " 42  pct_20_34_years                       167980 non-null  float64\n",
            " 43  pct_35_39_years                       167980 non-null  float64\n",
            " 44  pct_60_plus_years                     167980 non-null  float64\n",
            " 45  per_capita_income                     167980 non-null  float64\n",
            " 46  median_household_income               167980 non-null  float64\n",
            " 47  median_family_income                  167980 non-null  int64  \n",
            " 48  total_labor_force_participation       167980 non-null  float64\n",
            " 49  labor_force_part_age_16_19            167980 non-null  float64\n",
            " 50  labor_force_part_age_20_34            167980 non-null  float64\n",
            " 51  labor_force_part_age_35_64            167980 non-null  float64\n",
            " 52  labor_force_part_age_65_plus          167980 non-null  float64\n",
            " 53  total_poverty_rate                    167980 non-null  float64\n",
            " 54  poverty_rate_age_0_4                  167980 non-null  float64\n",
            " 55  poverty_rate_age_5_17                 167980 non-null  float64\n",
            " 56  poverty_rate_age_18_24                167980 non-null  float64\n",
            " 57  poverty_rate_age_25_34                167980 non-null  float64\n",
            " 58  poverty_rate_age_35_64                167980 non-null  float64\n",
            " 59  poverty_rate_age_65_plus              167980 non-null  float64\n",
            " 60  pct_less_than_high_school             167980 non-null  float64\n",
            " 61  pct_high_school_graduate              167980 non-null  float64\n",
            " 62  pct_ged                               167980 non-null  float64\n",
            " 63  pct_some_college                      167980 non-null  float64\n",
            " 64  pct_associates_degree                 167980 non-null  float64\n",
            " 65  pct_bachelors_degree                  167980 non-null  float64\n",
            " 66  pct_masters_degree_and_higher         167980 non-null  float64\n",
            "dtypes: float64(50), int64(5), object(12)\n",
            "memory usage: 87.1+ MB\n"
          ],
          "name": "stdout"
        }
      ]
    },
    {
      "cell_type": "code",
      "metadata": {
        "colab": {
          "base_uri": "https://localhost:8080/"
        },
        "id": "TgVdYOqvDjA-",
        "outputId": "91c27e9d-90d3-4b60-e1c6-4519d331ac56"
      },
      "source": [
        "master_dataset = pd.merge(master_dataset, school_enrollment, how='left', on='neighborhood')\n",
        "master_dataset.info()"
      ],
      "execution_count": 95,
      "outputs": [
        {
          "output_type": "stream",
          "text": [
            "<class 'pandas.core.frame.DataFrame'>\n",
            "Int64Index: 167980 entries, 0 to 167979\n",
            "Data columns (total 73 columns):\n",
            " #   Column                                Non-Null Count   Dtype  \n",
            "---  ------                                --------------   -----  \n",
            " 0   incident_number                       167980 non-null  object \n",
            " 1   offense_code                          167980 non-null  object \n",
            " 2   offense_code_group                    167980 non-null  object \n",
            " 3   offense_description                   167980 non-null  object \n",
            " 4   district                              167980 non-null  object \n",
            " 5   reporting_area                        167980 non-null  object \n",
            " 6   shooting                              167980 non-null  object \n",
            " 7   occurred_on_date                      167980 non-null  object \n",
            " 8   year                                  167980 non-null  int64  \n",
            " 9   month                                 167980 non-null  int64  \n",
            " 10  day_of_week                           167980 non-null  object \n",
            " 11  hour                                  167980 non-null  int64  \n",
            " 12  ucr_part                              167980 non-null  object \n",
            " 13  street                                167980 non-null  object \n",
            " 14  lat                                   167980 non-null  float64\n",
            " 15  long                                  167980 non-null  float64\n",
            " 16  neighborhood                          167980 non-null  object \n",
            " 17  population                            167980 non-null  int64  \n",
            " 18  count                                 167980 non-null  float64\n",
            " 19  Crime rate                            167980 non-null  float64\n",
            " 20  murder_and_nonnegligent_manslaughter  167980 non-null  float64\n",
            " 21  aggravated_assault                    167980 non-null  float64\n",
            " 22  robbery                               167980 non-null  float64\n",
            " 23  arson                                 167980 non-null  float64\n",
            " 24  auto_theft                            167980 non-null  float64\n",
            " 25  larceny                               167980 non-null  float64\n",
            " 26  burglary                              167980 non-null  float64\n",
            " 27  violent_crimes                        167980 non-null  float64\n",
            " 28  property_crimes                       167980 non-null  float64\n",
            " 29  murder_rate                           167980 non-null  float64\n",
            " 30  aggravated_assault_rate               167980 non-null  float64\n",
            " 31  robbery_rate                          167980 non-null  float64\n",
            " 32  arson_rate                            167980 non-null  float64\n",
            " 33  auto_theft_rate                       167980 non-null  float64\n",
            " 34  larceny_rate                          167980 non-null  float64\n",
            " 35  burglary_rate                         167980 non-null  float64\n",
            " 36  violent_crime_rate                    167980 non-null  float64\n",
            " 37  property_crime_rate                   167980 non-null  float64\n",
            " 38  median_age                            167980 non-null  float64\n",
            " 39  pct_0_9_years                         167980 non-null  float64\n",
            " 40  pct_10_17_years                       167980 non-null  float64\n",
            " 41  pct_18_19_years                       167980 non-null  float64\n",
            " 42  pct_20_34_years                       167980 non-null  float64\n",
            " 43  pct_35_39_years                       167980 non-null  float64\n",
            " 44  pct_60_plus_years                     167980 non-null  float64\n",
            " 45  per_capita_income                     167980 non-null  float64\n",
            " 46  median_household_income               167980 non-null  float64\n",
            " 47  median_family_income                  167980 non-null  int64  \n",
            " 48  total_labor_force_participation       167980 non-null  float64\n",
            " 49  labor_force_part_age_16_19            167980 non-null  float64\n",
            " 50  labor_force_part_age_20_34            167980 non-null  float64\n",
            " 51  labor_force_part_age_35_64            167980 non-null  float64\n",
            " 52  labor_force_part_age_65_plus          167980 non-null  float64\n",
            " 53  total_poverty_rate                    167980 non-null  float64\n",
            " 54  poverty_rate_age_0_4                  167980 non-null  float64\n",
            " 55  poverty_rate_age_5_17                 167980 non-null  float64\n",
            " 56  poverty_rate_age_18_24                167980 non-null  float64\n",
            " 57  poverty_rate_age_25_34                167980 non-null  float64\n",
            " 58  poverty_rate_age_35_64                167980 non-null  float64\n",
            " 59  poverty_rate_age_65_plus              167980 non-null  float64\n",
            " 60  pct_less_than_high_school             167980 non-null  float64\n",
            " 61  pct_high_school_graduate              167980 non-null  float64\n",
            " 62  pct_ged                               167980 non-null  float64\n",
            " 63  pct_some_college                      167980 non-null  float64\n",
            " 64  pct_associates_degree                 167980 non-null  float64\n",
            " 65  pct_bachelors_degree                  167980 non-null  float64\n",
            " 66  pct_masters_degree_and_higher         167980 non-null  float64\n",
            " 67  pct_enrolled_any_school               167980 non-null  float64\n",
            " 68  pct_enrolled_preschool                167980 non-null  float64\n",
            " 69  pct_enrolled_kindergarten_g8          167980 non-null  float64\n",
            " 70  pct_enrolled_g9_g12                   167980 non-null  float64\n",
            " 71  pct_enrolled_undergraduate            167980 non-null  float64\n",
            " 72  pct_enrolled_graduate                 167980 non-null  float64\n",
            "dtypes: float64(56), int64(5), object(12)\n",
            "memory usage: 94.8+ MB\n"
          ],
          "name": "stdout"
        }
      ]
    },
    {
      "cell_type": "code",
      "metadata": {
        "colab": {
          "base_uri": "https://localhost:8080/"
        },
        "id": "lQJZeIoUDpln",
        "outputId": "0cbc6539-de09-4aaa-e1e3-7b8f7b71f323"
      },
      "source": [
        "master_dataset = pd.merge(master_dataset, household_type, how='left', on='neighborhood')\n",
        "master_dataset.info()"
      ],
      "execution_count": 96,
      "outputs": [
        {
          "output_type": "stream",
          "text": [
            "<class 'pandas.core.frame.DataFrame'>\n",
            "Int64Index: 167980 entries, 0 to 167979\n",
            "Data columns (total 78 columns):\n",
            " #   Column                                Non-Null Count   Dtype  \n",
            "---  ------                                --------------   -----  \n",
            " 0   incident_number                       167980 non-null  object \n",
            " 1   offense_code                          167980 non-null  object \n",
            " 2   offense_code_group                    167980 non-null  object \n",
            " 3   offense_description                   167980 non-null  object \n",
            " 4   district                              167980 non-null  object \n",
            " 5   reporting_area                        167980 non-null  object \n",
            " 6   shooting                              167980 non-null  object \n",
            " 7   occurred_on_date                      167980 non-null  object \n",
            " 8   year                                  167980 non-null  int64  \n",
            " 9   month                                 167980 non-null  int64  \n",
            " 10  day_of_week                           167980 non-null  object \n",
            " 11  hour                                  167980 non-null  int64  \n",
            " 12  ucr_part                              167980 non-null  object \n",
            " 13  street                                167980 non-null  object \n",
            " 14  lat                                   167980 non-null  float64\n",
            " 15  long                                  167980 non-null  float64\n",
            " 16  neighborhood                          167980 non-null  object \n",
            " 17  population                            167980 non-null  int64  \n",
            " 18  count                                 167980 non-null  float64\n",
            " 19  Crime rate                            167980 non-null  float64\n",
            " 20  murder_and_nonnegligent_manslaughter  167980 non-null  float64\n",
            " 21  aggravated_assault                    167980 non-null  float64\n",
            " 22  robbery                               167980 non-null  float64\n",
            " 23  arson                                 167980 non-null  float64\n",
            " 24  auto_theft                            167980 non-null  float64\n",
            " 25  larceny                               167980 non-null  float64\n",
            " 26  burglary                              167980 non-null  float64\n",
            " 27  violent_crimes                        167980 non-null  float64\n",
            " 28  property_crimes                       167980 non-null  float64\n",
            " 29  murder_rate                           167980 non-null  float64\n",
            " 30  aggravated_assault_rate               167980 non-null  float64\n",
            " 31  robbery_rate                          167980 non-null  float64\n",
            " 32  arson_rate                            167980 non-null  float64\n",
            " 33  auto_theft_rate                       167980 non-null  float64\n",
            " 34  larceny_rate                          167980 non-null  float64\n",
            " 35  burglary_rate                         167980 non-null  float64\n",
            " 36  violent_crime_rate                    167980 non-null  float64\n",
            " 37  property_crime_rate                   167980 non-null  float64\n",
            " 38  median_age                            167980 non-null  float64\n",
            " 39  pct_0_9_years                         167980 non-null  float64\n",
            " 40  pct_10_17_years                       167980 non-null  float64\n",
            " 41  pct_18_19_years                       167980 non-null  float64\n",
            " 42  pct_20_34_years                       167980 non-null  float64\n",
            " 43  pct_35_39_years                       167980 non-null  float64\n",
            " 44  pct_60_plus_years                     167980 non-null  float64\n",
            " 45  per_capita_income                     167980 non-null  float64\n",
            " 46  median_household_income               167980 non-null  float64\n",
            " 47  median_family_income                  167980 non-null  int64  \n",
            " 48  total_labor_force_participation       167980 non-null  float64\n",
            " 49  labor_force_part_age_16_19            167980 non-null  float64\n",
            " 50  labor_force_part_age_20_34            167980 non-null  float64\n",
            " 51  labor_force_part_age_35_64            167980 non-null  float64\n",
            " 52  labor_force_part_age_65_plus          167980 non-null  float64\n",
            " 53  total_poverty_rate                    167980 non-null  float64\n",
            " 54  poverty_rate_age_0_4                  167980 non-null  float64\n",
            " 55  poverty_rate_age_5_17                 167980 non-null  float64\n",
            " 56  poverty_rate_age_18_24                167980 non-null  float64\n",
            " 57  poverty_rate_age_25_34                167980 non-null  float64\n",
            " 58  poverty_rate_age_35_64                167980 non-null  float64\n",
            " 59  poverty_rate_age_65_plus              167980 non-null  float64\n",
            " 60  pct_less_than_high_school             167980 non-null  float64\n",
            " 61  pct_high_school_graduate              167980 non-null  float64\n",
            " 62  pct_ged                               167980 non-null  float64\n",
            " 63  pct_some_college                      167980 non-null  float64\n",
            " 64  pct_associates_degree                 167980 non-null  float64\n",
            " 65  pct_bachelors_degree                  167980 non-null  float64\n",
            " 66  pct_masters_degree_and_higher         167980 non-null  float64\n",
            " 67  pct_enrolled_any_school               167980 non-null  float64\n",
            " 68  pct_enrolled_preschool                167980 non-null  float64\n",
            " 69  pct_enrolled_kindergarten_g8          167980 non-null  float64\n",
            " 70  pct_enrolled_g9_g12                   167980 non-null  float64\n",
            " 71  pct_enrolled_undergraduate            167980 non-null  float64\n",
            " 72  pct_enrolled_graduate                 167980 non-null  float64\n",
            " 73  pct_married_couple_family             167980 non-null  float64\n",
            " 74  pct_male_no_spouse                    167980 non-null  float64\n",
            " 75  pct_female_no_spouse                  167980 non-null  float64\n",
            " 76  pct_householder_alone                 167980 non-null  float64\n",
            " 77  pct_householder_not_alone             167980 non-null  float64\n",
            "dtypes: float64(61), int64(5), object(12)\n",
            "memory usage: 101.2+ MB\n"
          ],
          "name": "stdout"
        }
      ]
    },
    {
      "cell_type": "code",
      "metadata": {
        "colab": {
          "base_uri": "https://localhost:8080/"
        },
        "id": "oVweD5hmDs_4",
        "outputId": "68f8ba0a-bae5-43a4-f60e-4c24f7623cbc"
      },
      "source": [
        "master_dataset = pd.merge(master_dataset, housing_tenure, how='left', on='neighborhood')\n",
        "master_dataset.info()"
      ],
      "execution_count": 97,
      "outputs": [
        {
          "output_type": "stream",
          "text": [
            "<class 'pandas.core.frame.DataFrame'>\n",
            "Int64Index: 167980 entries, 0 to 167979\n",
            "Data columns (total 81 columns):\n",
            " #   Column                                Non-Null Count   Dtype  \n",
            "---  ------                                --------------   -----  \n",
            " 0   incident_number                       167980 non-null  object \n",
            " 1   offense_code                          167980 non-null  object \n",
            " 2   offense_code_group                    167980 non-null  object \n",
            " 3   offense_description                   167980 non-null  object \n",
            " 4   district                              167980 non-null  object \n",
            " 5   reporting_area                        167980 non-null  object \n",
            " 6   shooting                              167980 non-null  object \n",
            " 7   occurred_on_date                      167980 non-null  object \n",
            " 8   year                                  167980 non-null  int64  \n",
            " 9   month                                 167980 non-null  int64  \n",
            " 10  day_of_week                           167980 non-null  object \n",
            " 11  hour                                  167980 non-null  int64  \n",
            " 12  ucr_part                              167980 non-null  object \n",
            " 13  street                                167980 non-null  object \n",
            " 14  lat                                   167980 non-null  float64\n",
            " 15  long                                  167980 non-null  float64\n",
            " 16  neighborhood                          167980 non-null  object \n",
            " 17  population                            167980 non-null  int64  \n",
            " 18  count                                 167980 non-null  float64\n",
            " 19  Crime rate                            167980 non-null  float64\n",
            " 20  murder_and_nonnegligent_manslaughter  167980 non-null  float64\n",
            " 21  aggravated_assault                    167980 non-null  float64\n",
            " 22  robbery                               167980 non-null  float64\n",
            " 23  arson                                 167980 non-null  float64\n",
            " 24  auto_theft                            167980 non-null  float64\n",
            " 25  larceny                               167980 non-null  float64\n",
            " 26  burglary                              167980 non-null  float64\n",
            " 27  violent_crimes                        167980 non-null  float64\n",
            " 28  property_crimes                       167980 non-null  float64\n",
            " 29  murder_rate                           167980 non-null  float64\n",
            " 30  aggravated_assault_rate               167980 non-null  float64\n",
            " 31  robbery_rate                          167980 non-null  float64\n",
            " 32  arson_rate                            167980 non-null  float64\n",
            " 33  auto_theft_rate                       167980 non-null  float64\n",
            " 34  larceny_rate                          167980 non-null  float64\n",
            " 35  burglary_rate                         167980 non-null  float64\n",
            " 36  violent_crime_rate                    167980 non-null  float64\n",
            " 37  property_crime_rate                   167980 non-null  float64\n",
            " 38  median_age                            167980 non-null  float64\n",
            " 39  pct_0_9_years                         167980 non-null  float64\n",
            " 40  pct_10_17_years                       167980 non-null  float64\n",
            " 41  pct_18_19_years                       167980 non-null  float64\n",
            " 42  pct_20_34_years                       167980 non-null  float64\n",
            " 43  pct_35_39_years                       167980 non-null  float64\n",
            " 44  pct_60_plus_years                     167980 non-null  float64\n",
            " 45  per_capita_income                     167980 non-null  float64\n",
            " 46  median_household_income               167980 non-null  float64\n",
            " 47  median_family_income                  167980 non-null  int64  \n",
            " 48  total_labor_force_participation       167980 non-null  float64\n",
            " 49  labor_force_part_age_16_19            167980 non-null  float64\n",
            " 50  labor_force_part_age_20_34            167980 non-null  float64\n",
            " 51  labor_force_part_age_35_64            167980 non-null  float64\n",
            " 52  labor_force_part_age_65_plus          167980 non-null  float64\n",
            " 53  total_poverty_rate                    167980 non-null  float64\n",
            " 54  poverty_rate_age_0_4                  167980 non-null  float64\n",
            " 55  poverty_rate_age_5_17                 167980 non-null  float64\n",
            " 56  poverty_rate_age_18_24                167980 non-null  float64\n",
            " 57  poverty_rate_age_25_34                167980 non-null  float64\n",
            " 58  poverty_rate_age_35_64                167980 non-null  float64\n",
            " 59  poverty_rate_age_65_plus              167980 non-null  float64\n",
            " 60  pct_less_than_high_school             167980 non-null  float64\n",
            " 61  pct_high_school_graduate              167980 non-null  float64\n",
            " 62  pct_ged                               167980 non-null  float64\n",
            " 63  pct_some_college                      167980 non-null  float64\n",
            " 64  pct_associates_degree                 167980 non-null  float64\n",
            " 65  pct_bachelors_degree                  167980 non-null  float64\n",
            " 66  pct_masters_degree_and_higher         167980 non-null  float64\n",
            " 67  pct_enrolled_any_school               167980 non-null  float64\n",
            " 68  pct_enrolled_preschool                167980 non-null  float64\n",
            " 69  pct_enrolled_kindergarten_g8          167980 non-null  float64\n",
            " 70  pct_enrolled_g9_g12                   167980 non-null  float64\n",
            " 71  pct_enrolled_undergraduate            167980 non-null  float64\n",
            " 72  pct_enrolled_graduate                 167980 non-null  float64\n",
            " 73  pct_married_couple_family             167980 non-null  float64\n",
            " 74  pct_male_no_spouse                    167980 non-null  float64\n",
            " 75  pct_female_no_spouse                  167980 non-null  float64\n",
            " 76  pct_householder_alone                 167980 non-null  float64\n",
            " 77  pct_householder_not_alone             167980 non-null  float64\n",
            " 78  pct_total_units_occupied              167980 non-null  float64\n",
            " 79  pct_owner_occupied                    167980 non-null  float64\n",
            " 80  pct_renter_occupied                   167980 non-null  float64\n",
            "dtypes: float64(64), int64(5), object(12)\n",
            "memory usage: 105.1+ MB\n"
          ],
          "name": "stdout"
        }
      ]
    },
    {
      "cell_type": "code",
      "metadata": {
        "colab": {
          "base_uri": "https://localhost:8080/"
        },
        "id": "D4QYBFAYD2Oj",
        "outputId": "eb355efc-5e0d-44ac-95e2-26f7ca1cfd7e"
      },
      "source": [
        "master_dataset = pd.merge(master_dataset, bedrooms, how='left', on='neighborhood')\n",
        "master_dataset.info()"
      ],
      "execution_count": 98,
      "outputs": [
        {
          "output_type": "stream",
          "text": [
            "<class 'pandas.core.frame.DataFrame'>\n",
            "Int64Index: 167980 entries, 0 to 167979\n",
            "Data columns (total 85 columns):\n",
            " #   Column                                Non-Null Count   Dtype  \n",
            "---  ------                                --------------   -----  \n",
            " 0   incident_number                       167980 non-null  object \n",
            " 1   offense_code                          167980 non-null  object \n",
            " 2   offense_code_group                    167980 non-null  object \n",
            " 3   offense_description                   167980 non-null  object \n",
            " 4   district                              167980 non-null  object \n",
            " 5   reporting_area                        167980 non-null  object \n",
            " 6   shooting                              167980 non-null  object \n",
            " 7   occurred_on_date                      167980 non-null  object \n",
            " 8   year                                  167980 non-null  int64  \n",
            " 9   month                                 167980 non-null  int64  \n",
            " 10  day_of_week                           167980 non-null  object \n",
            " 11  hour                                  167980 non-null  int64  \n",
            " 12  ucr_part                              167980 non-null  object \n",
            " 13  street                                167980 non-null  object \n",
            " 14  lat                                   167980 non-null  float64\n",
            " 15  long                                  167980 non-null  float64\n",
            " 16  neighborhood                          167980 non-null  object \n",
            " 17  population                            167980 non-null  int64  \n",
            " 18  count                                 167980 non-null  float64\n",
            " 19  Crime rate                            167980 non-null  float64\n",
            " 20  murder_and_nonnegligent_manslaughter  167980 non-null  float64\n",
            " 21  aggravated_assault                    167980 non-null  float64\n",
            " 22  robbery                               167980 non-null  float64\n",
            " 23  arson                                 167980 non-null  float64\n",
            " 24  auto_theft                            167980 non-null  float64\n",
            " 25  larceny                               167980 non-null  float64\n",
            " 26  burglary                              167980 non-null  float64\n",
            " 27  violent_crimes                        167980 non-null  float64\n",
            " 28  property_crimes                       167980 non-null  float64\n",
            " 29  murder_rate                           167980 non-null  float64\n",
            " 30  aggravated_assault_rate               167980 non-null  float64\n",
            " 31  robbery_rate                          167980 non-null  float64\n",
            " 32  arson_rate                            167980 non-null  float64\n",
            " 33  auto_theft_rate                       167980 non-null  float64\n",
            " 34  larceny_rate                          167980 non-null  float64\n",
            " 35  burglary_rate                         167980 non-null  float64\n",
            " 36  violent_crime_rate                    167980 non-null  float64\n",
            " 37  property_crime_rate                   167980 non-null  float64\n",
            " 38  median_age                            167980 non-null  float64\n",
            " 39  pct_0_9_years                         167980 non-null  float64\n",
            " 40  pct_10_17_years                       167980 non-null  float64\n",
            " 41  pct_18_19_years                       167980 non-null  float64\n",
            " 42  pct_20_34_years                       167980 non-null  float64\n",
            " 43  pct_35_39_years                       167980 non-null  float64\n",
            " 44  pct_60_plus_years                     167980 non-null  float64\n",
            " 45  per_capita_income                     167980 non-null  float64\n",
            " 46  median_household_income               167980 non-null  float64\n",
            " 47  median_family_income                  167980 non-null  int64  \n",
            " 48  total_labor_force_participation       167980 non-null  float64\n",
            " 49  labor_force_part_age_16_19            167980 non-null  float64\n",
            " 50  labor_force_part_age_20_34            167980 non-null  float64\n",
            " 51  labor_force_part_age_35_64            167980 non-null  float64\n",
            " 52  labor_force_part_age_65_plus          167980 non-null  float64\n",
            " 53  total_poverty_rate                    167980 non-null  float64\n",
            " 54  poverty_rate_age_0_4                  167980 non-null  float64\n",
            " 55  poverty_rate_age_5_17                 167980 non-null  float64\n",
            " 56  poverty_rate_age_18_24                167980 non-null  float64\n",
            " 57  poverty_rate_age_25_34                167980 non-null  float64\n",
            " 58  poverty_rate_age_35_64                167980 non-null  float64\n",
            " 59  poverty_rate_age_65_plus              167980 non-null  float64\n",
            " 60  pct_less_than_high_school             167980 non-null  float64\n",
            " 61  pct_high_school_graduate              167980 non-null  float64\n",
            " 62  pct_ged                               167980 non-null  float64\n",
            " 63  pct_some_college                      167980 non-null  float64\n",
            " 64  pct_associates_degree                 167980 non-null  float64\n",
            " 65  pct_bachelors_degree                  167980 non-null  float64\n",
            " 66  pct_masters_degree_and_higher         167980 non-null  float64\n",
            " 67  pct_enrolled_any_school               167980 non-null  float64\n",
            " 68  pct_enrolled_preschool                167980 non-null  float64\n",
            " 69  pct_enrolled_kindergarten_g8          167980 non-null  float64\n",
            " 70  pct_enrolled_g9_g12                   167980 non-null  float64\n",
            " 71  pct_enrolled_undergraduate            167980 non-null  float64\n",
            " 72  pct_enrolled_graduate                 167980 non-null  float64\n",
            " 73  pct_married_couple_family             167980 non-null  float64\n",
            " 74  pct_male_no_spouse                    167980 non-null  float64\n",
            " 75  pct_female_no_spouse                  167980 non-null  float64\n",
            " 76  pct_householder_alone                 167980 non-null  float64\n",
            " 77  pct_householder_not_alone             167980 non-null  float64\n",
            " 78  pct_total_units_occupied              167980 non-null  float64\n",
            " 79  pct_owner_occupied                    167980 non-null  float64\n",
            " 80  pct_renter_occupied                   167980 non-null  float64\n",
            " 81  pct_studio_1_bed                      167980 non-null  float64\n",
            " 82  pct_2_bed                             167980 non-null  float64\n",
            " 83  pct_3_bed                             167980 non-null  float64\n",
            " 84  pct_4_plus_bed                        167980 non-null  float64\n",
            "dtypes: float64(68), int64(5), object(12)\n",
            "memory usage: 110.2+ MB\n"
          ],
          "name": "stdout"
        }
      ]
    },
    {
      "cell_type": "code",
      "metadata": {
        "colab": {
          "base_uri": "https://localhost:8080/"
        },
        "id": "oh-jjzPqD-vi",
        "outputId": "6baf8e35-87c8-476a-c210-10dfc8743dde"
      },
      "source": [
        "master_dataset = pd.merge(master_dataset, group_quarters, how='left', on='neighborhood')\n",
        "master_dataset.info()"
      ],
      "execution_count": 99,
      "outputs": [
        {
          "output_type": "stream",
          "text": [
            "<class 'pandas.core.frame.DataFrame'>\n",
            "Int64Index: 167980 entries, 0 to 167979\n",
            "Data columns (total 86 columns):\n",
            " #   Column                                Non-Null Count   Dtype  \n",
            "---  ------                                --------------   -----  \n",
            " 0   incident_number                       167980 non-null  object \n",
            " 1   offense_code                          167980 non-null  object \n",
            " 2   offense_code_group                    167980 non-null  object \n",
            " 3   offense_description                   167980 non-null  object \n",
            " 4   district                              167980 non-null  object \n",
            " 5   reporting_area                        167980 non-null  object \n",
            " 6   shooting                              167980 non-null  object \n",
            " 7   occurred_on_date                      167980 non-null  object \n",
            " 8   year                                  167980 non-null  int64  \n",
            " 9   month                                 167980 non-null  int64  \n",
            " 10  day_of_week                           167980 non-null  object \n",
            " 11  hour                                  167980 non-null  int64  \n",
            " 12  ucr_part                              167980 non-null  object \n",
            " 13  street                                167980 non-null  object \n",
            " 14  lat                                   167980 non-null  float64\n",
            " 15  long                                  167980 non-null  float64\n",
            " 16  neighborhood                          167980 non-null  object \n",
            " 17  population                            167980 non-null  int64  \n",
            " 18  count                                 167980 non-null  float64\n",
            " 19  Crime rate                            167980 non-null  float64\n",
            " 20  murder_and_nonnegligent_manslaughter  167980 non-null  float64\n",
            " 21  aggravated_assault                    167980 non-null  float64\n",
            " 22  robbery                               167980 non-null  float64\n",
            " 23  arson                                 167980 non-null  float64\n",
            " 24  auto_theft                            167980 non-null  float64\n",
            " 25  larceny                               167980 non-null  float64\n",
            " 26  burglary                              167980 non-null  float64\n",
            " 27  violent_crimes                        167980 non-null  float64\n",
            " 28  property_crimes                       167980 non-null  float64\n",
            " 29  murder_rate                           167980 non-null  float64\n",
            " 30  aggravated_assault_rate               167980 non-null  float64\n",
            " 31  robbery_rate                          167980 non-null  float64\n",
            " 32  arson_rate                            167980 non-null  float64\n",
            " 33  auto_theft_rate                       167980 non-null  float64\n",
            " 34  larceny_rate                          167980 non-null  float64\n",
            " 35  burglary_rate                         167980 non-null  float64\n",
            " 36  violent_crime_rate                    167980 non-null  float64\n",
            " 37  property_crime_rate                   167980 non-null  float64\n",
            " 38  median_age                            167980 non-null  float64\n",
            " 39  pct_0_9_years                         167980 non-null  float64\n",
            " 40  pct_10_17_years                       167980 non-null  float64\n",
            " 41  pct_18_19_years                       167980 non-null  float64\n",
            " 42  pct_20_34_years                       167980 non-null  float64\n",
            " 43  pct_35_39_years                       167980 non-null  float64\n",
            " 44  pct_60_plus_years                     167980 non-null  float64\n",
            " 45  per_capita_income                     167980 non-null  float64\n",
            " 46  median_household_income               167980 non-null  float64\n",
            " 47  median_family_income                  167980 non-null  int64  \n",
            " 48  total_labor_force_participation       167980 non-null  float64\n",
            " 49  labor_force_part_age_16_19            167980 non-null  float64\n",
            " 50  labor_force_part_age_20_34            167980 non-null  float64\n",
            " 51  labor_force_part_age_35_64            167980 non-null  float64\n",
            " 52  labor_force_part_age_65_plus          167980 non-null  float64\n",
            " 53  total_poverty_rate                    167980 non-null  float64\n",
            " 54  poverty_rate_age_0_4                  167980 non-null  float64\n",
            " 55  poverty_rate_age_5_17                 167980 non-null  float64\n",
            " 56  poverty_rate_age_18_24                167980 non-null  float64\n",
            " 57  poverty_rate_age_25_34                167980 non-null  float64\n",
            " 58  poverty_rate_age_35_64                167980 non-null  float64\n",
            " 59  poverty_rate_age_65_plus              167980 non-null  float64\n",
            " 60  pct_less_than_high_school             167980 non-null  float64\n",
            " 61  pct_high_school_graduate              167980 non-null  float64\n",
            " 62  pct_ged                               167980 non-null  float64\n",
            " 63  pct_some_college                      167980 non-null  float64\n",
            " 64  pct_associates_degree                 167980 non-null  float64\n",
            " 65  pct_bachelors_degree                  167980 non-null  float64\n",
            " 66  pct_masters_degree_and_higher         167980 non-null  float64\n",
            " 67  pct_enrolled_any_school               167980 non-null  float64\n",
            " 68  pct_enrolled_preschool                167980 non-null  float64\n",
            " 69  pct_enrolled_kindergarten_g8          167980 non-null  float64\n",
            " 70  pct_enrolled_g9_g12                   167980 non-null  float64\n",
            " 71  pct_enrolled_undergraduate            167980 non-null  float64\n",
            " 72  pct_enrolled_graduate                 167980 non-null  float64\n",
            " 73  pct_married_couple_family             167980 non-null  float64\n",
            " 74  pct_male_no_spouse                    167980 non-null  float64\n",
            " 75  pct_female_no_spouse                  167980 non-null  float64\n",
            " 76  pct_householder_alone                 167980 non-null  float64\n",
            " 77  pct_householder_not_alone             167980 non-null  float64\n",
            " 78  pct_total_units_occupied              167980 non-null  float64\n",
            " 79  pct_owner_occupied                    167980 non-null  float64\n",
            " 80  pct_renter_occupied                   167980 non-null  float64\n",
            " 81  pct_studio_1_bed                      167980 non-null  float64\n",
            " 82  pct_2_bed                             167980 non-null  float64\n",
            " 83  pct_3_bed                             167980 non-null  float64\n",
            " 84  pct_4_plus_bed                        167980 non-null  float64\n",
            " 85  pct_pop_in_group_quarters             167980 non-null  float64\n",
            "dtypes: float64(69), int64(5), object(12)\n",
            "memory usage: 111.5+ MB\n"
          ],
          "name": "stdout"
        }
      ]
    },
    {
      "cell_type": "code",
      "metadata": {
        "colab": {
          "base_uri": "https://localhost:8080/"
        },
        "id": "YbtQ-h5jECMv",
        "outputId": "caef02a7-578c-4c33-ce79-2ecdd235c817"
      },
      "source": [
        "master_dataset = pd.merge(master_dataset, vehicles, how='left', on='neighborhood')\n",
        "master_dataset.info()"
      ],
      "execution_count": 100,
      "outputs": [
        {
          "output_type": "stream",
          "text": [
            "<class 'pandas.core.frame.DataFrame'>\n",
            "Int64Index: 167980 entries, 0 to 167979\n",
            "Data columns (total 90 columns):\n",
            " #   Column                                Non-Null Count   Dtype  \n",
            "---  ------                                --------------   -----  \n",
            " 0   incident_number                       167980 non-null  object \n",
            " 1   offense_code                          167980 non-null  object \n",
            " 2   offense_code_group                    167980 non-null  object \n",
            " 3   offense_description                   167980 non-null  object \n",
            " 4   district                              167980 non-null  object \n",
            " 5   reporting_area                        167980 non-null  object \n",
            " 6   shooting                              167980 non-null  object \n",
            " 7   occurred_on_date                      167980 non-null  object \n",
            " 8   year                                  167980 non-null  int64  \n",
            " 9   month                                 167980 non-null  int64  \n",
            " 10  day_of_week                           167980 non-null  object \n",
            " 11  hour                                  167980 non-null  int64  \n",
            " 12  ucr_part                              167980 non-null  object \n",
            " 13  street                                167980 non-null  object \n",
            " 14  lat                                   167980 non-null  float64\n",
            " 15  long                                  167980 non-null  float64\n",
            " 16  neighborhood                          167980 non-null  object \n",
            " 17  population                            167980 non-null  int64  \n",
            " 18  count                                 167980 non-null  float64\n",
            " 19  Crime rate                            167980 non-null  float64\n",
            " 20  murder_and_nonnegligent_manslaughter  167980 non-null  float64\n",
            " 21  aggravated_assault                    167980 non-null  float64\n",
            " 22  robbery                               167980 non-null  float64\n",
            " 23  arson                                 167980 non-null  float64\n",
            " 24  auto_theft                            167980 non-null  float64\n",
            " 25  larceny                               167980 non-null  float64\n",
            " 26  burglary                              167980 non-null  float64\n",
            " 27  violent_crimes                        167980 non-null  float64\n",
            " 28  property_crimes                       167980 non-null  float64\n",
            " 29  murder_rate                           167980 non-null  float64\n",
            " 30  aggravated_assault_rate               167980 non-null  float64\n",
            " 31  robbery_rate                          167980 non-null  float64\n",
            " 32  arson_rate                            167980 non-null  float64\n",
            " 33  auto_theft_rate                       167980 non-null  float64\n",
            " 34  larceny_rate                          167980 non-null  float64\n",
            " 35  burglary_rate                         167980 non-null  float64\n",
            " 36  violent_crime_rate                    167980 non-null  float64\n",
            " 37  property_crime_rate                   167980 non-null  float64\n",
            " 38  median_age                            167980 non-null  float64\n",
            " 39  pct_0_9_years                         167980 non-null  float64\n",
            " 40  pct_10_17_years                       167980 non-null  float64\n",
            " 41  pct_18_19_years                       167980 non-null  float64\n",
            " 42  pct_20_34_years                       167980 non-null  float64\n",
            " 43  pct_35_39_years                       167980 non-null  float64\n",
            " 44  pct_60_plus_years                     167980 non-null  float64\n",
            " 45  per_capita_income                     167980 non-null  float64\n",
            " 46  median_household_income               167980 non-null  float64\n",
            " 47  median_family_income                  167980 non-null  int64  \n",
            " 48  total_labor_force_participation       167980 non-null  float64\n",
            " 49  labor_force_part_age_16_19            167980 non-null  float64\n",
            " 50  labor_force_part_age_20_34            167980 non-null  float64\n",
            " 51  labor_force_part_age_35_64            167980 non-null  float64\n",
            " 52  labor_force_part_age_65_plus          167980 non-null  float64\n",
            " 53  total_poverty_rate                    167980 non-null  float64\n",
            " 54  poverty_rate_age_0_4                  167980 non-null  float64\n",
            " 55  poverty_rate_age_5_17                 167980 non-null  float64\n",
            " 56  poverty_rate_age_18_24                167980 non-null  float64\n",
            " 57  poverty_rate_age_25_34                167980 non-null  float64\n",
            " 58  poverty_rate_age_35_64                167980 non-null  float64\n",
            " 59  poverty_rate_age_65_plus              167980 non-null  float64\n",
            " 60  pct_less_than_high_school             167980 non-null  float64\n",
            " 61  pct_high_school_graduate              167980 non-null  float64\n",
            " 62  pct_ged                               167980 non-null  float64\n",
            " 63  pct_some_college                      167980 non-null  float64\n",
            " 64  pct_associates_degree                 167980 non-null  float64\n",
            " 65  pct_bachelors_degree                  167980 non-null  float64\n",
            " 66  pct_masters_degree_and_higher         167980 non-null  float64\n",
            " 67  pct_enrolled_any_school               167980 non-null  float64\n",
            " 68  pct_enrolled_preschool                167980 non-null  float64\n",
            " 69  pct_enrolled_kindergarten_g8          167980 non-null  float64\n",
            " 70  pct_enrolled_g9_g12                   167980 non-null  float64\n",
            " 71  pct_enrolled_undergraduate            167980 non-null  float64\n",
            " 72  pct_enrolled_graduate                 167980 non-null  float64\n",
            " 73  pct_married_couple_family             167980 non-null  float64\n",
            " 74  pct_male_no_spouse                    167980 non-null  float64\n",
            " 75  pct_female_no_spouse                  167980 non-null  float64\n",
            " 76  pct_householder_alone                 167980 non-null  float64\n",
            " 77  pct_householder_not_alone             167980 non-null  float64\n",
            " 78  pct_total_units_occupied              167980 non-null  float64\n",
            " 79  pct_owner_occupied                    167980 non-null  float64\n",
            " 80  pct_renter_occupied                   167980 non-null  float64\n",
            " 81  pct_studio_1_bed                      167980 non-null  float64\n",
            " 82  pct_2_bed                             167980 non-null  float64\n",
            " 83  pct_3_bed                             167980 non-null  float64\n",
            " 84  pct_4_plus_bed                        167980 non-null  float64\n",
            " 85  pct_pop_in_group_quarters             167980 non-null  float64\n",
            " 86  pct_no_vehicle                        167980 non-null  float64\n",
            " 87  pct_1_vehicle                         167980 non-null  float64\n",
            " 88  pct_2_vehicles                        167980 non-null  float64\n",
            " 89  pct_3_plus_vehicles                   167980 non-null  float64\n",
            "dtypes: float64(73), int64(5), object(12)\n",
            "memory usage: 116.6+ MB\n"
          ],
          "name": "stdout"
        }
      ]
    },
    {
      "cell_type": "code",
      "metadata": {
        "colab": {
          "base_uri": "https://localhost:8080/"
        },
        "id": "7iy6WcfGEGxl",
        "outputId": "4bd8ad92-4b60-45a8-a764-b30d52918562"
      },
      "source": [
        "master_dataset = pd.merge(master_dataset, relocation, how='left', on='neighborhood')\n",
        "master_dataset.info()"
      ],
      "execution_count": 101,
      "outputs": [
        {
          "output_type": "stream",
          "text": [
            "<class 'pandas.core.frame.DataFrame'>\n",
            "Int64Index: 167980 entries, 0 to 167979\n",
            "Data columns (total 95 columns):\n",
            " #   Column                                Non-Null Count   Dtype  \n",
            "---  ------                                --------------   -----  \n",
            " 0   incident_number                       167980 non-null  object \n",
            " 1   offense_code                          167980 non-null  object \n",
            " 2   offense_code_group                    167980 non-null  object \n",
            " 3   offense_description                   167980 non-null  object \n",
            " 4   district                              167980 non-null  object \n",
            " 5   reporting_area                        167980 non-null  object \n",
            " 6   shooting                              167980 non-null  object \n",
            " 7   occurred_on_date                      167980 non-null  object \n",
            " 8   year                                  167980 non-null  int64  \n",
            " 9   month                                 167980 non-null  int64  \n",
            " 10  day_of_week                           167980 non-null  object \n",
            " 11  hour                                  167980 non-null  int64  \n",
            " 12  ucr_part                              167980 non-null  object \n",
            " 13  street                                167980 non-null  object \n",
            " 14  lat                                   167980 non-null  float64\n",
            " 15  long                                  167980 non-null  float64\n",
            " 16  neighborhood                          167980 non-null  object \n",
            " 17  population                            167980 non-null  int64  \n",
            " 18  count                                 167980 non-null  float64\n",
            " 19  Crime rate                            167980 non-null  float64\n",
            " 20  murder_and_nonnegligent_manslaughter  167980 non-null  float64\n",
            " 21  aggravated_assault                    167980 non-null  float64\n",
            " 22  robbery                               167980 non-null  float64\n",
            " 23  arson                                 167980 non-null  float64\n",
            " 24  auto_theft                            167980 non-null  float64\n",
            " 25  larceny                               167980 non-null  float64\n",
            " 26  burglary                              167980 non-null  float64\n",
            " 27  violent_crimes                        167980 non-null  float64\n",
            " 28  property_crimes                       167980 non-null  float64\n",
            " 29  murder_rate                           167980 non-null  float64\n",
            " 30  aggravated_assault_rate               167980 non-null  float64\n",
            " 31  robbery_rate                          167980 non-null  float64\n",
            " 32  arson_rate                            167980 non-null  float64\n",
            " 33  auto_theft_rate                       167980 non-null  float64\n",
            " 34  larceny_rate                          167980 non-null  float64\n",
            " 35  burglary_rate                         167980 non-null  float64\n",
            " 36  violent_crime_rate                    167980 non-null  float64\n",
            " 37  property_crime_rate                   167980 non-null  float64\n",
            " 38  median_age                            167980 non-null  float64\n",
            " 39  pct_0_9_years                         167980 non-null  float64\n",
            " 40  pct_10_17_years                       167980 non-null  float64\n",
            " 41  pct_18_19_years                       167980 non-null  float64\n",
            " 42  pct_20_34_years                       167980 non-null  float64\n",
            " 43  pct_35_39_years                       167980 non-null  float64\n",
            " 44  pct_60_plus_years                     167980 non-null  float64\n",
            " 45  per_capita_income                     167980 non-null  float64\n",
            " 46  median_household_income               167980 non-null  float64\n",
            " 47  median_family_income                  167980 non-null  int64  \n",
            " 48  total_labor_force_participation       167980 non-null  float64\n",
            " 49  labor_force_part_age_16_19            167980 non-null  float64\n",
            " 50  labor_force_part_age_20_34            167980 non-null  float64\n",
            " 51  labor_force_part_age_35_64            167980 non-null  float64\n",
            " 52  labor_force_part_age_65_plus          167980 non-null  float64\n",
            " 53  total_poverty_rate                    167980 non-null  float64\n",
            " 54  poverty_rate_age_0_4                  167980 non-null  float64\n",
            " 55  poverty_rate_age_5_17                 167980 non-null  float64\n",
            " 56  poverty_rate_age_18_24                167980 non-null  float64\n",
            " 57  poverty_rate_age_25_34                167980 non-null  float64\n",
            " 58  poverty_rate_age_35_64                167980 non-null  float64\n",
            " 59  poverty_rate_age_65_plus              167980 non-null  float64\n",
            " 60  pct_less_than_high_school             167980 non-null  float64\n",
            " 61  pct_high_school_graduate              167980 non-null  float64\n",
            " 62  pct_ged                               167980 non-null  float64\n",
            " 63  pct_some_college                      167980 non-null  float64\n",
            " 64  pct_associates_degree                 167980 non-null  float64\n",
            " 65  pct_bachelors_degree                  167980 non-null  float64\n",
            " 66  pct_masters_degree_and_higher         167980 non-null  float64\n",
            " 67  pct_enrolled_any_school               167980 non-null  float64\n",
            " 68  pct_enrolled_preschool                167980 non-null  float64\n",
            " 69  pct_enrolled_kindergarten_g8          167980 non-null  float64\n",
            " 70  pct_enrolled_g9_g12                   167980 non-null  float64\n",
            " 71  pct_enrolled_undergraduate            167980 non-null  float64\n",
            " 72  pct_enrolled_graduate                 167980 non-null  float64\n",
            " 73  pct_married_couple_family             167980 non-null  float64\n",
            " 74  pct_male_no_spouse                    167980 non-null  float64\n",
            " 75  pct_female_no_spouse                  167980 non-null  float64\n",
            " 76  pct_householder_alone                 167980 non-null  float64\n",
            " 77  pct_householder_not_alone             167980 non-null  float64\n",
            " 78  pct_total_units_occupied              167980 non-null  float64\n",
            " 79  pct_owner_occupied                    167980 non-null  float64\n",
            " 80  pct_renter_occupied                   167980 non-null  float64\n",
            " 81  pct_studio_1_bed                      167980 non-null  float64\n",
            " 82  pct_2_bed                             167980 non-null  float64\n",
            " 83  pct_3_bed                             167980 non-null  float64\n",
            " 84  pct_4_plus_bed                        167980 non-null  float64\n",
            " 85  pct_pop_in_group_quarters             167980 non-null  float64\n",
            " 86  pct_no_vehicle                        167980 non-null  float64\n",
            " 87  pct_1_vehicle                         167980 non-null  float64\n",
            " 88  pct_2_vehicles                        167980 non-null  float64\n",
            " 89  pct_3_plus_vehicles                   167980 non-null  float64\n",
            " 90  pct_not_moved                         167980 non-null  float64\n",
            " 91  pct_moved_within_county               167980 non-null  float64\n",
            " 92  pct_moved_from_diff_county            167980 non-null  float64\n",
            " 93  pct_moved_from_diff_state             167980 non-null  float64\n",
            " 94  pct_moved_from_abroad                 167980 non-null  float64\n",
            "dtypes: float64(78), int64(5), object(12)\n",
            "memory usage: 123.0+ MB\n"
          ],
          "name": "stdout"
        }
      ]
    },
    {
      "cell_type": "code",
      "metadata": {
        "colab": {
          "base_uri": "https://localhost:8080/"
        },
        "id": "-UMCNnMqEXEH",
        "outputId": "6b027205-7227-48de-cd4c-3e47bca80937"
      },
      "source": [
        "master_dataset = pd.merge(master_dataset, citizenship, how='left', on='neighborhood')\n",
        "master_dataset.info()"
      ],
      "execution_count": 102,
      "outputs": [
        {
          "output_type": "stream",
          "text": [
            "<class 'pandas.core.frame.DataFrame'>\n",
            "Int64Index: 167980 entries, 0 to 167979\n",
            "Data columns (total 98 columns):\n",
            " #   Column                                Non-Null Count   Dtype  \n",
            "---  ------                                --------------   -----  \n",
            " 0   incident_number                       167980 non-null  object \n",
            " 1   offense_code                          167980 non-null  object \n",
            " 2   offense_code_group                    167980 non-null  object \n",
            " 3   offense_description                   167980 non-null  object \n",
            " 4   district                              167980 non-null  object \n",
            " 5   reporting_area                        167980 non-null  object \n",
            " 6   shooting                              167980 non-null  object \n",
            " 7   occurred_on_date                      167980 non-null  object \n",
            " 8   year                                  167980 non-null  int64  \n",
            " 9   month                                 167980 non-null  int64  \n",
            " 10  day_of_week                           167980 non-null  object \n",
            " 11  hour                                  167980 non-null  int64  \n",
            " 12  ucr_part                              167980 non-null  object \n",
            " 13  street                                167980 non-null  object \n",
            " 14  lat                                   167980 non-null  float64\n",
            " 15  long                                  167980 non-null  float64\n",
            " 16  neighborhood                          167980 non-null  object \n",
            " 17  population                            167980 non-null  int64  \n",
            " 18  count                                 167980 non-null  float64\n",
            " 19  Crime rate                            167980 non-null  float64\n",
            " 20  murder_and_nonnegligent_manslaughter  167980 non-null  float64\n",
            " 21  aggravated_assault                    167980 non-null  float64\n",
            " 22  robbery                               167980 non-null  float64\n",
            " 23  arson                                 167980 non-null  float64\n",
            " 24  auto_theft                            167980 non-null  float64\n",
            " 25  larceny                               167980 non-null  float64\n",
            " 26  burglary                              167980 non-null  float64\n",
            " 27  violent_crimes                        167980 non-null  float64\n",
            " 28  property_crimes                       167980 non-null  float64\n",
            " 29  murder_rate                           167980 non-null  float64\n",
            " 30  aggravated_assault_rate               167980 non-null  float64\n",
            " 31  robbery_rate                          167980 non-null  float64\n",
            " 32  arson_rate                            167980 non-null  float64\n",
            " 33  auto_theft_rate                       167980 non-null  float64\n",
            " 34  larceny_rate                          167980 non-null  float64\n",
            " 35  burglary_rate                         167980 non-null  float64\n",
            " 36  violent_crime_rate                    167980 non-null  float64\n",
            " 37  property_crime_rate                   167980 non-null  float64\n",
            " 38  median_age                            167980 non-null  float64\n",
            " 39  pct_0_9_years                         167980 non-null  float64\n",
            " 40  pct_10_17_years                       167980 non-null  float64\n",
            " 41  pct_18_19_years                       167980 non-null  float64\n",
            " 42  pct_20_34_years                       167980 non-null  float64\n",
            " 43  pct_35_39_years                       167980 non-null  float64\n",
            " 44  pct_60_plus_years                     167980 non-null  float64\n",
            " 45  per_capita_income                     167980 non-null  float64\n",
            " 46  median_household_income               167980 non-null  float64\n",
            " 47  median_family_income                  167980 non-null  int64  \n",
            " 48  total_labor_force_participation       167980 non-null  float64\n",
            " 49  labor_force_part_age_16_19            167980 non-null  float64\n",
            " 50  labor_force_part_age_20_34            167980 non-null  float64\n",
            " 51  labor_force_part_age_35_64            167980 non-null  float64\n",
            " 52  labor_force_part_age_65_plus          167980 non-null  float64\n",
            " 53  total_poverty_rate                    167980 non-null  float64\n",
            " 54  poverty_rate_age_0_4                  167980 non-null  float64\n",
            " 55  poverty_rate_age_5_17                 167980 non-null  float64\n",
            " 56  poverty_rate_age_18_24                167980 non-null  float64\n",
            " 57  poverty_rate_age_25_34                167980 non-null  float64\n",
            " 58  poverty_rate_age_35_64                167980 non-null  float64\n",
            " 59  poverty_rate_age_65_plus              167980 non-null  float64\n",
            " 60  pct_less_than_high_school             167980 non-null  float64\n",
            " 61  pct_high_school_graduate              167980 non-null  float64\n",
            " 62  pct_ged                               167980 non-null  float64\n",
            " 63  pct_some_college                      167980 non-null  float64\n",
            " 64  pct_associates_degree                 167980 non-null  float64\n",
            " 65  pct_bachelors_degree                  167980 non-null  float64\n",
            " 66  pct_masters_degree_and_higher         167980 non-null  float64\n",
            " 67  pct_enrolled_any_school               167980 non-null  float64\n",
            " 68  pct_enrolled_preschool                167980 non-null  float64\n",
            " 69  pct_enrolled_kindergarten_g8          167980 non-null  float64\n",
            " 70  pct_enrolled_g9_g12                   167980 non-null  float64\n",
            " 71  pct_enrolled_undergraduate            167980 non-null  float64\n",
            " 72  pct_enrolled_graduate                 167980 non-null  float64\n",
            " 73  pct_married_couple_family             167980 non-null  float64\n",
            " 74  pct_male_no_spouse                    167980 non-null  float64\n",
            " 75  pct_female_no_spouse                  167980 non-null  float64\n",
            " 76  pct_householder_alone                 167980 non-null  float64\n",
            " 77  pct_householder_not_alone             167980 non-null  float64\n",
            " 78  pct_total_units_occupied              167980 non-null  float64\n",
            " 79  pct_owner_occupied                    167980 non-null  float64\n",
            " 80  pct_renter_occupied                   167980 non-null  float64\n",
            " 81  pct_studio_1_bed                      167980 non-null  float64\n",
            " 82  pct_2_bed                             167980 non-null  float64\n",
            " 83  pct_3_bed                             167980 non-null  float64\n",
            " 84  pct_4_plus_bed                        167980 non-null  float64\n",
            " 85  pct_pop_in_group_quarters             167980 non-null  float64\n",
            " 86  pct_no_vehicle                        167980 non-null  float64\n",
            " 87  pct_1_vehicle                         167980 non-null  float64\n",
            " 88  pct_2_vehicles                        167980 non-null  float64\n",
            " 89  pct_3_plus_vehicles                   167980 non-null  float64\n",
            " 90  pct_not_moved                         167980 non-null  float64\n",
            " 91  pct_moved_within_county               167980 non-null  float64\n",
            " 92  pct_moved_from_diff_county            167980 non-null  float64\n",
            " 93  pct_moved_from_diff_state             167980 non-null  float64\n",
            " 94  pct_moved_from_abroad                 167980 non-null  float64\n",
            " 95  pct_native_citizens                   167980 non-null  float64\n",
            " 96  pct_naturalized_citizens              167980 non-null  float64\n",
            " 97  pct_non_citizens                      167980 non-null  float64\n",
            "dtypes: float64(81), int64(5), object(12)\n",
            "memory usage: 126.9+ MB\n"
          ],
          "name": "stdout"
        }
      ]
    },
    {
      "cell_type": "code",
      "metadata": {
        "colab": {
          "base_uri": "https://localhost:8080/"
        },
        "id": "G-p7porpEZqk",
        "outputId": "0aefc061-28d6-454a-f880-761da7e0567e"
      },
      "source": [
        "master_dataset = pd.merge(master_dataset, vacancy, how='left', on='neighborhood')\n",
        "master_dataset.info()"
      ],
      "execution_count": 103,
      "outputs": [
        {
          "output_type": "stream",
          "text": [
            "<class 'pandas.core.frame.DataFrame'>\n",
            "Int64Index: 167980 entries, 0 to 167979\n",
            "Columns: 105 entries, incident_number to pct_vacant_other\n",
            "dtypes: float64(88), int64(5), object(12)\n",
            "memory usage: 135.8+ MB\n"
          ],
          "name": "stdout"
        }
      ]
    },
    {
      "cell_type": "code",
      "metadata": {
        "id": "1RMBSlsiEwzY"
      },
      "source": [
        "master_dataset.rename({'Crime rate': 'crime_rate',\n",
        "                       'murder_and_nonnegligent_manslaughter': 'murder'}, axis=1, inplace=True)"
      ],
      "execution_count": 104,
      "outputs": []
    },
    {
      "cell_type": "code",
      "metadata": {
        "id": "OfehflK7aGiK"
      },
      "source": [
        "master_dataset.drop(['incident_number', 'offense_code', 'offense_description', 'district', 'reporting_area', 'ucr_part', 'street', 'count', \n",
        "                     'crime_rate', 'murder_rate', 'aggravated_assault_rate', 'robbery_rate', 'arson_rate', 'auto_theft_rate', 'larceny_rate',\n",
        "                     'burglary_rate', 'violent_crime_rate', 'property_crime_rate'], axis=1, inplace=True)"
      ],
      "execution_count": 105,
      "outputs": []
    },
    {
      "cell_type": "code",
      "metadata": {
        "id": "HQiFelP0ghHY"
      },
      "source": [
        "master_dataset.shooting = master_dataset.shooting.replace('Y', 1).astype(int)"
      ],
      "execution_count": 106,
      "outputs": []
    },
    {
      "cell_type": "code",
      "metadata": {
        "id": "V8ddghidh9TL"
      },
      "source": [
        "master_dataset.occurred_on_date = pd.to_datetime(master_dataset.occurred_on_date)\n",
        "master_dataset.population = master_dataset.population.astype(float)\n",
        "master_dataset.median_family_income = master_dataset.median_family_income.astype(float)"
      ],
      "execution_count": 107,
      "outputs": []
    },
    {
      "cell_type": "code",
      "metadata": {
        "colab": {
          "base_uri": "https://localhost:8080/"
        },
        "id": "gOiuwgk1khTd",
        "outputId": "942a8837-1957-4d46-fd9e-9be6b8421fa1"
      },
      "source": [
        "master_dataset.info()"
      ],
      "execution_count": 108,
      "outputs": [
        {
          "output_type": "stream",
          "text": [
            "<class 'pandas.core.frame.DataFrame'>\n",
            "Int64Index: 167980 entries, 0 to 167979\n",
            "Data columns (total 87 columns):\n",
            " #   Column                           Non-Null Count   Dtype         \n",
            "---  ------                           --------------   -----         \n",
            " 0   offense_code_group               167980 non-null  object        \n",
            " 1   shooting                         167980 non-null  int64         \n",
            " 2   occurred_on_date                 167980 non-null  datetime64[ns]\n",
            " 3   year                             167980 non-null  int64         \n",
            " 4   month                            167980 non-null  int64         \n",
            " 5   day_of_week                      167980 non-null  object        \n",
            " 6   hour                             167980 non-null  int64         \n",
            " 7   lat                              167980 non-null  float64       \n",
            " 8   long                             167980 non-null  float64       \n",
            " 9   neighborhood                     167980 non-null  object        \n",
            " 10  population                       167980 non-null  float64       \n",
            " 11  murder                           167980 non-null  float64       \n",
            " 12  aggravated_assault               167980 non-null  float64       \n",
            " 13  robbery                          167980 non-null  float64       \n",
            " 14  arson                            167980 non-null  float64       \n",
            " 15  auto_theft                       167980 non-null  float64       \n",
            " 16  larceny                          167980 non-null  float64       \n",
            " 17  burglary                         167980 non-null  float64       \n",
            " 18  violent_crimes                   167980 non-null  float64       \n",
            " 19  property_crimes                  167980 non-null  float64       \n",
            " 20  median_age                       167980 non-null  float64       \n",
            " 21  pct_0_9_years                    167980 non-null  float64       \n",
            " 22  pct_10_17_years                  167980 non-null  float64       \n",
            " 23  pct_18_19_years                  167980 non-null  float64       \n",
            " 24  pct_20_34_years                  167980 non-null  float64       \n",
            " 25  pct_35_39_years                  167980 non-null  float64       \n",
            " 26  pct_60_plus_years                167980 non-null  float64       \n",
            " 27  per_capita_income                167980 non-null  float64       \n",
            " 28  median_household_income          167980 non-null  float64       \n",
            " 29  median_family_income             167980 non-null  float64       \n",
            " 30  total_labor_force_participation  167980 non-null  float64       \n",
            " 31  labor_force_part_age_16_19       167980 non-null  float64       \n",
            " 32  labor_force_part_age_20_34       167980 non-null  float64       \n",
            " 33  labor_force_part_age_35_64       167980 non-null  float64       \n",
            " 34  labor_force_part_age_65_plus     167980 non-null  float64       \n",
            " 35  total_poverty_rate               167980 non-null  float64       \n",
            " 36  poverty_rate_age_0_4             167980 non-null  float64       \n",
            " 37  poverty_rate_age_5_17            167980 non-null  float64       \n",
            " 38  poverty_rate_age_18_24           167980 non-null  float64       \n",
            " 39  poverty_rate_age_25_34           167980 non-null  float64       \n",
            " 40  poverty_rate_age_35_64           167980 non-null  float64       \n",
            " 41  poverty_rate_age_65_plus         167980 non-null  float64       \n",
            " 42  pct_less_than_high_school        167980 non-null  float64       \n",
            " 43  pct_high_school_graduate         167980 non-null  float64       \n",
            " 44  pct_ged                          167980 non-null  float64       \n",
            " 45  pct_some_college                 167980 non-null  float64       \n",
            " 46  pct_associates_degree            167980 non-null  float64       \n",
            " 47  pct_bachelors_degree             167980 non-null  float64       \n",
            " 48  pct_masters_degree_and_higher    167980 non-null  float64       \n",
            " 49  pct_enrolled_any_school          167980 non-null  float64       \n",
            " 50  pct_enrolled_preschool           167980 non-null  float64       \n",
            " 51  pct_enrolled_kindergarten_g8     167980 non-null  float64       \n",
            " 52  pct_enrolled_g9_g12              167980 non-null  float64       \n",
            " 53  pct_enrolled_undergraduate       167980 non-null  float64       \n",
            " 54  pct_enrolled_graduate            167980 non-null  float64       \n",
            " 55  pct_married_couple_family        167980 non-null  float64       \n",
            " 56  pct_male_no_spouse               167980 non-null  float64       \n",
            " 57  pct_female_no_spouse             167980 non-null  float64       \n",
            " 58  pct_householder_alone            167980 non-null  float64       \n",
            " 59  pct_householder_not_alone        167980 non-null  float64       \n",
            " 60  pct_total_units_occupied         167980 non-null  float64       \n",
            " 61  pct_owner_occupied               167980 non-null  float64       \n",
            " 62  pct_renter_occupied              167980 non-null  float64       \n",
            " 63  pct_studio_1_bed                 167980 non-null  float64       \n",
            " 64  pct_2_bed                        167980 non-null  float64       \n",
            " 65  pct_3_bed                        167980 non-null  float64       \n",
            " 66  pct_4_plus_bed                   167980 non-null  float64       \n",
            " 67  pct_pop_in_group_quarters        167980 non-null  float64       \n",
            " 68  pct_no_vehicle                   167980 non-null  float64       \n",
            " 69  pct_1_vehicle                    167980 non-null  float64       \n",
            " 70  pct_2_vehicles                   167980 non-null  float64       \n",
            " 71  pct_3_plus_vehicles              167980 non-null  float64       \n",
            " 72  pct_not_moved                    167980 non-null  float64       \n",
            " 73  pct_moved_within_county          167980 non-null  float64       \n",
            " 74  pct_moved_from_diff_county       167980 non-null  float64       \n",
            " 75  pct_moved_from_diff_state        167980 non-null  float64       \n",
            " 76  pct_moved_from_abroad            167980 non-null  float64       \n",
            " 77  pct_native_citizens              167980 non-null  float64       \n",
            " 78  pct_naturalized_citizens         167980 non-null  float64       \n",
            " 79  pct_non_citizens                 167980 non-null  float64       \n",
            " 80  pct_vacant_units                 167980 non-null  float64       \n",
            " 81  pct_vacant_for_rent              167980 non-null  float64       \n",
            " 82  pct_vacant_rented_unoccupied     167980 non-null  float64       \n",
            " 83  pct_vacant_for_sale              167980 non-null  float64       \n",
            " 84  pct_vacant_sold_unoccupied       167980 non-null  float64       \n",
            " 85  pct_vacant_seasonal              167980 non-null  float64       \n",
            " 86  pct_vacant_other                 167980 non-null  float64       \n",
            "dtypes: datetime64[ns](1), float64(79), int64(4), object(3)\n",
            "memory usage: 112.8+ MB\n"
          ],
          "name": "stdout"
        }
      ]
    },
    {
      "cell_type": "code",
      "metadata": {
        "id": "BHDOtRZsk-im"
      },
      "source": [
        "master_dataset['total_crimes'] = (master_dataset.murder + master_dataset.aggravated_assault + master_dataset.robbery + master_dataset.arson + master_dataset.auto_theft +\n",
        "                                  master_dataset.larceny + master_dataset.burglary + master_dataset.violent_crimes + master_dataset.property_crimes)\n",
        "master_dataset['crime_per_capita'] = master_dataset.total_crimes / master_dataset.population\n",
        "master_dataset['murder_per_capita'] = master_dataset.murder / master_dataset.population\n",
        "master_dataset['aggravated_assault_per_capita'] = master_dataset.aggravated_assault / master_dataset.population\n",
        "master_dataset['robbery_per_capita'] = master_dataset.robbery / master_dataset.population\n",
        "master_dataset['arson_per_capita'] = master_dataset.arson / master_dataset.population\n",
        "master_dataset['auto_theft_per_capita'] = master_dataset.auto_theft / master_dataset.population\n",
        "master_dataset['larceny_per_capita'] = master_dataset.larceny / master_dataset.population\n",
        "master_dataset['burglary_per_capita'] = master_dataset.burglary / master_dataset.population\n",
        "master_dataset['violent_crimes_per_capita'] = master_dataset.violent_crimes / master_dataset.population\n",
        "master_dataset['property_crimes_per_capita'] = master_dataset.property_crimes / master_dataset.population"
      ],
      "execution_count": 109,
      "outputs": []
    },
    {
      "cell_type": "code",
      "metadata": {
        "id": "uCHupHgCpILg"
      },
      "source": [
        "master_dataset.drop(['total_crimes', 'murder', 'aggravated_assault', 'robbery', 'arson', 'auto_theft', 'larceny', 'burglary', 'violent_crimes', 'property_crimes'], axis=1, inplace=True)"
      ],
      "execution_count": 110,
      "outputs": []
    },
    {
      "cell_type": "code",
      "metadata": {
        "colab": {
          "base_uri": "https://localhost:8080/"
        },
        "id": "7Y7iPE09pwfu",
        "outputId": "ea4cdffd-b727-4176-c6a8-f91e1121d946"
      },
      "source": [
        "master_dataset.info()"
      ],
      "execution_count": 111,
      "outputs": [
        {
          "output_type": "stream",
          "text": [
            "<class 'pandas.core.frame.DataFrame'>\n",
            "Int64Index: 167980 entries, 0 to 167979\n",
            "Data columns (total 88 columns):\n",
            " #   Column                           Non-Null Count   Dtype         \n",
            "---  ------                           --------------   -----         \n",
            " 0   offense_code_group               167980 non-null  object        \n",
            " 1   shooting                         167980 non-null  int64         \n",
            " 2   occurred_on_date                 167980 non-null  datetime64[ns]\n",
            " 3   year                             167980 non-null  int64         \n",
            " 4   month                            167980 non-null  int64         \n",
            " 5   day_of_week                      167980 non-null  object        \n",
            " 6   hour                             167980 non-null  int64         \n",
            " 7   lat                              167980 non-null  float64       \n",
            " 8   long                             167980 non-null  float64       \n",
            " 9   neighborhood                     167980 non-null  object        \n",
            " 10  population                       167980 non-null  float64       \n",
            " 11  median_age                       167980 non-null  float64       \n",
            " 12  pct_0_9_years                    167980 non-null  float64       \n",
            " 13  pct_10_17_years                  167980 non-null  float64       \n",
            " 14  pct_18_19_years                  167980 non-null  float64       \n",
            " 15  pct_20_34_years                  167980 non-null  float64       \n",
            " 16  pct_35_39_years                  167980 non-null  float64       \n",
            " 17  pct_60_plus_years                167980 non-null  float64       \n",
            " 18  per_capita_income                167980 non-null  float64       \n",
            " 19  median_household_income          167980 non-null  float64       \n",
            " 20  median_family_income             167980 non-null  float64       \n",
            " 21  total_labor_force_participation  167980 non-null  float64       \n",
            " 22  labor_force_part_age_16_19       167980 non-null  float64       \n",
            " 23  labor_force_part_age_20_34       167980 non-null  float64       \n",
            " 24  labor_force_part_age_35_64       167980 non-null  float64       \n",
            " 25  labor_force_part_age_65_plus     167980 non-null  float64       \n",
            " 26  total_poverty_rate               167980 non-null  float64       \n",
            " 27  poverty_rate_age_0_4             167980 non-null  float64       \n",
            " 28  poverty_rate_age_5_17            167980 non-null  float64       \n",
            " 29  poverty_rate_age_18_24           167980 non-null  float64       \n",
            " 30  poverty_rate_age_25_34           167980 non-null  float64       \n",
            " 31  poverty_rate_age_35_64           167980 non-null  float64       \n",
            " 32  poverty_rate_age_65_plus         167980 non-null  float64       \n",
            " 33  pct_less_than_high_school        167980 non-null  float64       \n",
            " 34  pct_high_school_graduate         167980 non-null  float64       \n",
            " 35  pct_ged                          167980 non-null  float64       \n",
            " 36  pct_some_college                 167980 non-null  float64       \n",
            " 37  pct_associates_degree            167980 non-null  float64       \n",
            " 38  pct_bachelors_degree             167980 non-null  float64       \n",
            " 39  pct_masters_degree_and_higher    167980 non-null  float64       \n",
            " 40  pct_enrolled_any_school          167980 non-null  float64       \n",
            " 41  pct_enrolled_preschool           167980 non-null  float64       \n",
            " 42  pct_enrolled_kindergarten_g8     167980 non-null  float64       \n",
            " 43  pct_enrolled_g9_g12              167980 non-null  float64       \n",
            " 44  pct_enrolled_undergraduate       167980 non-null  float64       \n",
            " 45  pct_enrolled_graduate            167980 non-null  float64       \n",
            " 46  pct_married_couple_family        167980 non-null  float64       \n",
            " 47  pct_male_no_spouse               167980 non-null  float64       \n",
            " 48  pct_female_no_spouse             167980 non-null  float64       \n",
            " 49  pct_householder_alone            167980 non-null  float64       \n",
            " 50  pct_householder_not_alone        167980 non-null  float64       \n",
            " 51  pct_total_units_occupied         167980 non-null  float64       \n",
            " 52  pct_owner_occupied               167980 non-null  float64       \n",
            " 53  pct_renter_occupied              167980 non-null  float64       \n",
            " 54  pct_studio_1_bed                 167980 non-null  float64       \n",
            " 55  pct_2_bed                        167980 non-null  float64       \n",
            " 56  pct_3_bed                        167980 non-null  float64       \n",
            " 57  pct_4_plus_bed                   167980 non-null  float64       \n",
            " 58  pct_pop_in_group_quarters        167980 non-null  float64       \n",
            " 59  pct_no_vehicle                   167980 non-null  float64       \n",
            " 60  pct_1_vehicle                    167980 non-null  float64       \n",
            " 61  pct_2_vehicles                   167980 non-null  float64       \n",
            " 62  pct_3_plus_vehicles              167980 non-null  float64       \n",
            " 63  pct_not_moved                    167980 non-null  float64       \n",
            " 64  pct_moved_within_county          167980 non-null  float64       \n",
            " 65  pct_moved_from_diff_county       167980 non-null  float64       \n",
            " 66  pct_moved_from_diff_state        167980 non-null  float64       \n",
            " 67  pct_moved_from_abroad            167980 non-null  float64       \n",
            " 68  pct_native_citizens              167980 non-null  float64       \n",
            " 69  pct_naturalized_citizens         167980 non-null  float64       \n",
            " 70  pct_non_citizens                 167980 non-null  float64       \n",
            " 71  pct_vacant_units                 167980 non-null  float64       \n",
            " 72  pct_vacant_for_rent              167980 non-null  float64       \n",
            " 73  pct_vacant_rented_unoccupied     167980 non-null  float64       \n",
            " 74  pct_vacant_for_sale              167980 non-null  float64       \n",
            " 75  pct_vacant_sold_unoccupied       167980 non-null  float64       \n",
            " 76  pct_vacant_seasonal              167980 non-null  float64       \n",
            " 77  pct_vacant_other                 167980 non-null  float64       \n",
            " 78  crime_per_capita                 167980 non-null  float64       \n",
            " 79  murder_per_capita                167980 non-null  float64       \n",
            " 80  aggravated_assault_per_capita    167980 non-null  float64       \n",
            " 81  robbery_per_capita               167980 non-null  float64       \n",
            " 82  arson_per_capita                 167980 non-null  float64       \n",
            " 83  auto_theft_per_capita            167980 non-null  float64       \n",
            " 84  larceny_per_capita               167980 non-null  float64       \n",
            " 85  burglary_per_capita              167980 non-null  float64       \n",
            " 86  violent_crimes_per_capita        167980 non-null  float64       \n",
            " 87  property_crimes_per_capita       167980 non-null  float64       \n",
            "dtypes: datetime64[ns](1), float64(80), int64(4), object(3)\n",
            "memory usage: 114.1+ MB\n"
          ],
          "name": "stdout"
        }
      ]
    },
    {
      "cell_type": "code",
      "metadata": {
        "colab": {
          "base_uri": "https://localhost:8080/"
        },
        "id": "198l31fGs9Vi",
        "outputId": "6e58e2bd-bdfc-4edc-ee31-eb0004a0c020"
      },
      "source": [
        "for i in master_dataset.offense_code_group.unique():\n",
        "  print(i)"
      ],
      "execution_count": 113,
      "outputs": [
        {
          "output_type": "stream",
          "text": [
            "Vandalism\n",
            "Residential Burglary\n",
            "Larceny\n",
            "Harassment\n",
            "Violations\n",
            "Fraud\n",
            "Drug Violation\n",
            "Aggravated Assault\n",
            "Other\n",
            "Larceny From Motor Vehicle\n",
            "Commercial Burglary\n",
            "Simple Assault\n",
            "Disorderly Conduct\n",
            "Restraining Order Violations\n",
            "Evading Fare\n",
            "Recovered Stolen Property\n",
            "Counterfeiting\n",
            "Auto Theft\n",
            "Robbery\n",
            "Fire Related Reports\n",
            "Liquor Violation\n",
            "Confidence Games\n",
            "Other Burglary\n",
            "Firearm Violations\n",
            "Ballistics\n",
            "Offenses Against Child / Family\n",
            "Homicide\n",
            "Arson\n",
            "Prisoner Related Incidents\n",
            "Auto Theft Recovery\n",
            "Operating Under the Influence\n",
            "Prostitution\n",
            "Bomb Hoax\n",
            "Embezzlement\n",
            "Phone Call Complaints\n",
            "Criminal Harassment\n",
            "License Plate Related Incidents\n",
            "Missing Person Reported\n",
            "Explosives\n",
            "Gambling\n",
            "Manslaughter\n",
            "Biological Threat\n",
            "Burglary - No Property Taken\n"
          ],
          "name": "stdout"
        }
      ]
    },
    {
      "cell_type": "code",
      "metadata": {
        "colab": {
          "base_uri": "https://localhost:8080/"
        },
        "id": "YpnEAp2vto3w",
        "outputId": "3c8157b9-6d55-443a-bf74-bc8739c5b68a"
      },
      "source": [
        "for i in master_dataset.neighborhood.unique():\n",
        "  print(i)"
      ],
      "execution_count": 114,
      "outputs": [
        {
          "output_type": "stream",
          "text": [
            "Dorchester\n",
            "Allston\n",
            "Roxbury\n",
            "East Boston\n",
            "Roslindale\n",
            "Mattapan\n",
            "Back Bay\n",
            "Hyde Park\n",
            "Jamaica Plain\n",
            "Downtown\n",
            "South Boston\n",
            "Longwood\n",
            "Brighton\n",
            "Charlestown\n",
            "South Boston Waterfront\n",
            "South End\n",
            "West Roxbury\n",
            "Mission Hill\n",
            "Fenway\n",
            "West End\n",
            "North End\n",
            "Beacon Hill\n"
          ],
          "name": "stdout"
        }
      ]
    },
    {
      "cell_type": "code",
      "metadata": {
        "colab": {
          "base_uri": "https://localhost:8080/",
          "height": 204
        },
        "id": "kOmbgVRcsITp",
        "outputId": "da0119e1-8fb1-40e3-c1c8-900b52bdbbbd"
      },
      "source": [
        "variables_to_normalize = master_dataset[['lat', 'long', 'population', 'median_age', 'per_capita_income', 'median_household_income', 'median_family_income']]\n",
        "\n",
        "from sklearn.preprocessing import normalize\n",
        "\n",
        "variables_normalized = normalize(variables_to_normalize)\n",
        "variables_normalized = pd.DataFrame(variables_normalized, columns=variables_to_normalize.columns)\n",
        "variables_normalized.head()"
      ],
      "execution_count": 115,
      "outputs": [
        {
          "output_type": "execute_result",
          "data": {
            "text/html": [
              "<div>\n",
              "<style scoped>\n",
              "    .dataframe tbody tr th:only-of-type {\n",
              "        vertical-align: middle;\n",
              "    }\n",
              "\n",
              "    .dataframe tbody tr th {\n",
              "        vertical-align: top;\n",
              "    }\n",
              "\n",
              "    .dataframe thead th {\n",
              "        text-align: right;\n",
              "    }\n",
              "</style>\n",
              "<table border=\"1\" class=\"dataframe\">\n",
              "  <thead>\n",
              "    <tr style=\"text-align: right;\">\n",
              "      <th></th>\n",
              "      <th>lat</th>\n",
              "      <th>long</th>\n",
              "      <th>population</th>\n",
              "      <th>median_age</th>\n",
              "      <th>per_capita_income</th>\n",
              "      <th>median_household_income</th>\n",
              "      <th>median_family_income</th>\n",
              "    </tr>\n",
              "  </thead>\n",
              "  <tbody>\n",
              "    <tr>\n",
              "      <th>0</th>\n",
              "      <td>0.000295</td>\n",
              "      <td>-0.000496</td>\n",
              "      <td>0.796768</td>\n",
              "      <td>0.000233</td>\n",
              "      <td>0.207595</td>\n",
              "      <td>0.383631</td>\n",
              "      <td>0.418200</td>\n",
              "    </tr>\n",
              "    <tr>\n",
              "      <th>1</th>\n",
              "      <td>0.000413</td>\n",
              "      <td>-0.000694</td>\n",
              "      <td>0.217570</td>\n",
              "      <td>0.000268</td>\n",
              "      <td>0.332993</td>\n",
              "      <td>0.566949</td>\n",
              "      <td>0.721351</td>\n",
              "    </tr>\n",
              "    <tr>\n",
              "      <th>2</th>\n",
              "      <td>0.000295</td>\n",
              "      <td>-0.000496</td>\n",
              "      <td>0.796768</td>\n",
              "      <td>0.000233</td>\n",
              "      <td>0.207595</td>\n",
              "      <td>0.383631</td>\n",
              "      <td>0.418200</td>\n",
              "    </tr>\n",
              "    <tr>\n",
              "      <th>3</th>\n",
              "      <td>0.000576</td>\n",
              "      <td>-0.000967</td>\n",
              "      <td>0.668260</td>\n",
              "      <td>0.000442</td>\n",
              "      <td>0.285446</td>\n",
              "      <td>0.415484</td>\n",
              "      <td>0.547102</td>\n",
              "    </tr>\n",
              "    <tr>\n",
              "      <th>4</th>\n",
              "      <td>0.000576</td>\n",
              "      <td>-0.000967</td>\n",
              "      <td>0.668260</td>\n",
              "      <td>0.000442</td>\n",
              "      <td>0.285446</td>\n",
              "      <td>0.415484</td>\n",
              "      <td>0.547102</td>\n",
              "    </tr>\n",
              "  </tbody>\n",
              "</table>\n",
              "</div>"
            ],
            "text/plain": [
              "        lat      long  ...  median_household_income  median_family_income\n",
              "0  0.000295 -0.000496  ...                 0.383631              0.418200\n",
              "1  0.000413 -0.000694  ...                 0.566949              0.721351\n",
              "2  0.000295 -0.000496  ...                 0.383631              0.418200\n",
              "3  0.000576 -0.000967  ...                 0.415484              0.547102\n",
              "4  0.000576 -0.000967  ...                 0.415484              0.547102\n",
              "\n",
              "[5 rows x 7 columns]"
            ]
          },
          "metadata": {
            "tags": []
          },
          "execution_count": 115
        }
      ]
    },
    {
      "cell_type": "code",
      "metadata": {
        "colab": {
          "base_uri": "https://localhost:8080/",
          "height": 253
        },
        "id": "K25HPjba1Rq7",
        "outputId": "d9b67c04-3fe6-4473-9e1a-64cc4e024a47"
      },
      "source": [
        "master_dataset[['lat', 'long', 'population', 'median_age', 'per_capita_income', 'median_household_income', 'median_family_income']] = variables_normalized[['lat', 'long', 'population', 'median_age', 'per_capita_income', 'median_household_income', 'median_family_income']]\n",
        "master_dataset.head()"
      ],
      "execution_count": 117,
      "outputs": [
        {
          "output_type": "execute_result",
          "data": {
            "text/html": [
              "<div>\n",
              "<style scoped>\n",
              "    .dataframe tbody tr th:only-of-type {\n",
              "        vertical-align: middle;\n",
              "    }\n",
              "\n",
              "    .dataframe tbody tr th {\n",
              "        vertical-align: top;\n",
              "    }\n",
              "\n",
              "    .dataframe thead th {\n",
              "        text-align: right;\n",
              "    }\n",
              "</style>\n",
              "<table border=\"1\" class=\"dataframe\">\n",
              "  <thead>\n",
              "    <tr style=\"text-align: right;\">\n",
              "      <th></th>\n",
              "      <th>offense_code_group</th>\n",
              "      <th>shooting</th>\n",
              "      <th>occurred_on_date</th>\n",
              "      <th>year</th>\n",
              "      <th>month</th>\n",
              "      <th>day_of_week</th>\n",
              "      <th>hour</th>\n",
              "      <th>lat</th>\n",
              "      <th>long</th>\n",
              "      <th>neighborhood</th>\n",
              "      <th>population</th>\n",
              "      <th>median_age</th>\n",
              "      <th>pct_0_9_years</th>\n",
              "      <th>pct_10_17_years</th>\n",
              "      <th>pct_18_19_years</th>\n",
              "      <th>pct_20_34_years</th>\n",
              "      <th>pct_35_39_years</th>\n",
              "      <th>pct_60_plus_years</th>\n",
              "      <th>per_capita_income</th>\n",
              "      <th>median_household_income</th>\n",
              "      <th>median_family_income</th>\n",
              "      <th>total_labor_force_participation</th>\n",
              "      <th>labor_force_part_age_16_19</th>\n",
              "      <th>labor_force_part_age_20_34</th>\n",
              "      <th>labor_force_part_age_35_64</th>\n",
              "      <th>labor_force_part_age_65_plus</th>\n",
              "      <th>total_poverty_rate</th>\n",
              "      <th>poverty_rate_age_0_4</th>\n",
              "      <th>poverty_rate_age_5_17</th>\n",
              "      <th>poverty_rate_age_18_24</th>\n",
              "      <th>poverty_rate_age_25_34</th>\n",
              "      <th>poverty_rate_age_35_64</th>\n",
              "      <th>poverty_rate_age_65_plus</th>\n",
              "      <th>pct_less_than_high_school</th>\n",
              "      <th>pct_high_school_graduate</th>\n",
              "      <th>pct_ged</th>\n",
              "      <th>pct_some_college</th>\n",
              "      <th>pct_associates_degree</th>\n",
              "      <th>pct_bachelors_degree</th>\n",
              "      <th>pct_masters_degree_and_higher</th>\n",
              "      <th>...</th>\n",
              "      <th>pct_female_no_spouse</th>\n",
              "      <th>pct_householder_alone</th>\n",
              "      <th>pct_householder_not_alone</th>\n",
              "      <th>pct_total_units_occupied</th>\n",
              "      <th>pct_owner_occupied</th>\n",
              "      <th>pct_renter_occupied</th>\n",
              "      <th>pct_studio_1_bed</th>\n",
              "      <th>pct_2_bed</th>\n",
              "      <th>pct_3_bed</th>\n",
              "      <th>pct_4_plus_bed</th>\n",
              "      <th>pct_pop_in_group_quarters</th>\n",
              "      <th>pct_no_vehicle</th>\n",
              "      <th>pct_1_vehicle</th>\n",
              "      <th>pct_2_vehicles</th>\n",
              "      <th>pct_3_plus_vehicles</th>\n",
              "      <th>pct_not_moved</th>\n",
              "      <th>pct_moved_within_county</th>\n",
              "      <th>pct_moved_from_diff_county</th>\n",
              "      <th>pct_moved_from_diff_state</th>\n",
              "      <th>pct_moved_from_abroad</th>\n",
              "      <th>pct_native_citizens</th>\n",
              "      <th>pct_naturalized_citizens</th>\n",
              "      <th>pct_non_citizens</th>\n",
              "      <th>pct_vacant_units</th>\n",
              "      <th>pct_vacant_for_rent</th>\n",
              "      <th>pct_vacant_rented_unoccupied</th>\n",
              "      <th>pct_vacant_for_sale</th>\n",
              "      <th>pct_vacant_sold_unoccupied</th>\n",
              "      <th>pct_vacant_seasonal</th>\n",
              "      <th>pct_vacant_other</th>\n",
              "      <th>crime_per_capita</th>\n",
              "      <th>murder_per_capita</th>\n",
              "      <th>aggravated_assault_per_capita</th>\n",
              "      <th>robbery_per_capita</th>\n",
              "      <th>arson_per_capita</th>\n",
              "      <th>auto_theft_per_capita</th>\n",
              "      <th>larceny_per_capita</th>\n",
              "      <th>burglary_per_capita</th>\n",
              "      <th>violent_crimes_per_capita</th>\n",
              "      <th>property_crimes_per_capita</th>\n",
              "    </tr>\n",
              "  </thead>\n",
              "  <tbody>\n",
              "    <tr>\n",
              "      <th>0</th>\n",
              "      <td>Vandalism</td>\n",
              "      <td>0</td>\n",
              "      <td>2019-01-25</td>\n",
              "      <td>2019</td>\n",
              "      <td>1</td>\n",
              "      <td>Friday</td>\n",
              "      <td>22</td>\n",
              "      <td>0.000295</td>\n",
              "      <td>-0.000496</td>\n",
              "      <td>Dorchester</td>\n",
              "      <td>0.796768</td>\n",
              "      <td>0.000233</td>\n",
              "      <td>0.119014</td>\n",
              "      <td>0.102577</td>\n",
              "      <td>0.027405</td>\n",
              "      <td>0.281863</td>\n",
              "      <td>0.306440</td>\n",
              "      <td>0.162699</td>\n",
              "      <td>0.207595</td>\n",
              "      <td>0.383631</td>\n",
              "      <td>0.418200</td>\n",
              "      <td>0.690253</td>\n",
              "      <td>0.396351</td>\n",
              "      <td>0.840849</td>\n",
              "      <td>0.782643</td>\n",
              "      <td>0.187358</td>\n",
              "      <td>0.222179</td>\n",
              "      <td>0.327769</td>\n",
              "      <td>0.353337</td>\n",
              "      <td>0.285714</td>\n",
              "      <td>0.155982</td>\n",
              "      <td>0.175968</td>\n",
              "      <td>0.193433</td>\n",
              "      <td>0.179614</td>\n",
              "      <td>0.257139</td>\n",
              "      <td>0.041622</td>\n",
              "      <td>0.171092</td>\n",
              "      <td>0.057445</td>\n",
              "      <td>0.187125</td>\n",
              "      <td>0.105962</td>\n",
              "      <td>...</td>\n",
              "      <td>0.270107</td>\n",
              "      <td>0.290219</td>\n",
              "      <td>0.106792</td>\n",
              "      <td>0.906544</td>\n",
              "      <td>0.361279</td>\n",
              "      <td>0.638721</td>\n",
              "      <td>0.146210</td>\n",
              "      <td>0.337174</td>\n",
              "      <td>0.348285</td>\n",
              "      <td>0.168331</td>\n",
              "      <td>0.011165</td>\n",
              "      <td>0.296743</td>\n",
              "      <td>0.421277</td>\n",
              "      <td>0.216316</td>\n",
              "      <td>0.065664</td>\n",
              "      <td>0.858707</td>\n",
              "      <td>0.089072</td>\n",
              "      <td>0.027718</td>\n",
              "      <td>0.013259</td>\n",
              "      <td>0.011244</td>\n",
              "      <td>0.665989</td>\n",
              "      <td>0.191720</td>\n",
              "      <td>0.142291</td>\n",
              "      <td>0.093456</td>\n",
              "      <td>0.162032</td>\n",
              "      <td>0.119334</td>\n",
              "      <td>0.038099</td>\n",
              "      <td>0.466608</td>\n",
              "      <td>0.034158</td>\n",
              "      <td>0.179768</td>\n",
              "      <td>0.239302</td>\n",
              "      <td>0.000797</td>\n",
              "      <td>0.020989</td>\n",
              "      <td>0.011046</td>\n",
              "      <td>0.000219</td>\n",
              "      <td>0.012473</td>\n",
              "      <td>0.057637</td>\n",
              "      <td>0.016490</td>\n",
              "      <td>0.032832</td>\n",
              "      <td>0.086819</td>\n",
              "    </tr>\n",
              "    <tr>\n",
              "      <th>1</th>\n",
              "      <td>Residential Burglary</td>\n",
              "      <td>0</td>\n",
              "      <td>2019-01-25</td>\n",
              "      <td>2019</td>\n",
              "      <td>1</td>\n",
              "      <td>Friday</td>\n",
              "      <td>12</td>\n",
              "      <td>0.000413</td>\n",
              "      <td>-0.000694</td>\n",
              "      <td>Allston</td>\n",
              "      <td>0.217570</td>\n",
              "      <td>0.000268</td>\n",
              "      <td>0.021235</td>\n",
              "      <td>0.017185</td>\n",
              "      <td>0.122475</td>\n",
              "      <td>0.677327</td>\n",
              "      <td>0.119776</td>\n",
              "      <td>0.042002</td>\n",
              "      <td>0.332993</td>\n",
              "      <td>0.566949</td>\n",
              "      <td>0.721351</td>\n",
              "      <td>0.610700</td>\n",
              "      <td>0.453921</td>\n",
              "      <td>0.617661</td>\n",
              "      <td>0.797246</td>\n",
              "      <td>0.231076</td>\n",
              "      <td>0.279264</td>\n",
              "      <td>0.576642</td>\n",
              "      <td>0.024306</td>\n",
              "      <td>0.572377</td>\n",
              "      <td>0.209288</td>\n",
              "      <td>0.067823</td>\n",
              "      <td>0.266932</td>\n",
              "      <td>0.054735</td>\n",
              "      <td>0.067197</td>\n",
              "      <td>0.006902</td>\n",
              "      <td>0.084931</td>\n",
              "      <td>0.034317</td>\n",
              "      <td>0.415836</td>\n",
              "      <td>0.336081</td>\n",
              "      <td>...</td>\n",
              "      <td>0.050107</td>\n",
              "      <td>0.372510</td>\n",
              "      <td>0.382777</td>\n",
              "      <td>0.925411</td>\n",
              "      <td>0.121974</td>\n",
              "      <td>0.878026</td>\n",
              "      <td>0.449376</td>\n",
              "      <td>0.311543</td>\n",
              "      <td>0.164492</td>\n",
              "      <td>0.074589</td>\n",
              "      <td>0.277244</td>\n",
              "      <td>0.509807</td>\n",
              "      <td>0.318878</td>\n",
              "      <td>0.130861</td>\n",
              "      <td>0.040454</td>\n",
              "      <td>0.612006</td>\n",
              "      <td>0.108524</td>\n",
              "      <td>0.065229</td>\n",
              "      <td>0.138410</td>\n",
              "      <td>0.075832</td>\n",
              "      <td>0.637454</td>\n",
              "      <td>0.097243</td>\n",
              "      <td>0.265303</td>\n",
              "      <td>0.074589</td>\n",
              "      <td>0.427757</td>\n",
              "      <td>0.338403</td>\n",
              "      <td>0.000000</td>\n",
              "      <td>0.038023</td>\n",
              "      <td>0.076046</td>\n",
              "      <td>0.119772</td>\n",
              "      <td>0.191825</td>\n",
              "      <td>0.000000</td>\n",
              "      <td>0.008471</td>\n",
              "      <td>0.004661</td>\n",
              "      <td>0.000179</td>\n",
              "      <td>0.006499</td>\n",
              "      <td>0.055441</td>\n",
              "      <td>0.020662</td>\n",
              "      <td>0.013132</td>\n",
              "      <td>0.082781</td>\n",
              "    </tr>\n",
              "    <tr>\n",
              "      <th>2</th>\n",
              "      <td>Larceny</td>\n",
              "      <td>0</td>\n",
              "      <td>2019-01-09</td>\n",
              "      <td>2019</td>\n",
              "      <td>1</td>\n",
              "      <td>Wednesday</td>\n",
              "      <td>11</td>\n",
              "      <td>0.000295</td>\n",
              "      <td>-0.000496</td>\n",
              "      <td>Dorchester</td>\n",
              "      <td>0.796768</td>\n",
              "      <td>0.000233</td>\n",
              "      <td>0.119014</td>\n",
              "      <td>0.102577</td>\n",
              "      <td>0.027405</td>\n",
              "      <td>0.281863</td>\n",
              "      <td>0.306440</td>\n",
              "      <td>0.162699</td>\n",
              "      <td>0.207595</td>\n",
              "      <td>0.383631</td>\n",
              "      <td>0.418200</td>\n",
              "      <td>0.690253</td>\n",
              "      <td>0.396351</td>\n",
              "      <td>0.840849</td>\n",
              "      <td>0.782643</td>\n",
              "      <td>0.187358</td>\n",
              "      <td>0.222179</td>\n",
              "      <td>0.327769</td>\n",
              "      <td>0.353337</td>\n",
              "      <td>0.285714</td>\n",
              "      <td>0.155982</td>\n",
              "      <td>0.175968</td>\n",
              "      <td>0.193433</td>\n",
              "      <td>0.179614</td>\n",
              "      <td>0.257139</td>\n",
              "      <td>0.041622</td>\n",
              "      <td>0.171092</td>\n",
              "      <td>0.057445</td>\n",
              "      <td>0.187125</td>\n",
              "      <td>0.105962</td>\n",
              "      <td>...</td>\n",
              "      <td>0.270107</td>\n",
              "      <td>0.290219</td>\n",
              "      <td>0.106792</td>\n",
              "      <td>0.906544</td>\n",
              "      <td>0.361279</td>\n",
              "      <td>0.638721</td>\n",
              "      <td>0.146210</td>\n",
              "      <td>0.337174</td>\n",
              "      <td>0.348285</td>\n",
              "      <td>0.168331</td>\n",
              "      <td>0.011165</td>\n",
              "      <td>0.296743</td>\n",
              "      <td>0.421277</td>\n",
              "      <td>0.216316</td>\n",
              "      <td>0.065664</td>\n",
              "      <td>0.858707</td>\n",
              "      <td>0.089072</td>\n",
              "      <td>0.027718</td>\n",
              "      <td>0.013259</td>\n",
              "      <td>0.011244</td>\n",
              "      <td>0.665989</td>\n",
              "      <td>0.191720</td>\n",
              "      <td>0.142291</td>\n",
              "      <td>0.093456</td>\n",
              "      <td>0.162032</td>\n",
              "      <td>0.119334</td>\n",
              "      <td>0.038099</td>\n",
              "      <td>0.466608</td>\n",
              "      <td>0.034158</td>\n",
              "      <td>0.179768</td>\n",
              "      <td>0.239302</td>\n",
              "      <td>0.000797</td>\n",
              "      <td>0.020989</td>\n",
              "      <td>0.011046</td>\n",
              "      <td>0.000219</td>\n",
              "      <td>0.012473</td>\n",
              "      <td>0.057637</td>\n",
              "      <td>0.016490</td>\n",
              "      <td>0.032832</td>\n",
              "      <td>0.086819</td>\n",
              "    </tr>\n",
              "    <tr>\n",
              "      <th>3</th>\n",
              "      <td>Larceny</td>\n",
              "      <td>0</td>\n",
              "      <td>2019-01-25</td>\n",
              "      <td>2019</td>\n",
              "      <td>1</td>\n",
              "      <td>Friday</td>\n",
              "      <td>17</td>\n",
              "      <td>0.000576</td>\n",
              "      <td>-0.000967</td>\n",
              "      <td>Roxbury</td>\n",
              "      <td>0.668260</td>\n",
              "      <td>0.000442</td>\n",
              "      <td>0.121065</td>\n",
              "      <td>0.097653</td>\n",
              "      <td>0.049279</td>\n",
              "      <td>0.278041</td>\n",
              "      <td>0.287365</td>\n",
              "      <td>0.166596</td>\n",
              "      <td>0.285446</td>\n",
              "      <td>0.415484</td>\n",
              "      <td>0.547102</td>\n",
              "      <td>0.615406</td>\n",
              "      <td>0.485424</td>\n",
              "      <td>0.731257</td>\n",
              "      <td>0.702157</td>\n",
              "      <td>0.171215</td>\n",
              "      <td>0.316872</td>\n",
              "      <td>0.435413</td>\n",
              "      <td>0.441737</td>\n",
              "      <td>0.331461</td>\n",
              "      <td>0.213928</td>\n",
              "      <td>0.255699</td>\n",
              "      <td>0.386986</td>\n",
              "      <td>0.230231</td>\n",
              "      <td>0.244939</td>\n",
              "      <td>0.049869</td>\n",
              "      <td>0.189443</td>\n",
              "      <td>0.056866</td>\n",
              "      <td>0.150292</td>\n",
              "      <td>0.078361</td>\n",
              "      <td>...</td>\n",
              "      <td>0.309513</td>\n",
              "      <td>0.370873</td>\n",
              "      <td>0.080004</td>\n",
              "      <td>0.917047</td>\n",
              "      <td>0.217398</td>\n",
              "      <td>0.782602</td>\n",
              "      <td>0.264851</td>\n",
              "      <td>0.354256</td>\n",
              "      <td>0.237338</td>\n",
              "      <td>0.143555</td>\n",
              "      <td>0.075405</td>\n",
              "      <td>0.453239</td>\n",
              "      <td>0.376803</td>\n",
              "      <td>0.128248</td>\n",
              "      <td>0.041711</td>\n",
              "      <td>0.888742</td>\n",
              "      <td>0.059315</td>\n",
              "      <td>0.023237</td>\n",
              "      <td>0.018832</td>\n",
              "      <td>0.009873</td>\n",
              "      <td>0.714666</td>\n",
              "      <td>0.157623</td>\n",
              "      <td>0.127712</td>\n",
              "      <td>0.082953</td>\n",
              "      <td>0.158333</td>\n",
              "      <td>0.213333</td>\n",
              "      <td>0.023889</td>\n",
              "      <td>0.500000</td>\n",
              "      <td>0.000000</td>\n",
              "      <td>0.104444</td>\n",
              "      <td>0.303109</td>\n",
              "      <td>0.000835</td>\n",
              "      <td>0.029749</td>\n",
              "      <td>0.014274</td>\n",
              "      <td>0.000265</td>\n",
              "      <td>0.014416</td>\n",
              "      <td>0.074973</td>\n",
              "      <td>0.017043</td>\n",
              "      <td>0.044858</td>\n",
              "      <td>0.106697</td>\n",
              "    </tr>\n",
              "    <tr>\n",
              "      <th>4</th>\n",
              "      <td>Harassment</td>\n",
              "      <td>0</td>\n",
              "      <td>2019-01-25</td>\n",
              "      <td>2019</td>\n",
              "      <td>1</td>\n",
              "      <td>Friday</td>\n",
              "      <td>13</td>\n",
              "      <td>0.000576</td>\n",
              "      <td>-0.000967</td>\n",
              "      <td>Roxbury</td>\n",
              "      <td>0.668260</td>\n",
              "      <td>0.000442</td>\n",
              "      <td>0.121065</td>\n",
              "      <td>0.097653</td>\n",
              "      <td>0.049279</td>\n",
              "      <td>0.278041</td>\n",
              "      <td>0.287365</td>\n",
              "      <td>0.166596</td>\n",
              "      <td>0.285446</td>\n",
              "      <td>0.415484</td>\n",
              "      <td>0.547102</td>\n",
              "      <td>0.615406</td>\n",
              "      <td>0.485424</td>\n",
              "      <td>0.731257</td>\n",
              "      <td>0.702157</td>\n",
              "      <td>0.171215</td>\n",
              "      <td>0.316872</td>\n",
              "      <td>0.435413</td>\n",
              "      <td>0.441737</td>\n",
              "      <td>0.331461</td>\n",
              "      <td>0.213928</td>\n",
              "      <td>0.255699</td>\n",
              "      <td>0.386986</td>\n",
              "      <td>0.230231</td>\n",
              "      <td>0.244939</td>\n",
              "      <td>0.049869</td>\n",
              "      <td>0.189443</td>\n",
              "      <td>0.056866</td>\n",
              "      <td>0.150292</td>\n",
              "      <td>0.078361</td>\n",
              "      <td>...</td>\n",
              "      <td>0.309513</td>\n",
              "      <td>0.370873</td>\n",
              "      <td>0.080004</td>\n",
              "      <td>0.917047</td>\n",
              "      <td>0.217398</td>\n",
              "      <td>0.782602</td>\n",
              "      <td>0.264851</td>\n",
              "      <td>0.354256</td>\n",
              "      <td>0.237338</td>\n",
              "      <td>0.143555</td>\n",
              "      <td>0.075405</td>\n",
              "      <td>0.453239</td>\n",
              "      <td>0.376803</td>\n",
              "      <td>0.128248</td>\n",
              "      <td>0.041711</td>\n",
              "      <td>0.888742</td>\n",
              "      <td>0.059315</td>\n",
              "      <td>0.023237</td>\n",
              "      <td>0.018832</td>\n",
              "      <td>0.009873</td>\n",
              "      <td>0.714666</td>\n",
              "      <td>0.157623</td>\n",
              "      <td>0.127712</td>\n",
              "      <td>0.082953</td>\n",
              "      <td>0.158333</td>\n",
              "      <td>0.213333</td>\n",
              "      <td>0.023889</td>\n",
              "      <td>0.500000</td>\n",
              "      <td>0.000000</td>\n",
              "      <td>0.104444</td>\n",
              "      <td>0.303109</td>\n",
              "      <td>0.000835</td>\n",
              "      <td>0.029749</td>\n",
              "      <td>0.014274</td>\n",
              "      <td>0.000265</td>\n",
              "      <td>0.014416</td>\n",
              "      <td>0.074973</td>\n",
              "      <td>0.017043</td>\n",
              "      <td>0.044858</td>\n",
              "      <td>0.106697</td>\n",
              "    </tr>\n",
              "  </tbody>\n",
              "</table>\n",
              "<p>5 rows × 88 columns</p>\n",
              "</div>"
            ],
            "text/plain": [
              "     offense_code_group  ...  property_crimes_per_capita\n",
              "0             Vandalism  ...                    0.086819\n",
              "1  Residential Burglary  ...                    0.082781\n",
              "2               Larceny  ...                    0.086819\n",
              "3               Larceny  ...                    0.106697\n",
              "4            Harassment  ...                    0.106697\n",
              "\n",
              "[5 rows x 88 columns]"
            ]
          },
          "metadata": {
            "tags": []
          },
          "execution_count": 117
        }
      ]
    },
    {
      "cell_type": "code",
      "metadata": {
        "id": "uUb__w7eGiVe"
      },
      "source": [
        "master_dataset.to_csv('/content/drive/Shareddrives/IS833_Project/master_dataset.csv')"
      ],
      "execution_count": null,
      "outputs": []
    },
    {
      "cell_type": "markdown",
      "metadata": {
        "id": "7txwIkuQeL7c"
      },
      "source": [
        "# Descriptive Statistics\n",
        "\n",
        "We'll now take a look at some descriptive statistics for the numerical fields in our master dataset."
      ]
    },
    {
      "cell_type": "code",
      "metadata": {
        "colab": {
          "base_uri": "https://localhost:8080/",
          "height": 297
        },
        "id": "v9uqIgvoetVB",
        "outputId": "4bf0789d-754b-4c39-c02b-7ed6e873c97c"
      },
      "source": [
        "crimes_w_neighborhoods.describe()"
      ],
      "execution_count": null,
      "outputs": [
        {
          "output_type": "execute_result",
          "data": {
            "text/html": [
              "<div>\n",
              "<style scoped>\n",
              "    .dataframe tbody tr th:only-of-type {\n",
              "        vertical-align: middle;\n",
              "    }\n",
              "\n",
              "    .dataframe tbody tr th {\n",
              "        vertical-align: top;\n",
              "    }\n",
              "\n",
              "    .dataframe thead th {\n",
              "        text-align: right;\n",
              "    }\n",
              "</style>\n",
              "<table border=\"1\" class=\"dataframe\">\n",
              "  <thead>\n",
              "    <tr style=\"text-align: right;\">\n",
              "      <th></th>\n",
              "      <th>year</th>\n",
              "      <th>month</th>\n",
              "      <th>hour</th>\n",
              "      <th>lat</th>\n",
              "      <th>long</th>\n",
              "    </tr>\n",
              "  </thead>\n",
              "  <tbody>\n",
              "    <tr>\n",
              "      <th>count</th>\n",
              "      <td>167980.000000</td>\n",
              "      <td>167980.000000</td>\n",
              "      <td>167980.000000</td>\n",
              "      <td>167980.000000</td>\n",
              "      <td>167980.000000</td>\n",
              "    </tr>\n",
              "    <tr>\n",
              "      <th>mean</th>\n",
              "      <td>2016.669508</td>\n",
              "      <td>6.878271</td>\n",
              "      <td>13.206066</td>\n",
              "      <td>42.323826</td>\n",
              "      <td>-71.081993</td>\n",
              "    </tr>\n",
              "    <tr>\n",
              "      <th>std</th>\n",
              "      <td>1.090662</td>\n",
              "      <td>3.371415</td>\n",
              "      <td>6.306625</td>\n",
              "      <td>0.031166</td>\n",
              "      <td>0.028683</td>\n",
              "    </tr>\n",
              "    <tr>\n",
              "      <th>min</th>\n",
              "      <td>2015.000000</td>\n",
              "      <td>1.000000</td>\n",
              "      <td>0.000000</td>\n",
              "      <td>42.232413</td>\n",
              "      <td>-71.178674</td>\n",
              "    </tr>\n",
              "    <tr>\n",
              "      <th>25%</th>\n",
              "      <td>2016.000000</td>\n",
              "      <td>4.000000</td>\n",
              "      <td>9.000000</td>\n",
              "      <td>42.300280</td>\n",
              "      <td>-71.095324</td>\n",
              "    </tr>\n",
              "    <tr>\n",
              "      <th>50%</th>\n",
              "      <td>2017.000000</td>\n",
              "      <td>7.000000</td>\n",
              "      <td>14.000000</td>\n",
              "      <td>42.328663</td>\n",
              "      <td>-71.076992</td>\n",
              "    </tr>\n",
              "    <tr>\n",
              "      <th>75%</th>\n",
              "      <td>2018.000000</td>\n",
              "      <td>10.000000</td>\n",
              "      <td>18.000000</td>\n",
              "      <td>42.349020</td>\n",
              "      <td>-71.062563</td>\n",
              "    </tr>\n",
              "    <tr>\n",
              "      <th>max</th>\n",
              "      <td>2019.000000</td>\n",
              "      <td>12.000000</td>\n",
              "      <td>23.000000</td>\n",
              "      <td>42.395042</td>\n",
              "      <td>-70.996038</td>\n",
              "    </tr>\n",
              "  </tbody>\n",
              "</table>\n",
              "</div>"
            ],
            "text/plain": [
              "                year          month  ...            lat           long\n",
              "count  167980.000000  167980.000000  ...  167980.000000  167980.000000\n",
              "mean     2016.669508       6.878271  ...      42.323826     -71.081993\n",
              "std         1.090662       3.371415  ...       0.031166       0.028683\n",
              "min      2015.000000       1.000000  ...      42.232413     -71.178674\n",
              "25%      2016.000000       4.000000  ...      42.300280     -71.095324\n",
              "50%      2017.000000       7.000000  ...      42.328663     -71.076992\n",
              "75%      2018.000000      10.000000  ...      42.349020     -71.062563\n",
              "max      2019.000000      12.000000  ...      42.395042     -70.996038\n",
              "\n",
              "[8 rows x 5 columns]"
            ]
          },
          "metadata": {
            "tags": []
          },
          "execution_count": 50
        }
      ]
    },
    {
      "cell_type": "code",
      "metadata": {
        "colab": {
          "base_uri": "https://localhost:8080/",
          "height": 416
        },
        "id": "3mNETeqtjhOq",
        "outputId": "797e57d8-6381-47b9-a967-5b34d8038d18"
      },
      "source": [
        "sns.catplot(x='month', kind='count', data=crimes_w_neighborhoods)\n",
        "plt.title('Crime Incidents by Month')"
      ],
      "execution_count": null,
      "outputs": [
        {
          "output_type": "execute_result",
          "data": {
            "text/plain": [
              "Text(0.5, 1.0, 'Crime Incidents by Month')"
            ]
          },
          "metadata": {
            "tags": []
          },
          "execution_count": 51
        },
        {
          "output_type": "display_data",
          "data": {
            "image/png": "[encoded data removed]",
            "text/plain": [
              "<Figure size 360x360 with 1 Axes>"
            ]
          },
          "metadata": {
            "tags": [],
            "needs_background": "light"
          }
        }
      ]
    },
    {
      "cell_type": "code",
      "metadata": {
        "colab": {
          "base_uri": "https://localhost:8080/",
          "height": 416
        },
        "id": "DqVTqgttkEyU",
        "outputId": "1b671692-c2e3-4f66-c36a-86baaac66ac3"
      },
      "source": [
        "sns.catplot(y='hour', kind='count', data=crimes_w_neighborhoods)\n",
        "plt.title('Crime Incidents by Hour of Day')"
      ],
      "execution_count": null,
      "outputs": [
        {
          "output_type": "execute_result",
          "data": {
            "text/plain": [
              "Text(0.5, 1.0, 'Crime Incidents by Hour of Day')"
            ]
          },
          "metadata": {
            "tags": []
          },
          "execution_count": 52
        },
        {
          "output_type": "display_data",
          "data": {
            "image/png": "[encoded data removed]",
            "text/plain": [
              "<Figure size 360x360 with 1 Axes>"
            ]
          },
          "metadata": {
            "tags": [],
            "needs_background": "light"
          }
        }
      ]
    },
    {
      "cell_type": "code",
      "metadata": {
        "colab": {
          "base_uri": "https://localhost:8080/"
        },
        "id": "z0e7vANhkw7L",
        "outputId": "62f200f3-aaf0-4911-aa3f-d8032f02e860"
      },
      "source": [
        "print(f'Earliest Reported Crime Date: {crimes_w_neighborhoods.occurred_on_date.min()}')\n",
        "print(f'Latest Reporting Crime Date: {crimes_w_neighborhoods.occurred_on_date.max()}')"
      ],
      "execution_count": null,
      "outputs": [
        {
          "output_type": "stream",
          "text": [
            "Earliest Reported Crime Date: 2015-06-15\n",
            "Latest Reporting Crime Date: 2019-01-26\n"
          ],
          "name": "stdout"
        }
      ]
    },
    {
      "cell_type": "markdown",
      "metadata": {
        "id": "FOtawXEMfDff"
      },
      "source": [
        "The median year for crime incidents is 2017, which makes sense as it is roughly the centerpoint of the time range covered in this data. We can also see that the mean year is slightly earlier at 2016.7. At first glance, it seems that crimes tend to occur more in the later months of the year, with January being an exception. That pattern isn't intuitive, and may be a result of the endpoints of the dataset's time range (missing first half of 2015, and capturing an extra Januart in 2019). The fact that crime activity seems to peak around 5-6 PM is suprising, though - we might have expected the peak to come later at night. The spike at midnight is interesting as well."
      ]
    },
    {
      "cell_type": "markdown",
      "metadata": {
        "id": "eZXk9zFVoUWW"
      },
      "source": [
        "# Highest-Incidence Crimes\n",
        "\n",
        "Next, we'll take a look at the top-10 most frequent crimes in our data, starting with the most frequent."
      ]
    },
    {
      "cell_type": "code",
      "metadata": {
        "colab": {
          "base_uri": "https://localhost:8080/",
          "height": 390
        },
        "id": "awcU3duloAvf",
        "outputId": "5f25643d-03ef-4736-c28c-5ce07cbc33e4"
      },
      "source": [
        "incidents_by_crime_type = crimes_w_neighborhoods.groupby('offense_code_group').agg({'incident_number': 'count'}).rename({'incident_number': 'count'}, axis=1)\n",
        "incidents_by_crime_type.sort_values('count', ascending=False, inplace=True)\n",
        "incidents_by_crime_type.head(10)"
      ],
      "execution_count": null,
      "outputs": [
        {
          "output_type": "execute_result",
          "data": {
            "text/html": [
              "<div>\n",
              "<style scoped>\n",
              "    .dataframe tbody tr th:only-of-type {\n",
              "        vertical-align: middle;\n",
              "    }\n",
              "\n",
              "    .dataframe tbody tr th {\n",
              "        vertical-align: top;\n",
              "    }\n",
              "\n",
              "    .dataframe thead th {\n",
              "        text-align: right;\n",
              "    }\n",
              "</style>\n",
              "<table border=\"1\" class=\"dataframe\">\n",
              "  <thead>\n",
              "    <tr style=\"text-align: right;\">\n",
              "      <th></th>\n",
              "      <th>count</th>\n",
              "    </tr>\n",
              "    <tr>\n",
              "      <th>offense_code_group</th>\n",
              "      <th></th>\n",
              "    </tr>\n",
              "  </thead>\n",
              "  <tbody>\n",
              "    <tr>\n",
              "      <th>Larceny</th>\n",
              "      <td>28275</td>\n",
              "    </tr>\n",
              "    <tr>\n",
              "      <th>Other</th>\n",
              "      <td>17940</td>\n",
              "    </tr>\n",
              "    <tr>\n",
              "      <th>Simple Assault</th>\n",
              "      <td>16698</td>\n",
              "    </tr>\n",
              "    <tr>\n",
              "      <th>Vandalism</th>\n",
              "      <td>16479</td>\n",
              "    </tr>\n",
              "    <tr>\n",
              "      <th>Drug Violation</th>\n",
              "      <td>16099</td>\n",
              "    </tr>\n",
              "    <tr>\n",
              "      <th>Larceny From Motor Vehicle</th>\n",
              "      <td>11319</td>\n",
              "    </tr>\n",
              "    <tr>\n",
              "      <th>Aggravated Assault</th>\n",
              "      <td>8174</td>\n",
              "    </tr>\n",
              "    <tr>\n",
              "      <th>Fraud</th>\n",
              "      <td>6486</td>\n",
              "    </tr>\n",
              "    <tr>\n",
              "      <th>Residential Burglary</th>\n",
              "      <td>6073</td>\n",
              "    </tr>\n",
              "    <tr>\n",
              "      <th>Violations</th>\n",
              "      <td>5496</td>\n",
              "    </tr>\n",
              "  </tbody>\n",
              "</table>\n",
              "</div>"
            ],
            "text/plain": [
              "                            count\n",
              "offense_code_group               \n",
              "Larceny                     28275\n",
              "Other                       17940\n",
              "Simple Assault              16698\n",
              "Vandalism                   16479\n",
              "Drug Violation              16099\n",
              "Larceny From Motor Vehicle  11319\n",
              "Aggravated Assault           8174\n",
              "Fraud                        6486\n",
              "Residential Burglary         6073\n",
              "Violations                   5496"
            ]
          },
          "metadata": {
            "tags": []
          },
          "execution_count": 54
        }
      ]
    },
    {
      "cell_type": "code",
      "metadata": {
        "colab": {
          "base_uri": "https://localhost:8080/",
          "height": 514
        },
        "id": "PXclKwOPprko",
        "outputId": "f920f094-2b59-4847-b22f-58cbcb2678ad"
      },
      "source": [
        "plt.figure(figsize=(8, 8))\n",
        "sns.barplot(y=incidents_by_crime_type.index, x='count', data=incidents_by_crime_type)"
      ],
      "execution_count": null,
      "outputs": [
        {
          "output_type": "execute_result",
          "data": {
            "text/plain": [
              "<matplotlib.axes._subplots.AxesSubplot at 0x7fd2edee9bd0>"
            ]
          },
          "metadata": {
            "tags": []
          },
          "execution_count": 55
        },
        {
          "output_type": "display_data",
          "data": {
            "image/png": "[encoded data removed]",
            "text/plain": [
              "<Figure size 576x576 with 1 Axes>"
            ]
          },
          "metadata": {
            "tags": [],
            "needs_background": "light"
          }
        }
      ]
    },
    {
      "cell_type": "markdown",
      "metadata": {
        "id": "IzLf2NZ_q20R"
      },
      "source": [
        "# Highest-Crime Neighborhoods\n",
        "\n",
        "Here are the 10 neigborhoods with the most crime incidences over this period."
      ]
    },
    {
      "cell_type": "code",
      "metadata": {
        "colab": {
          "base_uri": "https://localhost:8080/",
          "height": 390
        },
        "id": "XHpOKxojrMZQ",
        "outputId": "44cfff71-bb9a-48a7-ca16-7c0dc9f7ba2c"
      },
      "source": [
        "incidents_by_neighborhood = crimes_w_neighborhoods.groupby('neighborhood').agg({'incident_number': 'count'}).rename({'incident_number': 'count'}, axis=1)\n",
        "incidents_by_neighborhood.sort_values('count', ascending=False, inplace=True)\n",
        "incidents_by_neighborhood.head(10)"
      ],
      "execution_count": null,
      "outputs": [
        {
          "output_type": "execute_result",
          "data": {
            "text/html": [
              "<div>\n",
              "<style scoped>\n",
              "    .dataframe tbody tr th:only-of-type {\n",
              "        vertical-align: middle;\n",
              "    }\n",
              "\n",
              "    .dataframe tbody tr th {\n",
              "        vertical-align: top;\n",
              "    }\n",
              "\n",
              "    .dataframe thead th {\n",
              "        text-align: right;\n",
              "    }\n",
              "</style>\n",
              "<table border=\"1\" class=\"dataframe\">\n",
              "  <thead>\n",
              "    <tr style=\"text-align: right;\">\n",
              "      <th></th>\n",
              "      <th>count</th>\n",
              "    </tr>\n",
              "    <tr>\n",
              "      <th>neighborhood</th>\n",
              "      <th></th>\n",
              "    </tr>\n",
              "  </thead>\n",
              "  <tbody>\n",
              "    <tr>\n",
              "      <th>Dorchester</th>\n",
              "      <td>40246</td>\n",
              "    </tr>\n",
              "    <tr>\n",
              "      <th>Roxbury</th>\n",
              "      <td>22640</td>\n",
              "    </tr>\n",
              "    <tr>\n",
              "      <th>Downtown</th>\n",
              "      <td>15433</td>\n",
              "    </tr>\n",
              "    <tr>\n",
              "      <th>Back Bay</th>\n",
              "      <td>8939</td>\n",
              "    </tr>\n",
              "    <tr>\n",
              "      <th>South End</th>\n",
              "      <td>8419</td>\n",
              "    </tr>\n",
              "    <tr>\n",
              "      <th>Jamaica Plain</th>\n",
              "      <td>8394</td>\n",
              "    </tr>\n",
              "    <tr>\n",
              "      <th>South Boston</th>\n",
              "      <td>8372</td>\n",
              "    </tr>\n",
              "    <tr>\n",
              "      <th>East Boston</th>\n",
              "      <td>7004</td>\n",
              "    </tr>\n",
              "    <tr>\n",
              "      <th>Mattapan</th>\n",
              "      <td>6988</td>\n",
              "    </tr>\n",
              "    <tr>\n",
              "      <th>Hyde Park</th>\n",
              "      <td>6306</td>\n",
              "    </tr>\n",
              "  </tbody>\n",
              "</table>\n",
              "</div>"
            ],
            "text/plain": [
              "               count\n",
              "neighborhood        \n",
              "Dorchester     40246\n",
              "Roxbury        22640\n",
              "Downtown       15433\n",
              "Back Bay        8939\n",
              "South End       8419\n",
              "Jamaica Plain   8394\n",
              "South Boston    8372\n",
              "East Boston     7004\n",
              "Mattapan        6988\n",
              "Hyde Park       6306"
            ]
          },
          "metadata": {
            "tags": []
          },
          "execution_count": 56
        }
      ]
    },
    {
      "cell_type": "code",
      "metadata": {
        "colab": {
          "base_uri": "https://localhost:8080/",
          "height": 296
        },
        "id": "Judryg22r0TC",
        "outputId": "070970f6-a189-4cc5-8352-53bc2ae65e45"
      },
      "source": [
        "sns.barplot(y=incidents_by_neighborhood.index, x='count', data=incidents_by_neighborhood)"
      ],
      "execution_count": null,
      "outputs": [
        {
          "output_type": "execute_result",
          "data": {
            "text/plain": [
              "<matplotlib.axes._subplots.AxesSubplot at 0x7fd2e4eabd10>"
            ]
          },
          "metadata": {
            "tags": []
          },
          "execution_count": 57
        },
        {
          "output_type": "display_data",
          "data": {
            "image/png": "[encoded data removed]",
            "text/plain": [
              "<Figure size 432x288 with 1 Axes>"
            ]
          },
          "metadata": {
            "tags": [],
            "needs_background": "light"
          }
        }
      ]
    },
    {
      "cell_type": "markdown",
      "metadata": {
        "id": "0G7FzJx7sHsf"
      },
      "source": [
        "# Crime Trends Over Time\n",
        "\n",
        "Now, we'd like to explore whether there have been any trends in the frequencies of top 5 crimes during the time period covered in the data."
      ]
    },
    {
      "cell_type": "code",
      "metadata": {
        "colab": {
          "base_uri": "https://localhost:8080/",
          "height": 235
        },
        "id": "GlvRLVsGt1Tk",
        "outputId": "b430fcda-e047-4b75-a4b2-6e97f773877c"
      },
      "source": [
        "top_5_crimes_list = ['Larceny', 'Other', 'Simple Assault', 'Vandalism', 'Drug Violation']\n",
        "top_5_crimes_incidents = crimes_w_neighborhoods[crimes_w_neighborhoods['offense_code_group'].isin(top_5_crimes_list)]\n",
        "top_5_crimes_timeseries = top_5_crimes_incidents.pivot_table(values='incident_number', index='occurred_on_date', columns='offense_code_group', aggfunc='count')\n",
        "top_5_crimes_timeseries.head()"
      ],
      "execution_count": null,
      "outputs": [
        {
          "output_type": "execute_result",
          "data": {
            "text/html": [
              "<div>\n",
              "<style scoped>\n",
              "    .dataframe tbody tr th:only-of-type {\n",
              "        vertical-align: middle;\n",
              "    }\n",
              "\n",
              "    .dataframe tbody tr th {\n",
              "        vertical-align: top;\n",
              "    }\n",
              "\n",
              "    .dataframe thead th {\n",
              "        text-align: right;\n",
              "    }\n",
              "</style>\n",
              "<table border=\"1\" class=\"dataframe\">\n",
              "  <thead>\n",
              "    <tr style=\"text-align: right;\">\n",
              "      <th>offense_code_group</th>\n",
              "      <th>Drug Violation</th>\n",
              "      <th>Larceny</th>\n",
              "      <th>Other</th>\n",
              "      <th>Simple Assault</th>\n",
              "      <th>Vandalism</th>\n",
              "    </tr>\n",
              "    <tr>\n",
              "      <th>occurred_on_date</th>\n",
              "      <th></th>\n",
              "      <th></th>\n",
              "      <th></th>\n",
              "      <th></th>\n",
              "      <th></th>\n",
              "    </tr>\n",
              "  </thead>\n",
              "  <tbody>\n",
              "    <tr>\n",
              "      <th>2015-06-15</th>\n",
              "      <td>10.0</td>\n",
              "      <td>28.0</td>\n",
              "      <td>11.0</td>\n",
              "      <td>10.0</td>\n",
              "      <td>15.0</td>\n",
              "    </tr>\n",
              "    <tr>\n",
              "      <th>2015-06-16</th>\n",
              "      <td>26.0</td>\n",
              "      <td>23.0</td>\n",
              "      <td>15.0</td>\n",
              "      <td>13.0</td>\n",
              "      <td>13.0</td>\n",
              "    </tr>\n",
              "    <tr>\n",
              "      <th>2015-06-17</th>\n",
              "      <td>8.0</td>\n",
              "      <td>32.0</td>\n",
              "      <td>20.0</td>\n",
              "      <td>12.0</td>\n",
              "      <td>12.0</td>\n",
              "    </tr>\n",
              "    <tr>\n",
              "      <th>2015-06-18</th>\n",
              "      <td>8.0</td>\n",
              "      <td>25.0</td>\n",
              "      <td>16.0</td>\n",
              "      <td>13.0</td>\n",
              "      <td>13.0</td>\n",
              "    </tr>\n",
              "    <tr>\n",
              "      <th>2015-06-19</th>\n",
              "      <td>16.0</td>\n",
              "      <td>34.0</td>\n",
              "      <td>18.0</td>\n",
              "      <td>14.0</td>\n",
              "      <td>3.0</td>\n",
              "    </tr>\n",
              "  </tbody>\n",
              "</table>\n",
              "</div>"
            ],
            "text/plain": [
              "offense_code_group  Drug Violation  Larceny  Other  Simple Assault  Vandalism\n",
              "occurred_on_date                                                             \n",
              "2015-06-15                    10.0     28.0   11.0            10.0       15.0\n",
              "2015-06-16                    26.0     23.0   15.0            13.0       13.0\n",
              "2015-06-17                     8.0     32.0   20.0            12.0       12.0\n",
              "2015-06-18                     8.0     25.0   16.0            13.0       13.0\n",
              "2015-06-19                    16.0     34.0   18.0            14.0        3.0"
            ]
          },
          "metadata": {
            "tags": []
          },
          "execution_count": 58
        }
      ]
    },
    {
      "cell_type": "code",
      "metadata": {
        "id": "xzwGuu_xwHDF"
      },
      "source": [
        "top_5_crimes_rolling = top_5_crimes_timeseries.rolling(30, win_type='gaussian', center=True).mean(std=10)"
      ],
      "execution_count": null,
      "outputs": []
    },
    {
      "cell_type": "code",
      "metadata": {
        "colab": {
          "base_uri": "https://localhost:8080/",
          "height": 515
        },
        "id": "HfCXWeLUvaBd",
        "outputId": "34303b71-e8e6-4e6b-9be8-b6fef19f5a6b"
      },
      "source": [
        "top_5_crimes_rolling.plot(figsize=(16, 8), title='')\n",
        "plt.ylabel('Mean Daily Incident Count')\n",
        "plt.legend(loc='upper right')"
      ],
      "execution_count": null,
      "outputs": [
        {
          "output_type": "execute_result",
          "data": {
            "text/plain": [
              "<matplotlib.legend.Legend at 0x7fd2e43bf690>"
            ]
          },
          "metadata": {
            "tags": []
          },
          "execution_count": 60
        },
        {
          "output_type": "display_data",
          "data": {
            "image/png": "[encoded data removed]",
            "text/plain": [
              "<Figure size 1152x576 with 1 Axes>"
            ]
          },
          "metadata": {
            "tags": [],
            "needs_background": "light"
          }
        }
      ]
    },
    {
      "cell_type": "markdown",
      "metadata": {
        "id": "PGCgavXHxoCV"
      },
      "source": [
        "Good news! The most prevalent crimes in Boston generally seem to be trending downward across the board."
      ]
    },
    {
      "cell_type": "markdown",
      "metadata": {
        "id": "_AVy4yvtyBNo"
      },
      "source": [
        "# Comparing Neighborhoods\n",
        "\n",
        "Next, we'll want to look at how crime incidence counts for the top-10 crimes compare across 10 neighborhoods with the highest overall crime. We'll do this visually with the help of a heatmap."
      ]
    },
    {
      "cell_type": "code",
      "metadata": {
        "colab": {
          "base_uri": "https://localhost:8080/",
          "height": 390
        },
        "id": "TrXA9VuRyvN7",
        "outputId": "794705fa-7dbd-4068-9cc3-d9df869f2f31"
      },
      "source": [
        "top_10_crimes_list = ['Larceny', 'Other', 'Simple Assault', 'Vandalism', 'Drug Violation', 'Larceny From Motor Vehicle', 'Aggravated Assault', 'Fraud', 'Residential Burglary', 'Violations']\n",
        "top_10_crime_neighborhoods_list = ['Dorchester', 'Roxbury', 'Downtown', 'Back Bay', 'South End', 'Jamaica Plain', 'South Boston', 'East Boston', 'Mattapan', 'Hyde Park']\n",
        "top_10_crimes_v_neighborhoods = crimes_w_neighborhoods[(crimes_w_neighborhoods['offense_code_group'].isin(top_10_crimes_list)) & (crimes_w_neighborhoods['neighborhood'].isin(top_10_crime_neighborhoods_list))]\n",
        "top_10_pivot = top_10_crimes_v_neighborhoods.pivot_table(values='incident_number', index='offense_code_group', columns='neighborhood', aggfunc='count')\n",
        "top_10_pivot"
      ],
      "execution_count": null,
      "outputs": [
        {
          "output_type": "execute_result",
          "data": {
            "text/html": [
              "<div>\n",
              "<style scoped>\n",
              "    .dataframe tbody tr th:only-of-type {\n",
              "        vertical-align: middle;\n",
              "    }\n",
              "\n",
              "    .dataframe tbody tr th {\n",
              "        vertical-align: top;\n",
              "    }\n",
              "\n",
              "    .dataframe thead th {\n",
              "        text-align: right;\n",
              "    }\n",
              "</style>\n",
              "<table border=\"1\" class=\"dataframe\">\n",
              "  <thead>\n",
              "    <tr style=\"text-align: right;\">\n",
              "      <th>neighborhood</th>\n",
              "      <th>Back Bay</th>\n",
              "      <th>Dorchester</th>\n",
              "      <th>Downtown</th>\n",
              "      <th>East Boston</th>\n",
              "      <th>Hyde Park</th>\n",
              "      <th>Jamaica Plain</th>\n",
              "      <th>Mattapan</th>\n",
              "      <th>Roxbury</th>\n",
              "      <th>South Boston</th>\n",
              "      <th>South End</th>\n",
              "    </tr>\n",
              "    <tr>\n",
              "      <th>offense_code_group</th>\n",
              "      <th></th>\n",
              "      <th></th>\n",
              "      <th></th>\n",
              "      <th></th>\n",
              "      <th></th>\n",
              "      <th></th>\n",
              "      <th></th>\n",
              "      <th></th>\n",
              "      <th></th>\n",
              "      <th></th>\n",
              "    </tr>\n",
              "  </thead>\n",
              "  <tbody>\n",
              "    <tr>\n",
              "      <th>Aggravated Assault</th>\n",
              "      <td>194</td>\n",
              "      <td>2385</td>\n",
              "      <td>738</td>\n",
              "      <td>344</td>\n",
              "      <td>244</td>\n",
              "      <td>310</td>\n",
              "      <td>483</td>\n",
              "      <td>1450</td>\n",
              "      <td>363</td>\n",
              "      <td>309</td>\n",
              "    </tr>\n",
              "    <tr>\n",
              "      <th>Drug Violation</th>\n",
              "      <td>155</td>\n",
              "      <td>3830</td>\n",
              "      <td>1821</td>\n",
              "      <td>872</td>\n",
              "      <td>650</td>\n",
              "      <td>999</td>\n",
              "      <td>334</td>\n",
              "      <td>2871</td>\n",
              "      <td>1215</td>\n",
              "      <td>993</td>\n",
              "    </tr>\n",
              "    <tr>\n",
              "      <th>Fraud</th>\n",
              "      <td>298</td>\n",
              "      <td>1331</td>\n",
              "      <td>608</td>\n",
              "      <td>228</td>\n",
              "      <td>351</td>\n",
              "      <td>299</td>\n",
              "      <td>310</td>\n",
              "      <td>716</td>\n",
              "      <td>243</td>\n",
              "      <td>313</td>\n",
              "    </tr>\n",
              "    <tr>\n",
              "      <th>Larceny</th>\n",
              "      <td>4253</td>\n",
              "      <td>4376</td>\n",
              "      <td>4171</td>\n",
              "      <td>829</td>\n",
              "      <td>841</td>\n",
              "      <td>1153</td>\n",
              "      <td>702</td>\n",
              "      <td>2371</td>\n",
              "      <td>1054</td>\n",
              "      <td>1578</td>\n",
              "    </tr>\n",
              "    <tr>\n",
              "      <th>Larceny From Motor Vehicle</th>\n",
              "      <td>811</td>\n",
              "      <td>2204</td>\n",
              "      <td>784</td>\n",
              "      <td>404</td>\n",
              "      <td>404</td>\n",
              "      <td>850</td>\n",
              "      <td>357</td>\n",
              "      <td>1298</td>\n",
              "      <td>785</td>\n",
              "      <td>680</td>\n",
              "    </tr>\n",
              "    <tr>\n",
              "      <th>Other</th>\n",
              "      <td>492</td>\n",
              "      <td>4715</td>\n",
              "      <td>1553</td>\n",
              "      <td>715</td>\n",
              "      <td>769</td>\n",
              "      <td>892</td>\n",
              "      <td>873</td>\n",
              "      <td>2855</td>\n",
              "      <td>856</td>\n",
              "      <td>919</td>\n",
              "    </tr>\n",
              "    <tr>\n",
              "      <th>Residential Burglary</th>\n",
              "      <td>150</td>\n",
              "      <td>1501</td>\n",
              "      <td>71</td>\n",
              "      <td>297</td>\n",
              "      <td>270</td>\n",
              "      <td>487</td>\n",
              "      <td>265</td>\n",
              "      <td>647</td>\n",
              "      <td>286</td>\n",
              "      <td>269</td>\n",
              "    </tr>\n",
              "    <tr>\n",
              "      <th>Simple Assault</th>\n",
              "      <td>581</td>\n",
              "      <td>4234</td>\n",
              "      <td>1830</td>\n",
              "      <td>724</td>\n",
              "      <td>552</td>\n",
              "      <td>670</td>\n",
              "      <td>799</td>\n",
              "      <td>2284</td>\n",
              "      <td>756</td>\n",
              "      <td>841</td>\n",
              "    </tr>\n",
              "    <tr>\n",
              "      <th>Vandalism</th>\n",
              "      <td>502</td>\n",
              "      <td>4675</td>\n",
              "      <td>791</td>\n",
              "      <td>856</td>\n",
              "      <td>681</td>\n",
              "      <td>771</td>\n",
              "      <td>860</td>\n",
              "      <td>2079</td>\n",
              "      <td>992</td>\n",
              "      <td>698</td>\n",
              "    </tr>\n",
              "    <tr>\n",
              "      <th>Violations</th>\n",
              "      <td>66</td>\n",
              "      <td>1860</td>\n",
              "      <td>185</td>\n",
              "      <td>314</td>\n",
              "      <td>206</td>\n",
              "      <td>337</td>\n",
              "      <td>281</td>\n",
              "      <td>1094</td>\n",
              "      <td>131</td>\n",
              "      <td>189</td>\n",
              "    </tr>\n",
              "  </tbody>\n",
              "</table>\n",
              "</div>"
            ],
            "text/plain": [
              "neighborhood                Back Bay  Dorchester  ...  South Boston  South End\n",
              "offense_code_group                                ...                         \n",
              "Aggravated Assault               194        2385  ...           363        309\n",
              "Drug Violation                   155        3830  ...          1215        993\n",
              "Fraud                            298        1331  ...           243        313\n",
              "Larceny                         4253        4376  ...          1054       1578\n",
              "Larceny From Motor Vehicle       811        2204  ...           785        680\n",
              "Other                            492        4715  ...           856        919\n",
              "Residential Burglary             150        1501  ...           286        269\n",
              "Simple Assault                   581        4234  ...           756        841\n",
              "Vandalism                        502        4675  ...           992        698\n",
              "Violations                        66        1860  ...           131        189\n",
              "\n",
              "[10 rows x 10 columns]"
            ]
          },
          "metadata": {
            "tags": []
          },
          "execution_count": 61
        }
      ]
    },
    {
      "cell_type": "code",
      "metadata": {
        "colab": {
          "base_uri": "https://localhost:8080/",
          "height": 462
        },
        "id": "vCXk3Mwk1CRk",
        "outputId": "78107137-e72d-4447-8b5d-b1986a93802d"
      },
      "source": [
        "plt.figure(figsize=(12, 6))\n",
        "sns.heatmap(top_10_pivot, xticklabels=top_10_pivot.columns, yticklabels=top_10_pivot.index, linewidths=.2, cmap=\"YlGnBu\")"
      ],
      "execution_count": null,
      "outputs": [
        {
          "output_type": "execute_result",
          "data": {
            "text/plain": [
              "<matplotlib.axes._subplots.AxesSubplot at 0x7fd2e3beaad0>"
            ]
          },
          "metadata": {
            "tags": []
          },
          "execution_count": 62
        },
        {
          "output_type": "display_data",
          "data": {
            "image/png": "[encoded data removed]",
            "text/plain": [
              "<Figure size 864x432 with 2 Axes>"
            ]
          },
          "metadata": {
            "tags": [],
            "needs_background": "light"
          }
        }
      ]
    },
    {
      "cell_type": "markdown",
      "metadata": {
        "id": "OtEsXTha1bTQ"
      },
      "source": [
        "It seems like Dorchester, Back Bay, Downtown, and Roxbury are the only neighborhoods that stand out clearly. Back Bay and Downtown have particularly high larceny incidences, while Dorchester and Roxbury have moderate-to-high crime incidence in at least 5 of the 10 most prevalent crime categories."
      ]
    },
    {
      "cell_type": "markdown",
      "metadata": {
        "id": "7bqBaTfgwOCT"
      },
      "source": [
        "#Modeling"
      ]
    },
    {
      "cell_type": "markdown",
      "metadata": {
        "id": "XbgNVIAz9L3X"
      },
      "source": [
        "## Predicting Shooting vs. Non-Shooting Crimes"
      ]
    },
    {
      "cell_type": "code",
      "metadata": {
        "id": "Zilnqmk_wRJU"
      },
      "source": [
        "X = master_dataset.drop(['shooting', 'occurred_on_date', 'year'], axis=1)\n",
        "X = pd.get_dummies(X, columns=['offense_code_group', 'month', 'day_of_week', 'hour', 'neighborhood'], drop_first=True)"
      ],
      "execution_count": 119,
      "outputs": []
    },
    {
      "cell_type": "code",
      "metadata": {
        "id": "uYsWcq-E4a3A"
      },
      "source": [
        "y = master_dataset.shooting"
      ],
      "execution_count": 129,
      "outputs": []
    },
    {
      "cell_type": "code",
      "metadata": {
        "id": "45ezB7p_4qzy"
      },
      "source": [
        "from sklearn.model_selection import train_test_split\n",
        "\n",
        "X_train, X_test, y_train, y_test = train_test_split(X, y, test_size=0.3, random_state=833)"
      ],
      "execution_count": 121,
      "outputs": []
    },
    {
      "cell_type": "code",
      "metadata": {
        "id": "Y96v9l4l5AhG"
      },
      "source": [
        "from sklearn.naive_bayes import GaussianNB\n",
        "\n",
        "model_nb = GaussianNB()\n",
        "model_nb.fit(X_train, y_train)\n",
        "y_model_nb = model_nb.predict(X_test)"
      ],
      "execution_count": 130,
      "outputs": []
    },
    {
      "cell_type": "code",
      "metadata": {
        "colab": {
          "base_uri": "https://localhost:8080/"
        },
        "id": "XZlKxC5O68eK",
        "outputId": "fbcb1580-1f3c-4ad8-c086-2bf40bc8bdcf"
      },
      "source": [
        "from sklearn.metrics import roc_auc_score\n",
        "\n",
        "roc_auc_score(y_test, y_model_nb)"
      ],
      "execution_count": 133,
      "outputs": [
        {
          "output_type": "execute_result",
          "data": {
            "text/plain": [
              "0.7572431269563092"
            ]
          },
          "metadata": {
            "tags": []
          },
          "execution_count": 133
        }
      ]
    },
    {
      "cell_type": "code",
      "metadata": {
        "colab": {
          "base_uri": "https://localhost:8080/"
        },
        "id": "ZnWyBWs291dE",
        "outputId": "8eba30c0-ea15-4fe7-de50-285aab1d571b"
      },
      "source": [
        "from sklearn.linear_model import LogisticRegression\n",
        "\n",
        "model_logit_ridge = LogisticRegression(solver='saga', penalty='l2')\n",
        "model_logit_ridge.fit(X_train, y_train)\n",
        "y_model_logit_ridge = model_logit_ridge.predict(X_test)"
      ],
      "execution_count": 136,
      "outputs": [
        {
          "output_type": "stream",
          "text": [
            "/usr/local/lib/python3.7/dist-packages/sklearn/linear_model/_sag.py:330: ConvergenceWarning: The max_iter was reached which means the coef_ did not converge\n",
            "  \"the coef_ did not converge\", ConvergenceWarning)\n"
          ],
          "name": "stderr"
        }
      ]
    },
    {
      "cell_type": "code",
      "metadata": {
        "colab": {
          "base_uri": "https://localhost:8080/"
        },
        "id": "nJP9rbo4_epA",
        "outputId": "54920221-029a-40d4-87a1-7f8eebd6c8a1"
      },
      "source": [
        "roc_auc_score(y_test, y_model_logit_ridge)"
      ],
      "execution_count": 137,
      "outputs": [
        {
          "output_type": "execute_result",
          "data": {
            "text/plain": [
              "0.5887954959946052"
            ]
          },
          "metadata": {
            "tags": []
          },
          "execution_count": 137
        }
      ]
    },
    {
      "cell_type": "code",
      "metadata": {
        "colab": {
          "base_uri": "https://localhost:8080/"
        },
        "id": "LSdsGD86_0Sr",
        "outputId": "ec8e4ff3-179e-47f5-8804-13d747d14e2a"
      },
      "source": [
        "model_logit_lasso = LogisticRegression(solver='saga', penalty='l1')\n",
        "model_logit_lasso.fit(X_train, y_train)\n",
        "y_model_logit_lasso = model_logit_lasso.predict(X_test)\n",
        "roc_auc_score(y_test, y_model_logit_lasso)"
      ],
      "execution_count": 139,
      "outputs": [
        {
          "output_type": "execute_result",
          "data": {
            "text/plain": [
              "0.5887855083792483"
            ]
          },
          "metadata": {
            "tags": []
          },
          "execution_count": 139
        }
      ]
    },
    {
      "cell_type": "code",
      "metadata": {
        "colab": {
          "base_uri": "https://localhost:8080/"
        },
        "id": "5YytjHEKAuNn",
        "outputId": "51c4d42f-8d56-4bbd-922d-7d5eb742a265"
      },
      "source": [
        "model_logit_elastic = LogisticRegression(solver='saga', penalty='elasticnet', l1_ratio=0.5)\n",
        "model_logit_elastic.fit(X_train, y_train)\n",
        "y_model_logit_elastic = model_logit_elastic.predict(X_test)\n",
        "roc_auc_score(y_test, y_model_logit_elastic)"
      ],
      "execution_count": 140,
      "outputs": [
        {
          "output_type": "stream",
          "text": [
            "/usr/local/lib/python3.7/dist-packages/sklearn/linear_model/_sag.py:330: ConvergenceWarning: The max_iter was reached which means the coef_ did not converge\n",
            "  \"the coef_ did not converge\", ConvergenceWarning)\n"
          ],
          "name": "stderr"
        },
        {
          "output_type": "execute_result",
          "data": {
            "text/plain": [
              "0.5887855083792483"
            ]
          },
          "metadata": {
            "tags": []
          },
          "execution_count": 140
        }
      ]
    },
    {
      "cell_type": "markdown",
      "metadata": {
        "id": "PwSyNJjYKO2c"
      },
      "source": [
        "Insight: ultimately, the Naive Bayesian classifier performed significantly better than several versions of logistic regression at identifying shooting vs. non-shooting crimes, though in terms of pure accuracy score it did not do better than chance (due to the extremely low incidence of shootings)."
      ]
    }
  ]
}