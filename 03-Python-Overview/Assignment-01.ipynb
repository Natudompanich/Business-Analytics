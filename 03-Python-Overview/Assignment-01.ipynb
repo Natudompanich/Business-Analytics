{
 "cells": [
  {
   "cell_type": "markdown",
   "metadata": {},
   "source": [
    "This exercise is to test your understanding of Python basics.\n",
    "\n",
    "Answer the questions and complete the tasks outlined below; use the specific method described if applicable. In order to get complete points on your homework assigment you have to a) complete this notebook, b) based on your results answer the multiple choice questions on QoestromTools, and c) upload your completed notebook to the last question of the assignment. Both your notebook and your answers will be graded.\n",
    "\n",
    "# Question 1\n",
    "**What is 9 to the power of 7?**"
   ]
  },
  {
   "cell_type": "code",
   "execution_count": 1,
   "metadata": {},
   "outputs": [],
   "source": [
    "# Your answer goes here\n"
   ]
  },
  {
   "cell_type": "markdown",
   "metadata": {},
   "source": [
    "# Question 2\n",
    "\n",
    "**What is the quotient and remainder of 453634/34?**"
   ]
  },
  {
   "cell_type": "code",
   "execution_count": 2,
   "metadata": {},
   "outputs": [
    {
     "name": "stdout",
     "output_type": "stream",
     "text": [
      "Quotient of 453634//34:\n",
      "Remainder of 453634//34:\n"
     ]
    }
   ],
   "source": [
    "# Your answer goes here\n",
    "print('Quotient of 453634//34:')\n",
    "print('Remainder of 453634//34:')"
   ]
  },
  {
   "cell_type": "markdown",
   "metadata": {},
   "source": [
    "# Question 3\n",
    "\n",
    "Write a statement to check whether `a` is a multiple of 7 and within the range of [1000, 1800) or (0, 300]. \n",
    "\n",
    "**What is the outcome of `a = 833`?**\n",
    "\n",
    "Note: (0, 300] represents a range from 0 to 300, where 0 is not included in the range, but 300 is."
   ]
  },
  {
   "cell_type": "code",
   "execution_count": 3,
   "metadata": {},
   "outputs": [],
   "source": [
    "a = 833"
   ]
  },
  {
   "cell_type": "code",
   "execution_count": 4,
   "metadata": {},
   "outputs": [],
   "source": [
    "# Your answer goes here\n"
   ]
  },
  {
   "cell_type": "markdown",
   "metadata": {},
   "source": [
    "# Question 4\n",
    "\n",
    "**Given this nested list, what indexing yields to the word \"hello\"?**"
   ]
  },
  {
   "cell_type": "code",
   "execution_count": 5,
   "metadata": {},
   "outputs": [
    {
     "name": "stdout",
     "output_type": "stream",
     "text": [
      "[[5, [100, 200, {'target': [1, 2, 3, 'hello']}], 23, 11], 1, 71, 2, [3, 4], 'bye']\n"
     ]
    }
   ],
   "source": [
    "lst = [[5,[100,200,{'target':[1,2,3,'hello']}],23,11],1,71,2,[3,4],'bye']\n",
    "print(lst)"
   ]
  },
  {
   "cell_type": "code",
   "execution_count": 6,
   "metadata": {},
   "outputs": [],
   "source": [
    "# Your answer goes here\n"
   ]
  },
  {
   "cell_type": "markdown",
   "metadata": {},
   "source": [
    "# Question 5\n",
    "\n",
    "Using a list comprehension, create a new list out of the list `L1`, which contains only the even numbers from `L1`, and converts them into absolute values (using `abs()` function). Call this new list `L2`.\n",
    "\n",
    "**What is the sum of all of the elements of `L2`?** \n",
    "\n",
    "Hint: Use `sum(L2)` to get the sum of all the elements."
   ]
  },
  {
   "cell_type": "code",
   "execution_count": 7,
   "metadata": {},
   "outputs": [],
   "source": [
    "L1 = [64,  34, 112,  91,  62,  40, 117,  80,  96,  34,  48,  -9, -33,\n",
    "      99,  16, 118, -51,  60, 115,   4, -10,  82,  -7,  77, -33, -40,\n",
    "      77,  90,  -9,  52, -44,  25, -43,  28, -37,  92,  25, -45,   3,\n",
    "      103,  22,  39, -52,  74, -54, -76, -10,   5, -54,  95, -59,  -2,\n",
    "      110,  63, -53, 113, -43,  18,  49, -20,  81, -67,   1,  38, -24,\n",
    "      57, -11, -69, -66, -67, -68, -16,  64, -34,  52, -37,  -7, -40,\n",
    "      11,  -3,  76,  91, -57, -48, -10, -16,  14,  13, -65]"
   ]
  },
  {
   "cell_type": "code",
   "execution_count": 8,
   "metadata": {},
   "outputs": [],
   "source": [
    "# Your answer goes here\n"
   ]
  },
  {
   "cell_type": "markdown",
   "metadata": {},
   "source": [
    "# Question 6\n",
    "\n",
    "Write a function that receives a list of integer numbers and returns a list of numbers that are multiples of 4. Call this function `mult4_filter()`.\n",
    "\n",
    "**Given the list `L3` below how many elements the outcome of `mult4_filter(L3)` has?**\n",
    "\n",
    "Hint: use `len(mult4_filter(L3))` to get the number of elements."
   ]
  },
  {
   "cell_type": "code",
   "execution_count": 9,
   "metadata": {},
   "outputs": [],
   "source": [
    "L3 = [15, 11,  1,  3, 13,  3, 14, 16, 17, 17,  6, 18, 10, 19,  8,  1, 18,\n",
    "      17, 14,  1,  5,  2, 13,  0,  1, 13, 16,  8,  5, 11, 12,  8, 17, 14,\n",
    "      10, 18, 17, 16,  3,  7,  8, 15, 18,  7, 10,  5,  7, 16,  6,  5]"
   ]
  },
  {
   "cell_type": "code",
   "execution_count": 10,
   "metadata": {},
   "outputs": [],
   "source": [
    "# Your answer goes here\n",
    "def mult4_filter(L):\n",
    "    # Your code goes here\n",
    "    return"
   ]
  }
 ],
 "metadata": {
  "kernelspec": {
   "display_name": "Python 3",
   "language": "python",
   "name": "python3"
  },
  "language_info": {
   "codemirror_mode": {
    "name": "ipython",
    "version": 3
   },
   "file_extension": ".py",
   "mimetype": "text/x-python",
   "name": "python",
   "nbconvert_exporter": "python",
   "pygments_lexer": "ipython3",
   "version": "3.7.2"
  }
 },
 "nbformat": 4,
 "nbformat_minor": 2
}
